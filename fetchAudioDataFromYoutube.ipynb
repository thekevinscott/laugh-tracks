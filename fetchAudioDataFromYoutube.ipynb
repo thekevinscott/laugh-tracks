{
 "cells": [
  {
   "cell_type": "code",
   "execution_count": 1,
   "metadata": {},
   "outputs": [],
   "source": [
    "def installDeps():\n",
    "    !pip install numpy scipy\n",
    "    !pip install resampy tensorflow six\n",
    "    !pip install youtube_dl\n",
    "    !pip install ipywidgets\n",
    "    !pip install pydub\n",
    "    !pip install tqdm\n",
    "    !pip install ffmpeg-python\n",
    "    !apt-get install ffmpeg"
   ]
  },
  {
   "cell_type": "code",
   "execution_count": 7,
   "metadata": {},
   "outputs": [],
   "source": [
    "from audioUtils import downloadYtAndSliceBy\n",
    "import IPython.display as ipd\n",
    "import os\n",
    "\n",
    "if not os.path.isdir(\"samples\"):\n",
    "    !mkdir samples\n",
    "if not os.path.isdir(\"samples/laughter\"):\n",
    "    !mkdir samples/laughter\n",
    "if not os.path.isdir(\"samples/notlaughter\"):    \n",
    "    !mkdir samples/notlaughter\n",
    "\n",
    "if not os.path.isdir(\"samples/noise\"):    \n",
    "    !mkdir samples/noise\n"
   ]
  },
  {
   "cell_type": "code",
   "execution_count": 9,
   "metadata": {},
   "outputs": [],
   "source": [
    "laughter = [\n",
    "    'rHV09L1_t0g',\n",
    "    '3IC76o_lhFw',\n",
    "    'ySkafsRm9po',\n",
    "    'IlMPU4AVU20',\n",
    "    'C80iIItZHFM',\n",
    "    \n",
    "    'At6oITvbENo',\n",
    "    '4B06Bh3i8Ms',\n",
    "    'R1hbmMfoT9c',\n",
    "    'bUTY_c6S3VI',\n",
    "    '4z12ijqiFrY',\n",
    "    \n",
    "    'EzS7y_3GhKA',\n",
    "    'Pz_DMUe4tXc',\n",
    "    '3LG9A7fUrPs',\n",
    "    'mbgrSdRs9bQ',\n",
    "    'iYVO5bUFww0',\n",
    "    \n",
    "    'DZZORgAVFJw',\n",
    "    'fVXpJNZYDH0',\n",
    "    'IlMPU4AVU20',\n",
    "    'w0E3rEy4YPQ',\n",
    "    'b7KR9nQbhmQ',\n",
    "    \n",
    "    'T_wNZhcw9x8',\n",
    "    '16-lfVsYaxc',\n",
    "    'nKo-dvnh6J0',\n",
    "]\n",
    "notlaughter = [\n",
    "    #sunny in philadelphia\n",
    "    'pM8kz_r2vqw',\n",
    "    'EguZb3oSBJs',\n",
    "    '-yUafzOXHPE',\n",
    "    '8CdzyfNXcDI',\n",
    "    'HvWhMI2wnPs',\n",
    "    \n",
    "    #arrested development\n",
    "    'AiMPSc2nU-A',\n",
    "    'b0bUuVlesqw',\n",
    "    'TAqo-NZDuys',\n",
    "    '4kVGNFYjTH8',\n",
    "    '2tOwd3p7TsE',\n",
    "    \n",
    "    #silicon valley\n",
    "    'vJROVOsmz2I',\n",
    "    '-2QjmYDtjv8',\n",
    "    '2-OQhot_ml0',\n",
    "    'lRvqEjJ6yMU',\n",
    "    '_zTpwNR5Bf4',\n",
    "    \n",
    "    #curb your enthusiasm\n",
    "    'm7BgOYPNTlA',\n",
    "    '8OIH5gxUV1M',\n",
    "    'DUFBEamEF0Q',\n",
    "    'hg6f7hh67aw',\n",
    "    'Y3klZeiEkRY',\n",
    "    \n",
    "    #nonsense\n",
    "    'zqAKTEfFOII',\n",
    "    'Abggf-4fseY',\n",
    "    '-ABggF-Eq-U',\n",
    "]\n",
    "\n",
    "noise = [\n",
    "    'ZU8kk41nN0w',\n",
    "    'UhH22WrcsyE',\n",
    "    'Doq4gQU4hl8',\n",
    "]"
   ]
  },
  {
   "cell_type": "code",
   "execution_count": 10,
   "metadata": {},
   "outputs": [
    {
     "name": "stdout",
     "output_type": "stream",
     "text": [
      "id ZU8kk41nN0w seconds per segment 240\n",
      "id UhH22WrcsyE seconds per segment 240\n",
      "id Doq4gQU4hl8 seconds per segment 240\n"
     ]
    }
   ],
   "source": [
    "#for idx in laughter:\n",
    "#    directory = downloadYtAndSliceBy(idx, 'samples/laughter', seconds_per_segment = 60*4)\n",
    "\n",
    "#for idx in notlaughter:\n",
    "#    directory = downloadYtAndSliceBy(idx, 'samples/notlaughter', seconds_per_segment = 60*4)\n",
    "    \n",
    "for idx in noise:\n",
    "    directory = downloadYtAndSliceBy(idx, 'samples/noise', seconds_per_segment = 60*4)\n",
    "\n",
    "    "
   ]
  },
  {
   "cell_type": "code",
   "execution_count": 11,
   "metadata": {},
   "outputs": [
    {
     "name": "stdout",
     "output_type": "stream",
     "text": [
      "laughter  noise  notlaughter\n",
      "16-lfVsYaxc  4z12ijqiFrY  EzS7y_3GhKA  T_wNZhcw9x8  iYVO5bUFww0  w0E3rEy4YPQ\n",
      "3IC76o_lhFw  At6oITvbENo  IlMPU4AVU20  b7KR9nQbhmQ  mbgrSdRs9bQ  ySkafsRm9po\n",
      "3LG9A7fUrPs  C80iIItZHFM  Pz_DMUe4tXc  bUTY_c6S3VI  nKo-dvnh6J0\n",
      "4B06Bh3i8Ms  DZZORgAVFJw  R1hbmMfoT9c  fVXpJNZYDH0  rHV09L1_t0g\n",
      "-2QjmYDtjv8  2tOwd3p7TsE  Abggf-4fseY  HvWhMI2wnPs  b0bUuVlesqw  pM8kz_r2vqw\n",
      "-ABggF-Eq-U  4kVGNFYjTH8  AiMPSc2nU-A  TAqo-NZDuys  hg6f7hh67aw  vJROVOsmz2I\n",
      "-yUafzOXHPE  8CdzyfNXcDI  DUFBEamEF0Q  Y3klZeiEkRY  lRvqEjJ6yMU  zqAKTEfFOII\n",
      "2-OQhot_ml0  8OIH5gxUV1M  EguZb3oSBJs  _zTpwNR5Bf4  m7BgOYPNTlA\n",
      "Doq4gQU4hl8  UhH22WrcsyE  ZU8kk41nN0w\n"
     ]
    }
   ],
   "source": [
    "!ls samples\n",
    "!ls samples/laughter\n",
    "!ls samples/notlaughter\n",
    "!ls samples/noise"
   ]
  },
  {
   "cell_type": "code",
   "execution_count": null,
   "metadata": {},
   "outputs": [],
   "source": []
  }
 ],
 "metadata": {
  "kernelspec": {
   "display_name": "Python 3",
   "language": "python",
   "name": "python3"
  },
  "language_info": {
   "codemirror_mode": {
    "name": "ipython",
    "version": 3
   },
   "file_extension": ".py",
   "mimetype": "text/x-python",
   "name": "python",
   "nbconvert_exporter": "python",
   "pygments_lexer": "ipython3",
   "version": "3.5.2"
  }
 },
 "nbformat": 4,
 "nbformat_minor": 2
}
