{
 "cells": [
  {
   "cell_type": "markdown",
   "metadata": {},
   "source": [
    "# License"
   ]
  },
  {
   "cell_type": "code",
   "execution_count": 3,
   "metadata": {},
   "outputs": [
    {
     "name": "stdout",
     "output_type": "stream",
     "text": [
      "Requirement already satisfied: numpy in ./env/lib/python3.6/site-packages (1.15.2)\n",
      "Requirement already satisfied: scipy in ./env/lib/python3.6/site-packages (1.1.0)\n",
      "Requirement already satisfied: resampy in ./env/lib/python3.6/site-packages (0.2.1)\n",
      "Requirement already satisfied: tensorflow in ./env/lib/python3.6/site-packages (1.10.1)\n",
      "Requirement already satisfied: six in ./env/lib/python3.6/site-packages (1.11.0)\n",
      "Requirement already satisfied: numba>=0.32 in ./env/lib/python3.6/site-packages (from resampy) (0.40.0)\n",
      "Requirement already satisfied: numpy>=1.10 in ./env/lib/python3.6/site-packages (from resampy) (1.15.2)\n",
      "Requirement already satisfied: scipy>=0.13 in ./env/lib/python3.6/site-packages (from resampy) (1.1.0)\n",
      "Requirement already satisfied: grpcio>=1.8.6 in ./env/lib/python3.6/site-packages (from tensorflow) (1.15.0)\n",
      "Requirement already satisfied: termcolor>=1.1.0 in ./env/lib/python3.6/site-packages (from tensorflow) (1.1.0)\n",
      "Requirement already satisfied: setuptools<=39.1.0 in ./env/lib/python3.6/site-packages (from tensorflow) (39.1.0)\n",
      "Requirement already satisfied: wheel>=0.26 in ./env/lib/python3.6/site-packages (from tensorflow) (0.31.1)\n",
      "Requirement already satisfied: protobuf>=3.6.0 in ./env/lib/python3.6/site-packages (from tensorflow) (3.6.1)\n",
      "Requirement already satisfied: tensorboard<1.11.0,>=1.10.0 in ./env/lib/python3.6/site-packages (from tensorflow) (1.10.0)\n",
      "Requirement already satisfied: absl-py>=0.1.6 in ./env/lib/python3.6/site-packages (from tensorflow) (0.5.0)\n",
      "Requirement already satisfied: astor>=0.6.0 in ./env/lib/python3.6/site-packages (from tensorflow) (0.7.1)\n",
      "Requirement already satisfied: gast>=0.2.0 in ./env/lib/python3.6/site-packages (from tensorflow) (0.2.0)\n",
      "Requirement already satisfied: llvmlite>=0.25.0dev0 in ./env/lib/python3.6/site-packages (from numba>=0.32->resampy) (0.25.0)\n",
      "Requirement already satisfied: markdown>=2.6.8 in ./env/lib/python3.6/site-packages (from tensorboard<1.11.0,>=1.10.0->tensorflow) (3.0)\n",
      "Requirement already satisfied: werkzeug>=0.11.10 in ./env/lib/python3.6/site-packages (from tensorboard<1.11.0,>=1.10.0->tensorflow) (0.14.1)\n",
      "Requirement already satisfied: youtube_dl in ./env/lib/python3.6/site-packages (2018.9.18)\n",
      "Requirement already satisfied: ipywidgets in ./env/lib/python3.6/site-packages (7.1.0)\n",
      "Requirement already satisfied: widgetsnbextension~=3.1.0 in ./env/lib/python3.6/site-packages (from ipywidgets) (3.1.4)\n",
      "Requirement already satisfied: ipykernel>=4.5.1 in ./env/lib/python3.6/site-packages (from ipywidgets) (4.9.0)\n",
      "Requirement already satisfied: nbformat>=4.2.0 in ./env/lib/python3.6/site-packages (from ipywidgets) (4.4.0)\n",
      "Requirement already satisfied: traitlets>=4.3.1 in ./env/lib/python3.6/site-packages (from ipywidgets) (4.3.2)\n",
      "Requirement already satisfied: ipython>=4.0.0; python_version >= \"3.3\" in ./env/lib/python3.6/site-packages (from ipywidgets) (5.7.0)\n",
      "Requirement already satisfied: notebook>=4.4.1 in ./env/lib/python3.6/site-packages (from widgetsnbextension~=3.1.0->ipywidgets) (5.7.0)\n",
      "Requirement already satisfied: jupyter-client in ./env/lib/python3.6/site-packages (from ipykernel>=4.5.1->ipywidgets) (5.2.3)\n",
      "Requirement already satisfied: tornado>=4.0 in ./env/lib/python3.6/site-packages (from ipykernel>=4.5.1->ipywidgets) (5.1.1)\n",
      "Requirement already satisfied: jupyter-core in ./env/lib/python3.6/site-packages (from nbformat>=4.2.0->ipywidgets) (4.4.0)\n",
      "Requirement already satisfied: ipython-genutils in ./env/lib/python3.6/site-packages (from nbformat>=4.2.0->ipywidgets) (0.2.0)\n",
      "Requirement already satisfied: jsonschema!=2.5.0,>=2.4 in ./env/lib/python3.6/site-packages (from nbformat>=4.2.0->ipywidgets) (2.6.0)\n",
      "Requirement already satisfied: six in ./env/lib/python3.6/site-packages (from traitlets>=4.3.1->ipywidgets) (1.11.0)\n",
      "Requirement already satisfied: decorator in ./env/lib/python3.6/site-packages (from traitlets>=4.3.1->ipywidgets) (4.3.0)\n",
      "Requirement already satisfied: setuptools>=18.5 in ./env/lib/python3.6/site-packages (from ipython>=4.0.0; python_version >= \"3.3\"->ipywidgets) (39.1.0)\n",
      "Requirement already satisfied: pexpect; sys_platform != \"win32\" in ./env/lib/python3.6/site-packages (from ipython>=4.0.0; python_version >= \"3.3\"->ipywidgets) (4.6.0)\n",
      "Requirement already satisfied: appnope; sys_platform == \"darwin\" in ./env/lib/python3.6/site-packages (from ipython>=4.0.0; python_version >= \"3.3\"->ipywidgets) (0.1.0)\n",
      "Requirement already satisfied: prompt-toolkit<2.0.0,>=1.0.4 in ./env/lib/python3.6/site-packages (from ipython>=4.0.0; python_version >= \"3.3\"->ipywidgets) (1.0.15)\n",
      "Requirement already satisfied: simplegeneric>0.8 in ./env/lib/python3.6/site-packages (from ipython>=4.0.0; python_version >= \"3.3\"->ipywidgets) (0.8.1)\n",
      "Requirement already satisfied: pickleshare in ./env/lib/python3.6/site-packages (from ipython>=4.0.0; python_version >= \"3.3\"->ipywidgets) (0.7.4)\n",
      "Requirement already satisfied: pygments in ./env/lib/python3.6/site-packages (from ipython>=4.0.0; python_version >= \"3.3\"->ipywidgets) (2.2.0)\n",
      "Requirement already satisfied: pyzmq>=17 in ./env/lib/python3.6/site-packages (from notebook>=4.4.1->widgetsnbextension~=3.1.0->ipywidgets) (17.1.2)\n",
      "Requirement already satisfied: nbconvert in ./env/lib/python3.6/site-packages (from notebook>=4.4.1->widgetsnbextension~=3.1.0->ipywidgets) (5.4.0)\n",
      "Requirement already satisfied: jinja2 in ./env/lib/python3.6/site-packages (from notebook>=4.4.1->widgetsnbextension~=3.1.0->ipywidgets) (2.10)\n",
      "Requirement already satisfied: terminado>=0.8.1 in ./env/lib/python3.6/site-packages (from notebook>=4.4.1->widgetsnbextension~=3.1.0->ipywidgets) (0.8.1)\n",
      "Requirement already satisfied: Send2Trash in ./env/lib/python3.6/site-packages (from notebook>=4.4.1->widgetsnbextension~=3.1.0->ipywidgets) (1.5.0)\n",
      "Requirement already satisfied: prometheus-client in ./env/lib/python3.6/site-packages (from notebook>=4.4.1->widgetsnbextension~=3.1.0->ipywidgets) (0.3.1)\n",
      "Requirement already satisfied: python-dateutil>=2.1 in ./env/lib/python3.6/site-packages (from jupyter-client->ipykernel>=4.5.1->ipywidgets) (2.7.3)\n",
      "Requirement already satisfied: ptyprocess>=0.5 in ./env/lib/python3.6/site-packages (from pexpect; sys_platform != \"win32\"->ipython>=4.0.0; python_version >= \"3.3\"->ipywidgets) (0.6.0)\n",
      "Requirement already satisfied: wcwidth in ./env/lib/python3.6/site-packages (from prompt-toolkit<2.0.0,>=1.0.4->ipython>=4.0.0; python_version >= \"3.3\"->ipywidgets) (0.1.7)\n",
      "Requirement already satisfied: entrypoints>=0.2.2 in ./env/lib/python3.6/site-packages (from nbconvert->notebook>=4.4.1->widgetsnbextension~=3.1.0->ipywidgets) (0.2.3)\n",
      "Requirement already satisfied: testpath in ./env/lib/python3.6/site-packages (from nbconvert->notebook>=4.4.1->widgetsnbextension~=3.1.0->ipywidgets) (0.3.1)\n",
      "Requirement already satisfied: bleach in ./env/lib/python3.6/site-packages (from nbconvert->notebook>=4.4.1->widgetsnbextension~=3.1.0->ipywidgets) (2.1.4)\n",
      "Requirement already satisfied: defusedxml in ./env/lib/python3.6/site-packages (from nbconvert->notebook>=4.4.1->widgetsnbextension~=3.1.0->ipywidgets) (0.5.0)\n",
      "Requirement already satisfied: mistune>=0.8.1 in ./env/lib/python3.6/site-packages (from nbconvert->notebook>=4.4.1->widgetsnbextension~=3.1.0->ipywidgets) (0.8.3)\n",
      "Requirement already satisfied: pandocfilters>=1.4.1 in ./env/lib/python3.6/site-packages (from nbconvert->notebook>=4.4.1->widgetsnbextension~=3.1.0->ipywidgets) (1.4.2)\n",
      "Requirement already satisfied: MarkupSafe>=0.23 in ./env/lib/python3.6/site-packages (from jinja2->notebook>=4.4.1->widgetsnbextension~=3.1.0->ipywidgets) (1.0)\n",
      "Requirement already satisfied: html5lib!=1.0b1,!=1.0b2,!=1.0b3,!=1.0b4,!=1.0b5,!=1.0b6,!=1.0b7,!=1.0b8,>=0.99999999pre in ./env/lib/python3.6/site-packages (from bleach->nbconvert->notebook>=4.4.1->widgetsnbextension~=3.1.0->ipywidgets) (1.0.1)\n",
      "Requirement already satisfied: webencodings in ./env/lib/python3.6/site-packages (from html5lib!=1.0b1,!=1.0b2,!=1.0b3,!=1.0b4,!=1.0b5,!=1.0b6,!=1.0b7,!=1.0b8,>=0.99999999pre->bleach->nbconvert->notebook>=4.4.1->widgetsnbextension~=3.1.0->ipywidgets) (0.5.1)\n",
      "Requirement already satisfied: pydub in ./env/lib/python3.6/site-packages (0.23.0)\n",
      "Requirement already satisfied: tqdm in ./env/lib/python3.6/site-packages (4.26.0)\n"
     ]
    },
    {
     "name": "stdout",
     "output_type": "stream",
     "text": [
      "Requirement already satisfied: ffmpeg-python in ./env/lib/python3.6/site-packages (0.1.16)\n",
      "Requirement already satisfied: future in ./env/lib/python3.6/site-packages (from ffmpeg-python) (0.16.0)\n",
      "/bin/sh: apt-get: command not found\n",
      "--2018-09-23 18:28:31--  https://storage.googleapis.com/audioset/vggish_pca_params.npz\n",
      "Resolving storage.googleapis.com... 172.217.12.208\n",
      "Connecting to storage.googleapis.com|172.217.12.208|:443... connected.\n",
      "HTTP request sent, awaiting response... 200 OK\n",
      "Length: 73020 (71K) [application/octet-stream]\n",
      "Saving to: 'vggish_pca_params.npz'\n",
      "\n",
      "vggish_pca_params.n 100%[===================>]  71.31K  --.-KB/s    in 0.04s   \n",
      "\n",
      "2018-09-23 18:28:31 (1.98 MB/s) - 'vggish_pca_params.npz' saved [73020/73020]\n",
      "\n"
     ]
    }
   ],
   "source": [
    "# Copyright 2017 The TensorFlow Authors All Rights Reserved.\n",
    "#\n",
    "# Licensed under the Apache License, Version 2.0 (the \"License\");\n",
    "# you may not use this file except in compliance with the License.\n",
    "# You may obtain a copy of the License at\n",
    "#\n",
    "#     http://www.apache.org/licenses/LICENSE-2.0\n",
    "#\n",
    "# Unless required by applicable law or agreed to in writing, software\n",
    "# distributed under the License is distributed on an \"AS IS\" BASIS,\n",
    "# WITHOUT WARRANTIES OR CONDITIONS OF ANY KIND, either express or implied.\n",
    "# See the License for the specific language governing permissions and\n",
    "# limitations under the License.\n",
    "# ==============================================================================\n",
    "\n",
    "def installDeps():\n",
    "    !pip install numpy scipy\n",
    "    !pip install resampy tensorflow six\n",
    "    !pip install youtube_dl\n",
    "    !pip install ipywidgets\n",
    "    !pip install pydub\n",
    "    !pip install tqdm\n",
    "    !pip install ffmpeg-python\n",
    "    !apt-get install ffmpeg\n",
    "    #!wget https://storage.googleapis.com/audioset/vggish_model.ckpt\n",
    "    #!wget https://storage.googleapis.com/audioset/vggish_pca_params.npz\n",
    "installDeps()\n",
    "#!python vggish_train_demo.py --num_batches 50 --train_vggish=False --checkpoint './vggish_model.ckpt'\n",
    "\n",
    "from __future__ import print_function\n",
    "\n",
    "from random import shuffle\n",
    "\n",
    "import numpy as np\n",
    "import tensorflow as tf\n",
    "import os\n",
    "import vggish_input\n",
    "import vggish_params\n",
    "import vggish_slim\n",
    "from pydub import AudioSegment\n",
    "from audioModel import predict, train\n",
    "from audioInput import getLaughTracks, getNoise\n",
    "slim = tf.contrib.slim\n",
    "\n",
    "def trainAndSaveAndPredict(test_data, number_of_classes = 2, number_of_samples = 1, epochs = 5, getData = getLaughTracks, use_cache = True, log = True):\n",
    "    def curriedGetSamples(shuf):\n",
    "        return getData(number_of_samples = number_of_samples, shuf = shuf, use_cache = use_cache, log = log)\n",
    "    model_name = 'model_%s_%s' % (number_of_samples, epochs)\n",
    "    preds = train(curriedGetSamples, number_of_classes, model_name = model_name, epochs = epochs)\n",
    "    \n",
    "\n",
    "    return predict(model_name, number_of_classes, test_data)\n",
    "\n",
    "def printResults(preds, expected = None): \n",
    "    with tf.Graph().as_default(), tf.Session() as sess:\n",
    "        print(preds)\n",
    "        print(sess.run(tf.argmax(input=preds, axis=1))) \n",
    "        print('expected results', expected)\n",
    "\n",
    "def trainForNoise(number_of_samples=5, epochs=5):\n",
    "    use_cache = False\n",
    "    print('training on noise, sin, and constant waves')\n",
    "    (features, labels) = getNoise(shuf=False, number_of_samples = 2)\n",
    "    preds = trainAndSaveAndPredict(features, number_of_classes = 3, number_of_samples = number_of_samples, epochs = epochs, getData = getNoise)\n",
    "    printResults(preds, [0, 0, 1, 1, 2, 2])\n",
    "    \n",
    "def trainForLaughter(number_of_samples=5, epochs=5):  \n",
    "    use_cache = False\n",
    "    print('training on laughter and not laughter')\n",
    "    (features, labels) = getLaughTracks(shuf=False, number_of_samples = 2, use_cache = use_cache, use_full_files = False, log=False)\n",
    "    preds = trainAndSaveAndPredict(features, number_of_classes = 2, number_of_samples = number_of_samples, epochs = epochs, getData = getLaughTracks, use_cache = use_cache, log = False)\n",
    "    printResults(preds, [0, 0, 1, 1])"
   ]
  },
  {
   "cell_type": "code",
   "execution_count": 4,
   "metadata": {},
   "outputs": [
    {
     "name": "stdout",
     "output_type": "stream",
     "text": [
      "training on laughter and not laughter\n",
      "INFO:tensorflow:Restoring parameters from ./vggish_model.ckpt\n",
      "Step 1: loss 0.691555\n",
      "INFO:tensorflow:Restoring parameters from ./vggish_model.ckpt\n",
      "INFO:tensorflow:Restoring parameters from ./model/model_1_1\n",
      "[[0.49445516 0.54533243]\n",
      " [0.43917602 0.61637205]\n",
      " [0.46065295 0.6182625 ]\n",
      " [0.4272686  0.6017852 ]]\n",
      "[1 1 1 1]\n",
      "expected results [0, 0, 1, 1]\n"
     ]
    }
   ],
   "source": [
    "trainForLaughter(number_of_samples=1, epochs=1)"
   ]
  },
  {
   "cell_type": "code",
   "execution_count": 5,
   "metadata": {},
   "outputs": [
    {
     "name": "stdout",
     "output_type": "stream",
     "text": [
      "training on laughter and not laughter\n",
      "INFO:tensorflow:Restoring parameters from ./vggish_model.ckpt\n",
      "Step 1: loss 0.701443\n",
      "Step 2: loss 0.678392\n",
      "Step 3: loss 0.657077\n",
      "INFO:tensorflow:Restoring parameters from ./vggish_model.ckpt\n",
      "INFO:tensorflow:Restoring parameters from ./model/model_3_3\n",
      "[[0.59544694 0.39253926]\n",
      " [0.63829833 0.37715247]\n",
      " [0.5483389  0.47430268]\n",
      " [0.5759331  0.44201037]]\n",
      "[0 0 0 0]\n",
      "expected results [0, 0, 1, 1]\n"
     ]
    }
   ],
   "source": [
    "trainForLaughter(number_of_samples=3, epochs=3)"
   ]
  },
  {
   "cell_type": "code",
   "execution_count": 6,
   "metadata": {},
   "outputs": [
    {
     "name": "stdout",
     "output_type": "stream",
     "text": [
      "training on laughter and not laughter\n",
      "INFO:tensorflow:Restoring parameters from ./vggish_model.ckpt\n",
      "Step 1: loss 0.711764\n",
      "Step 2: loss 0.678519\n",
      "Step 3: loss 0.665346\n",
      "Step 4: loss 0.638338\n",
      "Step 5: loss 0.619232\n",
      "INFO:tensorflow:Restoring parameters from ./vggish_model.ckpt\n",
      "INFO:tensorflow:Restoring parameters from ./model/model_5_5\n",
      "[[0.4671507  0.4948345 ]\n",
      " [0.57178277 0.4467245 ]\n",
      " [0.4347837  0.54266155]\n",
      " [0.4794064  0.54114735]]\n",
      "[1 0 1 1]\n",
      "expected results [0, 0, 1, 1]\n"
     ]
    }
   ],
   "source": [
    "trainForLaughter(number_of_samples=5, epochs=5)"
   ]
  },
  {
   "cell_type": "code",
   "execution_count": 7,
   "metadata": {},
   "outputs": [
    {
     "name": "stdout",
     "output_type": "stream",
     "text": [
      "training on laughter and not laughter\n",
      "INFO:tensorflow:Restoring parameters from ./vggish_model.ckpt\n",
      "Step 1: loss 0.714611\n",
      "Step 2: loss 0.692178\n",
      "Step 3: loss 0.683827\n",
      "Step 4: loss 0.674197\n",
      "Step 5: loss 0.6581\n",
      "Step 7: loss 0.624655\n",
      "Step 8: loss 0.608556\n",
      "Step 9: loss 0.59425\n",
      "Step 10: loss 0.578849\n",
      "INFO:tensorflow:Restoring parameters from ./vggish_model.ckpt\n",
      "INFO:tensorflow:Restoring parameters from ./model/model_10_10\n",
      "[[0.62925553 0.42127648]\n",
      " [0.70041484 0.37787944]\n",
      " [0.5244432  0.52259976]\n",
      " [0.55212754 0.4606842 ]]\n",
      "[0 0 0 0]\n",
      "expected results [0, 0, 1, 1]\n"
     ]
    }
   ],
   "source": [
    "trainForLaughter(number_of_samples=10, epochs=10)"
   ]
  },
  {
   "cell_type": "code",
   "execution_count": null,
   "metadata": {},
   "outputs": [
    {
     "name": "stdout",
     "output_type": "stream",
     "text": [
      "training on laughter and not laughter\n",
      "INFO:tensorflow:Restoring parameters from ./vggish_model.ckpt\n",
      "Step 1: loss 0.780964\n",
      "Step 2: loss 0.734711\n",
      "Step 3: loss 0.720537\n",
      "Step 4: loss 0.71358\n",
      "Step 5: loss 0.702921\n",
      "Step 6: loss 0.689022\n"
     ]
    }
   ],
   "source": [
    "trainForLaughter(number_of_samples=20, epochs=10)"
   ]
  },
  {
   "cell_type": "code",
   "execution_count": null,
   "metadata": {},
   "outputs": [],
   "source": [
    "trainForLaughter(number_of_samples=30, epochs=10)"
   ]
  },
  {
   "cell_type": "code",
   "execution_count": null,
   "metadata": {},
   "outputs": [],
   "source": [
    "trainForLaughter(number_of_samples=40, epochs=10)"
   ]
  },
  {
   "cell_type": "code",
   "execution_count": null,
   "metadata": {},
   "outputs": [],
   "source": [
    "trainForLaughter(number_of_samples=50, epochs=10)"
   ]
  },
  {
   "cell_type": "code",
   "execution_count": null,
   "metadata": {},
   "outputs": [
    {
     "name": "stdout",
     "output_type": "stream",
     "text": [
      "training on laughter and not laughter\n",
      "INFO:tensorflow:Restoring parameters from ./vggish_model.ckpt\n"
     ]
    }
   ],
   "source": [
    "trainForLaughter(number_of_samples=50, epochs=50)"
   ]
  },
  {
   "cell_type": "code",
   "execution_count": null,
   "metadata": {},
   "outputs": [],
   "source": [
    "trainForLaughter(number_of_samples=100, epochs=100)"
   ]
  },
  {
   "cell_type": "code",
   "execution_count": null,
   "metadata": {},
   "outputs": [
    {
     "name": "stdout",
     "output_type": "stream",
     "text": [
      "training on laughter and not laughter\n",
      "INFO:tensorflow:Restoring parameters from ./vggish_model.ckpt\n"
     ]
    }
   ],
   "source": [
    "trainForLaughter(number_of_samples=999999, epochs=1)"
   ]
  },
  {
   "cell_type": "code",
   "execution_count": null,
   "metadata": {},
   "outputs": [],
   "source": [
    "trainForLaughter(number_of_samples=999999, epochs=10)"
   ]
  },
  {
   "cell_type": "code",
   "execution_count": null,
   "metadata": {},
   "outputs": [],
   "source": [
    "trainForLaughter(number_of_samples=999999, epochs=100)"
   ]
  },
  {
   "cell_type": "code",
   "execution_count": null,
   "metadata": {},
   "outputs": [],
   "source": [
    "trainForLaughter(number_of_samples=100, epochs=1)"
   ]
  },
  {
   "cell_type": "code",
   "execution_count": null,
   "metadata": {},
   "outputs": [],
   "source": [
    "trainForLaughter(number_of_samples=100, epochs=10)"
   ]
  },
  {
   "cell_type": "code",
   "execution_count": null,
   "metadata": {},
   "outputs": [],
   "source": []
  }
 ],
 "metadata": {
  "kernelspec": {
   "display_name": "Python 3",
   "language": "python",
   "name": "python3"
  },
  "language_info": {
   "codemirror_mode": {
    "name": "ipython",
    "version": 3
   },
   "file_extension": ".py",
   "mimetype": "text/x-python",
   "name": "python",
   "nbconvert_exporter": "python",
   "pygments_lexer": "ipython3",
   "version": "3.6.4"
  }
 },
 "nbformat": 4,
 "nbformat_minor": 2
}
