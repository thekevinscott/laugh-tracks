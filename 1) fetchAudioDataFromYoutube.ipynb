{
 "cells": [
  {
   "cell_type": "code",
   "execution_count": 1,
   "metadata": {},
   "outputs": [],
   "source": [
    "def installDeps():\n",
    "    !pip install numpy scipy\n",
    "    !pip install resampy tensorflow six\n",
    "    !pip install youtube_dl\n",
    "    !pip install ipywidgets\n",
    "    !pip install pydub\n",
    "    !pip install tqdm\n",
    "    !pip install ffmpeg-python\n",
    "    !apt-get install ffmpeg"
   ]
  },
  {
   "cell_type": "code",
   "execution_count": 2,
   "metadata": {},
   "outputs": [],
   "source": [
    "from audioUtils import downloadYtAndSliceBy\n",
    "import IPython.display as ipd\n",
    "import os\n",
    "\n",
    "if not os.path.isdir(\"samples\"):\n",
    "    !mkdir samples\n",
    "if not os.path.isdir(\"samples/laughter\"):\n",
    "    !mkdir samples/laughter\n",
    "if not os.path.isdir(\"samples/notlaughter\"):    \n",
    "    !mkdir samples/notlaughter\n"
   ]
  },
  {
   "cell_type": "code",
   "execution_count": 3,
   "metadata": {},
   "outputs": [],
   "source": [
    "laughter = [\n",
    "    'rHV09L1_t0g',\n",
    "    '3IC76o_lhFw',\n",
    "    'ySkafsRm9po',\n",
    "    'IlMPU4AVU20',\n",
    "    'C80iIItZHFM',\n",
    "    \n",
    "    'At6oITvbENo',\n",
    "    '4B06Bh3i8Ms',\n",
    "    'R1hbmMfoT9c',\n",
    "    'bUTY_c6S3VI',\n",
    "    '4z12ijqiFrY',\n",
    "    \n",
    "    'EzS7y_3GhKA',\n",
    "    'Pz_DMUe4tXc',\n",
    "    '3LG9A7fUrPs',\n",
    "    'mbgrSdRs9bQ',\n",
    "    'iYVO5bUFww0',\n",
    "    \n",
    "    'DZZORgAVFJw',\n",
    "    'fVXpJNZYDH0',\n",
    "    'IlMPU4AVU20',\n",
    "    'w0E3rEy4YPQ',\n",
    "    'b7KR9nQbhmQ',\n",
    "    \n",
    "    'T_wNZhcw9x8',\n",
    "    '16-lfVsYaxc',\n",
    "    'nKo-dvnh6J0',\n",
    "]\n",
    "notlaughter = [\n",
    "    #sunny in philadelphia\n",
    "    'pM8kz_r2vqw',\n",
    "    'EguZb3oSBJs',\n",
    "    '-yUafzOXHPE',\n",
    "    '8CdzyfNXcDI',\n",
    "    'HvWhMI2wnPs',\n",
    "    \n",
    "    #arrested development\n",
    "    'AiMPSc2nU-A',\n",
    "    'b0bUuVlesqw',\n",
    "    'TAqo-NZDuys',\n",
    "    '4kVGNFYjTH8',\n",
    "    '2tOwd3p7TsE',\n",
    "    \n",
    "    #silicon valley\n",
    "    'vJROVOsmz2I',\n",
    "    '-2QjmYDtjv8',\n",
    "    '2-OQhot_ml0',\n",
    "    'lRvqEjJ6yMU',\n",
    "    '_zTpwNR5Bf4',\n",
    "    \n",
    "    #curb your enthusiasm\n",
    "    'm7BgOYPNTlA',\n",
    "    '8OIH5gxUV1M',\n",
    "    'DUFBEamEF0Q',\n",
    "    'hg6f7hh67aw',\n",
    "    'Y3klZeiEkRY',\n",
    "    \n",
    "    #nonsense\n",
    "    'zqAKTEfFOII',\n",
    "    'Abggf-4fseY',\n",
    "    '-ABggF-Eq-U',\n",
    "]"
   ]
  },
  {
   "cell_type": "code",
   "execution_count": 4,
   "metadata": {},
   "outputs": [
    {
     "name": "stdout",
     "output_type": "stream",
     "text": [
      "id rHV09L1_t0g seconds per segment 240\n",
      "id 3IC76o_lhFw seconds per segment 240\n",
      "id ySkafsRm9po seconds per segment 240\n",
      "id IlMPU4AVU20 seconds per segment 240\n",
      "id C80iIItZHFM seconds per segment 240\n",
      "id At6oITvbENo seconds per segment 240\n",
      "id 4B06Bh3i8Ms seconds per segment 240\n",
      "id R1hbmMfoT9c seconds per segment 240\n",
      "id bUTY_c6S3VI seconds per segment 240\n",
      "id 4z12ijqiFrY seconds per segment 240\n",
      "id EzS7y_3GhKA seconds per segment 240\n",
      "id Pz_DMUe4tXc seconds per segment 240\n",
      "id 3LG9A7fUrPs seconds per segment 240\n",
      "id mbgrSdRs9bQ seconds per segment 240\n",
      "id iYVO5bUFww0 seconds per segment 240\n",
      "id DZZORgAVFJw seconds per segment 240\n",
      "id fVXpJNZYDH0 seconds per segment 240\n",
      "id IlMPU4AVU20 seconds per segment 240\n",
      "id w0E3rEy4YPQ seconds per segment 240\n",
      "id b7KR9nQbhmQ seconds per segment 240\n",
      "id T_wNZhcw9x8 seconds per segment 240\n",
      "id 16-lfVsYaxc seconds per segment 240\n",
      "id nKo-dvnh6J0 seconds per segment 240\n",
      "id pM8kz_r2vqw seconds per segment 240\n",
      "id EguZb3oSBJs seconds per segment 240\n",
      "id -yUafzOXHPE seconds per segment 240\n",
      "id 8CdzyfNXcDI seconds per segment 240\n",
      "id HvWhMI2wnPs seconds per segment 240\n",
      "id AiMPSc2nU-A seconds per segment 240\n",
      "id b0bUuVlesqw seconds per segment 240\n",
      "id TAqo-NZDuys seconds per segment 240\n",
      "id 4kVGNFYjTH8 seconds per segment 240\n",
      "id 2tOwd3p7TsE seconds per segment 240\n",
      "id vJROVOsmz2I seconds per segment 240\n",
      "id -2QjmYDtjv8 seconds per segment 240\n",
      "id 2-OQhot_ml0 seconds per segment 240\n",
      "id lRvqEjJ6yMU seconds per segment 240\n",
      "id _zTpwNR5Bf4 seconds per segment 240\n",
      "id m7BgOYPNTlA seconds per segment 240\n",
      "id 8OIH5gxUV1M seconds per segment 240\n",
      "id DUFBEamEF0Q seconds per segment 240\n",
      "id hg6f7hh67aw seconds per segment 240\n",
      "id Y3klZeiEkRY seconds per segment 240\n",
      "id zqAKTEfFOII seconds per segment 240\n",
      "id Abggf-4fseY seconds per segment 240\n",
      "id -ABggF-Eq-U seconds per segment 240\n"
     ]
    }
   ],
   "source": [
    "for idx in laughter:\n",
    "    directory = downloadYtAndSliceBy(idx, 'samples/laughter', seconds_per_segment = 60*4)\n",
    "for idx in notlaughter:\n",
    "    directory = downloadYtAndSliceBy(idx, 'samples/notlaughter', seconds_per_segment = 60*4)"
   ]
  },
  {
   "cell_type": "code",
   "execution_count": 5,
   "metadata": {},
   "outputs": [
    {
     "name": "stdout",
     "output_type": "stream",
     "text": [
      "laughter  notlaughter\r\n"
     ]
    }
   ],
   "source": [
    "!ls samples"
   ]
  },
  {
   "cell_type": "code",
   "execution_count": null,
   "metadata": {},
   "outputs": [],
   "source": []
  }
 ],
 "metadata": {
  "kernelspec": {
   "display_name": "Python 3",
   "language": "python",
   "name": "python3"
  },
  "language_info": {
   "codemirror_mode": {
    "name": "ipython",
    "version": 3
   },
   "file_extension": ".py",
   "mimetype": "text/x-python",
   "name": "python",
   "nbconvert_exporter": "python",
   "pygments_lexer": "ipython3",
   "version": "3.5.2"
  }
 },
 "nbformat": 4,
 "nbformat_minor": 2
}
