{
 "cells": [
  {
   "cell_type": "code",
   "execution_count": 4,
   "metadata": {},
   "outputs": [],
   "source": [
    "def installDeps():\n",
    "    !pip install numpy scipy\n",
    "    !pip install resampy tensorflow six\n",
    "    !pip install youtube_dl\n",
    "    !pip install ipywidgets\n",
    "    !pip install pydub\n",
    "    !pip install tqdm\n",
    "    !pip install ffmpeg-python\n",
    "    !apt-get install ffmpeg\n",
    "#!python vggish_train_demo.py --num_batches 50 --train_vggish=False --checkpoint './vggish_model.ckpt'\n",
    "\n",
    "from __future__ import print_function\n",
    "\n",
    "from random import shuffle\n",
    "\n",
    "import numpy as np\n",
    "import tensorflow as tf\n",
    "import os\n",
    "import vggish_input\n",
    "import vggish_params\n",
    "import vggish_slim\n",
    "from pydub import AudioSegment\n",
    "from audioModel import predict, train\n",
    "from audioInput import getLaughTracks, getNoise, processWavFile\n",
    "import IPython.display as ipd\n",
    "from audioDisplay import displayAudioWithPredictions, displayWaveform\n",
    "import random\n",
    "from audioUtils import downloadYtAndPrepareAudio\n",
    "\n",
    "slim = tf.contrib.slim"
   ]
  },
  {
   "cell_type": "code",
   "execution_count": 5,
   "metadata": {},
   "outputs": [],
   "source": [
    "def predictAudio(path, model_name):\n",
    "    preds = predict(model_name, 2, processWavFile(path, log=False))\n",
    "    displayWaveform(path)\n",
    "    displayAudioWithPredictions(path, preds)    \n",
    "    \n",
    "def download(id):\n",
    "    downloadYtAndPrepareAudio(id, 'data', stripSilence=False)"
   ]
  },
  {
   "cell_type": "code",
   "execution_count": 6,
   "metadata": {},
   "outputs": [
    {
     "name": "stdout",
     "output_type": "stream",
     "text": [
      "loading ./model/audio_500_62-100/model\n",
      "INFO:tensorflow:Restoring parameters from ./vggish_model.ckpt\n",
      "INFO:tensorflow:Restoring parameters from ./model/audio_500_62-100/model\n"
     ]
    },
    {
     "data": {
      "image/png": "[encoded data removed]",
      "text/plain": [
       "<Figure size 432x288 with 1 Axes>"
      ]
     },
     "metadata": {
      "needs_background": "light"
     },
     "output_type": "display_data"
    },
    {
     "data": {
      "text/html": [
       "\n",
       "    \n",
       "    <style type=\"text/css\">\n",
       "    body .rendered_html .table-container {\n",
       "        max-width: 600px;\n",
       "        overflow: scroll;\n",
       "    }\n",
       "    body .rendered_html table {\n",
       "        border-collapse: collapse\n",
       "    }\n",
       "    body .rendered_html table td {\n",
       "        border: 1px solid #EEE;\n",
       "        background: white;\n",
       "        padding: 0;\n",
       "    }\n",
       "    body .rendered_html table td.highlighted {\n",
       "        border: 1px solid #CCC;\n",
       "        background: yellow;\n",
       "    }    \n",
       "    </style>\n",
       "    \n",
       "    <audio ontimeupdate=\"updatei6766288()\" src=\"data/test.wav\" id=\"player-i6766288\" controls />\n",
       "    <div class=\"table-container\">\n",
       "    <table id=\"table-i6766288\"><tr><td>0.0</td><td>0.48</td><td>0.96</td><td>1.44</td><td>1.92</td><td>2.4</td><td>2.88</td><td>3.36</td><td>3.84</td><td>4.32</td><td>4.8</td><td>5.28</td><td>5.76</td><td>6.24</td><td>6.72</td><td>7.2</td><td>7.68</td><td>8.16</td><td>8.64</td><td>9.12</td><td>9.6</td><td>10.08</td><td>10.56</td><td>11.04</td><td>11.52</td><td>12.0</td><td>12.48</td><td>12.96</td><td>13.44</td><td>13.92</td><td>14.4</td><td>14.88</td><td>15.36</td><td>15.84</td><td>16.32</td><td>16.8</td><td>17.28</td><td>17.76</td><td>18.24</td><td>18.72</td><td>19.2</td><td>19.68</td><td>20.16</td><td>20.64</td><td>21.12</td><td>21.6</td><td>22.08</td><td>22.56</td><td>23.04</td><td>23.52</td><td>24.0</td><td>24.48</td><td>24.96</td><td>25.44</td><td>25.92</td><td>26.4</td><td>26.88</td><td>27.36</td><td>27.84</td><td>28.32</td></tr><tr><td>0</td><td>0</td><td>0</td><td>0</td><td>0</td><td>0</td><td>0</td><td>0</td><td>0</td><td>0</td><td>0</td><td>0</td><td>0</td><td>0</td><td>0</td><td>0</td><td>0</td><td>0</td><td>0</td><td>0</td><td>0</td><td>0</td><td>1</td><td>0</td><td>0</td><td>0</td><td>0</td><td>0</td><td>0</td><td>0</td><td>0</td><td>0</td><td>0</td><td>0</td><td>0</td><td>0</td><td>0</td><td>0</td><td>0</td><td>0</td><td>0</td><td>0</td><td>0</td><td>0</td><td>0</td><td>0</td><td>0</td><td>0</td><td>0</td><td>0</td><td>0</td><td>0</td><td>0</td><td>0</td><td>0</td><td>0</td><td>0</td><td>0</td><td>0</td><td>0</td></tr></table>\n",
       "    </div>\n",
       "    \n",
       "    <script type=\"text/javascript\">\n",
       "    function updatei6766288(pos) {\n",
       "        const audio = document.getElementById('player-i6766288');\n",
       "        const table = document.getElementById('table-i6766288');\n",
       "        times = table.querySelector('tr:first-child');\n",
       "        preds = table.querySelector('tr:last-child');  \n",
       "\n",
       "        const currentCell = Math.floor(audio.currentTime * 2);\n",
       "        for (let i = 0; i < table.rows[0].cells.length; i++) {\n",
       "            const cell = table.rows[0].cells[i];\n",
       "            if (i === currentCell) {\n",
       "                cell.className = 'highlighted';\n",
       "            } else {\n",
       "                cell.className = '';            \n",
       "            }\n",
       "        }\n",
       "    }\n",
       "    </script>\n",
       "    \n"
      ],
      "text/plain": [
       "<IPython.core.display.HTML object>"
      ]
     },
     "metadata": {},
     "output_type": "display_data"
    }
   ],
   "source": [
    "predictAudio('data/test.wav', 'audio_500_62-100')\n",
    "#download('wGhg-htVnJ0')\n",
    "#predictAudio('data/wGhg-htVnJ0/prepared.wav', 'audio_800_0-100')"
   ]
  },
  {
   "cell_type": "code",
   "execution_count": null,
   "metadata": {},
   "outputs": [],
   "source": []
  }
 ],
 "metadata": {
  "kernelspec": {
   "display_name": "Python 3",
   "language": "python",
   "name": "python3"
  },
  "language_info": {
   "codemirror_mode": {
    "name": "ipython",
    "version": 3
   },
   "file_extension": ".py",
   "mimetype": "text/x-python",
   "name": "python",
   "nbconvert_exporter": "python",
   "pygments_lexer": "ipython3",
   "version": "3.5.2"
  }
 },
 "nbformat": 4,
 "nbformat_minor": 2
}
