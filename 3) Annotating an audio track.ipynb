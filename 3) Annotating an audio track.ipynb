{
 "cells": [
  {
   "cell_type": "code",
   "execution_count": 3,
   "metadata": {},
   "outputs": [],
   "source": [
    "from __future__ import print_function\n",
    "\n",
    "from random import shuffle\n",
    "\n",
    "import numpy as np\n",
    "import tensorflow as tf\n",
    "import os\n",
    "import vggish_input\n",
    "import vggish_params\n",
    "import vggish_slim\n",
    "from pydub import AudioSegment\n",
    "from audioModel import predict, train\n",
    "from pydub import AudioSegment, generators\n",
    "import IPython.display as ipd\n",
    "from IPython.core.display import display, HTML\n",
    "\n",
    "from audioInput import getLaughTracks, getNoise, processWavFile\n",
    "\n",
    "from audioDisplay import predictAudio\n",
    "import random\n",
    "from audioUtils import downloadYtAndPrepareAudio, shell\n",
    "from audioTrain import trainAndSaveAndPredict, trainForNoise\n",
    "\n",
    "\n",
    "\n",
    "def downloadAndPredict(id, multiplier=1):\n",
    "    if not os.path.isfile('data/%s.wav' % id):\n",
    "        !python3 download_from_youtube.py --target data --ids $id\n",
    "    preds, wavfile = predictAudio('data/%s.wav' % id, 'audio_None', ['laughter', 'x'], number_of_classes = 2, multiplier = multiplier)\n",
    "    #print(preds)\n",
    "    \n",
    "  "
   ]
  },
  {
   "cell_type": "code",
   "execution_count": 2,
   "metadata": {},
   "outputs": [
    {
     "name": "stdout",
     "output_type": "stream",
     "text": [
      "no cache file available, building one\n",
      "loading ./model/audio_None/1_1/model\n",
      "INFO:tensorflow:Restoring parameters from ./vggish_model.ckpt\n",
      "INFO:tensorflow:Restoring parameters from ./model/audio_None/1_1/model\n"
     ]
    },
    {
     "data": {
      "text/html": [
       "\n",
       "    \n",
       "    <style type=\"text/css\">\n",
       " #waveform {\n",
       " width: 200px;\n",
       " height: 200px;\n",
       " background: #EEE;\n",
       " }\n",
       "    </style>\n",
       "    \n",
       "    <div id=\"i4349907\"></div>\n",
       "    \n",
       "    <script src=\"https://thekevinscott.github.io/laugh-tracks/frontend-dist/static/js/main.8e06b391.js\"></script>\n",
       "    <script type=\"text/javascript\">\n",
       "    (function() {\n",
       "        var jsonPreds = [\"x\", \"x\", \"x\", \"x\", \"x\", \"x\", \"x\", \"x\", \"x\", \"x\", \"x\", \"x\", \"x\", \"x\", \"x\", \"x\", \"x\", \"x\", \"x\", \"x\", \"x\", \"x\", \"x\", \"laughter\", \"x\", \"laughter\", \"x\", \"x\", \"x\", \"x\", \"x\", \"x\", \"x\", \"x\", \"x\", \"x\", \"x\", \"x\", \"x\", \"x\", \"x\", \"x\", \"x\", \"x\", \"laughter\", \"x\", \"x\", \"laughter\", \"laughter\", \"x\", \"x\", \"x\", \"laughter\", \"laughter\", \"laughter\", \"laughter\", \"laughter\", \"laughter\", \"x\", \"x\", \"x\", \"x\", \"x\", \"x\", \"x\", \"x\", \"x\", \"x\", \"x\", \"x\", \"x\", \"x\", \"x\", \"x\", \"x\", \"x\", \"x\", \"x\", \"x\", \"x\", \"x\", \"x\", \"x\", \"x\", \"x\", \"x\", \"x\", \"x\", \"laughter\", \"x\"];\n",
       "        var predMarkers = [];\n",
       "        function getTimestamp(i) {\n",
       "            i += 1\n",
       "            return (976*i-(16*(i-1)) / 1000 - 976) / 1000;\n",
       "        }\n",
       "        jsonPreds.forEach(function(pred, i) {\n",
       "            const timestamp = getTimestamp(i);\n",
       "            console.log(i, timestamp);\n",
       "            \n",
       "            predMarkers.push({\n",
       "                label: pred,\n",
       "                timestamp,\n",
       "            })\n",
       "        })\n",
       "        waveform.default(document.getElementById('i4349907'), 'data/ejNvycQzH6U.wav', predMarkers);\n",
       "        \n",
       "    })()\n",
       "    </script>\n",
       "    \n"
      ],
      "text/plain": [
       "<IPython.core.display.HTML object>"
      ]
     },
     "metadata": {},
     "output_type": "display_data"
    }
   ],
   "source": [
    "# How I Met Your Mother\n",
    "downloadAndPredict('ejNvycQzH6U')"
   ]
  },
  {
   "cell_type": "code",
   "execution_count": 3,
   "metadata": {},
   "outputs": [
    {
     "name": "stdout",
     "output_type": "stream",
     "text": [
      "no cache file available, building one\n",
      "loading ./model/audio_None/1_1/model\n",
      "INFO:tensorflow:Restoring parameters from ./vggish_model.ckpt\n",
      "INFO:tensorflow:Restoring parameters from ./model/audio_None/1_1/model\n"
     ]
    },
    {
     "data": {
      "text/html": [
       "\n",
       "    \n",
       "    <style type=\"text/css\">\n",
       " #waveform {\n",
       " width: 200px;\n",
       " height: 200px;\n",
       " background: #EEE;\n",
       " }\n",
       "    </style>\n",
       "    \n",
       "    <div id=\"i6843178\"></div>\n",
       "    \n",
       "    <script src=\"https://thekevinscott.github.io/laugh-tracks/frontend-dist/static/js/main.8e06b391.js\"></script>\n",
       "    <script type=\"text/javascript\">\n",
       "    (function() {\n",
       "        var jsonPreds = [\"x\", \"x\", \"x\", \"x\", \"x\", \"x\", \"x\", \"x\", \"x\", \"laughter\", \"laughter\", \"laughter\", \"laughter\", \"laughter\", \"laughter\", \"x\", \"x\", \"x\", \"x\", \"x\", \"x\", \"x\", \"x\", \"laughter\", \"x\", \"x\", \"x\", \"laughter\", \"laughter\", \"laughter\", \"x\", \"x\", \"x\", \"x\", \"x\", \"laughter\", \"laughter\", \"laughter\", \"laughter\", \"laughter\", \"laughter\", \"laughter\", \"x\", \"x\", \"x\", \"x\", \"x\", \"x\", \"x\", \"x\", \"x\", \"x\", \"x\", \"x\", \"x\", \"x\", \"laughter\", \"laughter\", \"laughter\", \"x\", \"x\", \"x\", \"x\", \"laughter\", \"x\", \"x\", \"laughter\", \"laughter\", \"x\", \"x\", \"x\", \"x\", \"x\", \"x\", \"x\", \"laughter\", \"laughter\", \"laughter\", \"x\", \"x\", \"x\", \"x\", \"x\", \"x\", \"x\", \"x\", \"x\", \"x\", \"x\", \"x\", \"x\", \"x\", \"laughter\", \"x\", \"x\", \"x\", \"x\", \"x\", \"x\", \"x\", \"x\", \"x\", \"laughter\", \"laughter\", \"laughter\", \"laughter\", \"x\", \"laughter\", \"laughter\", \"x\", \"x\", \"laughter\", \"x\", \"x\", \"x\", \"x\", \"x\", \"laughter\", \"laughter\", \"laughter\", \"laughter\", \"x\", \"x\", \"laughter\", \"x\", \"x\", \"x\", \"x\", \"x\", \"x\", \"x\", \"laughter\", \"laughter\", \"laughter\", \"laughter\", \"laughter\", \"laughter\", \"laughter\", \"x\", \"x\", \"laughter\", \"laughter\", \"laughter\", \"laughter\", \"laughter\", \"x\", \"laughter\", \"laughter\", \"x\", \"x\", \"x\", \"x\", \"laughter\", \"laughter\", \"x\", \"x\", \"x\", \"x\", \"x\", \"laughter\", \"laughter\"];\n",
       "        var predMarkers = [];\n",
       "        function getTimestamp(i) {\n",
       "            i += 1\n",
       "            return (976*i-(16*(i-1)) / 1000 - 976) / 1000;\n",
       "        }\n",
       "        jsonPreds.forEach(function(pred, i) {\n",
       "            const timestamp = getTimestamp(i);\n",
       "            console.log(i, timestamp);\n",
       "            \n",
       "            predMarkers.push({\n",
       "                label: pred,\n",
       "                timestamp,\n",
       "            })\n",
       "        })\n",
       "        waveform.default(document.getElementById('i6843178'), 'data/P5TMcx0ofEc.wav', predMarkers);\n",
       "        \n",
       "    })()\n",
       "    </script>\n",
       "    \n"
      ],
      "text/plain": [
       "<IPython.core.display.HTML object>"
      ]
     },
     "metadata": {},
     "output_type": "display_data"
    }
   ],
   "source": [
    "# Friends\n",
    "downloadAndPredict('P5TMcx0ofEc')  "
   ]
  },
  {
   "cell_type": "code",
   "execution_count": 9,
   "metadata": {},
   "outputs": [
    {
     "name": "stdout",
     "output_type": "stream",
     "text": [
      "loading ./model/audio_None/1_1/model\n",
      "INFO:tensorflow:Restoring parameters from ./vggish_model.ckpt\n",
      "INFO:tensorflow:Restoring parameters from ./model/audio_None/1_1/model\n"
     ]
    },
    {
     "data": {
      "text/html": [
       "\n",
       "    \n",
       "    <style type=\"text/css\">\n",
       " #waveform {\n",
       " width: 200px;\n",
       " height: 200px;\n",
       " background: #EEE;\n",
       " }\n",
       "    </style>\n",
       "    \n",
       "    <div id=\"i1829916\"></div>\n",
       "    \n",
       "    <script src=\"https://thekevinscott.github.io/laugh-tracks/frontend-dist/static/js/main.8e06b391.js\"></script>\n",
       "    <script type=\"text/javascript\">\n",
       "    (function() {\n",
       "        var jsonPreds = [\"x\", \"x\", \"x\", \"x\", \"x\", \"x\", \"x\", \"x\", \"x\", \"x\", \"x\", \"x\", \"x\", \"x\", \"x\", \"x\", \"x\", \"x\", \"x\", \"laughter\", \"x\", \"x\", \"x\", \"x\", \"x\", \"x\", \"x\", \"x\", \"x\", \"x\", \"x\", \"laughter\", \"x\", \"x\", \"x\", \"x\", \"x\", \"x\", \"laughter\", \"x\", \"x\", \"x\", \"x\", \"x\", \"x\", \"laughter\", \"laughter\", \"laughter\", \"x\", \"x\", \"x\", \"laughter\", \"x\", \"x\", \"x\", \"x\", \"x\", \"x\", \"laughter\", \"x\", \"laughter\", \"laughter\", \"x\", \"x\", \"laughter\", \"laughter\", \"x\", \"x\", \"x\", \"x\", \"x\", \"x\", \"x\", \"x\", \"x\", \"x\", \"x\", \"x\", \"x\", \"x\", \"x\", \"x\", \"x\", \"laughter\", \"laughter\", \"x\", \"laughter\", \"laughter\", \"x\", \"x\", \"x\", \"x\", \"x\", \"x\", \"x\", \"x\", \"x\", \"x\", \"x\", \"x\", \"x\", \"x\", \"x\", \"laughter\", \"laughter\", \"laughter\", \"x\", \"x\", \"x\", \"x\", \"x\", \"x\", \"x\", \"x\", \"x\", \"x\", \"x\", \"x\", \"x\", \"x\", \"x\", \"x\", \"x\", \"x\", \"x\", \"x\", \"x\", \"x\", \"x\", \"x\", \"x\", \"x\", \"x\", \"x\", \"x\", \"x\", \"x\", \"x\", \"x\", \"x\", \"x\", \"x\", \"laughter\", \"laughter\", \"laughter\", \"laughter\", \"laughter\", \"x\", \"x\", \"laughter\", \"laughter\", \"laughter\", \"laughter\", \"laughter\", \"laughter\"];\n",
       "        var predMarkers = [];\n",
       "        function getTimestamp(i) {\n",
       "            i += 1\n",
       "            return (976*i-(16*(i-1)) / 1000 - 976) / 1000;\n",
       "        }\n",
       "        jsonPreds.forEach(function(pred, i) {\n",
       "            const timestamp = getTimestamp(i) * 1.000000;\n",
       "            console.log(i, timestamp);\n",
       "            \n",
       "            predMarkers.push({\n",
       "                label: pred,\n",
       "                timestamp,\n",
       "            })\n",
       "        })\n",
       "        waveform.default(document.getElementById('i1829916'), 'data/1Y_6fZGSOQI.wav', predMarkers);\n",
       "        \n",
       "    })()\n",
       "    </script>\n",
       "    \n"
      ],
      "text/plain": [
       "<IPython.core.display.HTML object>"
      ]
     },
     "metadata": {},
     "output_type": "display_data"
    }
   ],
   "source": [
    "# Seinfeld\n",
    "downloadAndPredict('1Y_6fZGSOQI', 1)  "
   ]
  },
  {
   "cell_type": "code",
   "execution_count": null,
   "metadata": {},
   "outputs": [],
   "source": []
  }
 ],
 "metadata": {
  "kernelspec": {
   "display_name": "Python 3",
   "language": "python",
   "name": "python3"
  },
  "language_info": {
   "codemirror_mode": {
    "name": "ipython",
    "version": 3
   },
   "file_extension": ".py",
   "mimetype": "text/x-python",
   "name": "python",
   "nbconvert_exporter": "python",
   "pygments_lexer": "ipython3",
   "version": "3.5.2"
  }
 },
 "nbformat": 4,
 "nbformat_minor": 2
}
