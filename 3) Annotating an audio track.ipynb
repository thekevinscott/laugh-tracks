{
 "cells": [
  {
   "cell_type": "code",
   "execution_count": 1,
   "metadata": {},
   "outputs": [],
   "source": [
    "def installDeps():\n",
    "    !pip install numpy scipy\n",
    "    !pip install resampy tensorflow six\n",
    "    !pip install youtube_dl\n",
    "    !pip install ipywidgets\n",
    "    !pip install pydub\n",
    "    !pip install tqdm\n",
    "    !pip install ffmpeg-python\n",
    "    !apt-get install ffmpeg\n",
    "#!python vggish_train_demo.py --num_batches 50 --train_vggish=False --checkpoint './vggish_model.ckpt'\n",
    "\n",
    "from __future__ import print_function\n",
    "\n",
    "from random import shuffle\n",
    "\n",
    "import numpy as np\n",
    "import tensorflow as tf\n",
    "import os\n",
    "import vggish_params\n",
    "from pydub import AudioSegment\n",
    "from audioUtils import readFolder\n",
    "from audioModel import predict, train\n",
    "from audioInput import getLaughTracks, getNoise, processWavFile, getSamplesForFiles, getSampleForFile\n",
    "import IPython.display as ipd\n",
    "from IPython.core.display import display, HTML\n",
    "from audioDisplay import predictAudio\n",
    "import random\n",
    "import json\n",
    "from audioUtils import downloadYtAndPrepareAudio\n",
    "\n",
    "\n",
    "def download(id):\n",
    "    downloadYtAndPrepareAudio(id, 'data', stripSilence=False)\n",
    "    "
   ]
  },
  {
   "cell_type": "code",
   "execution_count": 5,
   "metadata": {},
   "outputs": [
    {
     "name": "stdout",
     "output_type": "stream",
     "text": [
      "loading ./model/audio_500/20_20/model\n",
      "INFO:tensorflow:Restoring parameters from ./vggish_model.ckpt\n",
      "INFO:tensorflow:Restoring parameters from ./model/audio_500/20_20/model\n"
     ]
    },
    {
     "data": {
      "text/html": [
       "\n",
       "    \n",
       "    <style type=\"text/css\">\n",
       " #waveform {\n",
       " width: 200px;\n",
       " height: 200px;\n",
       " background: #EEE;\n",
       " }\n",
       "    </style>\n",
       "    \n",
       "    <div id=\"i1295095\"></div>\n",
       "    \n",
       "    <script src=\"https://thekevinscott.github.io/laugh-tracks/frontend-dist/static/js/main.8e06b391.js\"></script>\n",
       "    <script type=\"text/javascript\">\n",
       "        var jsonPreds = [\"x\", \"x\", \"laugh\", \"x\", \"x\"];\n",
       "        var predMarkers = [];\n",
       "        jsonPreds.forEach(function(pred, i) {\n",
       "            predMarkers.push({\n",
       "                label: pred,\n",
       "                timestamp: 0.960000 * i,\n",
       "            })\n",
       "        })\n",
       "        waveform.default(document.getElementById('i1295095'), 'data/5seconds_laugh.wav', predMarkers);\n",
       "    </script>\n",
       "    \n"
      ],
      "text/plain": [
       "<IPython.core.display.HTML object>"
      ]
     },
     "metadata": {},
     "output_type": "display_data"
    }
   ],
   "source": [
    "preds, audio = predictAudio('data/5seconds_laugh.wav', 'audio_500', ['laugh', 'x'])    \n",
    "#print(len(preds))\n",
    "#predictAudio('data/test.wav', 'audio_500_62-100')\n",
    "\n"
   ]
  },
  {
   "cell_type": "code",
   "execution_count": 3,
   "metadata": {},
   "outputs": [
    {
     "name": "stdout",
     "output_type": "stream",
     "text": [
      "(442696,)\n",
      "5019\n",
      "(441000,)\n",
      "5000\n"
     ]
    }
   ],
   "source": [
    "def describe(path):    \n",
    "    file = 'data/%s.wav' % path\n",
    "    audio = AudioSegment.from_file(file, format=\"wav\")\n",
    "    samples = audio.get_array_of_samples()\n",
    "    print(np.array(samples).shape)\n",
    "    #print(audio.sample_width)\n",
    "    #print(audio.frame_rate)\n",
    "    #print(audio.channels)\n",
    "    print(len(audio))\n",
    "    \n",
    "describe('5seconds_laugh')\n",
    "\n",
    "describe('noise_5')"
   ]
  },
  {
   "cell_type": "code",
   "execution_count": 10,
   "metadata": {},
   "outputs": [
    {
     "name": "stdout",
     "output_type": "stream",
     "text": [
      "loading ./model/audio_100/20_20/model\n",
      "INFO:tensorflow:Restoring parameters from ./vggish_model.ckpt\n",
      "INFO:tensorflow:Restoring parameters from ./model/audio_100/20_20/model\n"
     ]
    },
    {
     "data": {
      "text/html": [
       "\n",
       "    \n",
       "    <style type=\"text/css\">\n",
       " #waveform {\n",
       " width: 200px;\n",
       " height: 200px;\n",
       " background: #EEE;\n",
       " }\n",
       "    </style>\n",
       "    \n",
       "    <div id=\"i3748120\"></div>\n",
       "    \n",
       "    <script src=\"https://thekevinscott.github.io/laugh-tracks/frontend-dist/static/js/main.8e06b391.js\"></script>\n",
       "    <script type=\"text/javascript\">\n",
       "        var jsonPreds = [\"x\", \"x\", \"x\", \"x\", \"x\", \"x\", \"x\", \"x\", \"x\", \"x\", \"x\", \"x\", \"laugh\", \"x\", \"laugh\", \"laugh\", \"laugh\", \"laugh\", \"x\", \"laugh\", \"laugh\", \"laugh\", \"laugh\", \"x\", \"laugh\", \"laugh\", \"x\", \"x\", \"x\", \"x\", \"x\", \"x\", \"x\", \"x\", \"x\", \"x\", \"x\", \"laugh\", \"laugh\", \"laugh\", \"laugh\", \"x\", \"x\", \"laugh\", \"laugh\", \"x\", \"x\", \"x\", \"laugh\", \"laugh\", \"laugh\", \"laugh\", \"x\", \"x\", \"x\", \"x\", \"laugh\", \"x\", \"x\", \"laugh\", \"laugh\", \"x\", \"laugh\", \"x\", \"x\", \"x\", \"laugh\", \"laugh\", \"laugh\", \"laugh\", \"x\", \"x\", \"x\", \"x\", \"x\", \"x\", \"x\", \"x\", \"x\", \"x\", \"x\", \"laugh\", \"x\", \"laugh\", \"laugh\", \"laugh\", \"x\", \"x\", \"x\", \"x\", \"laugh\", \"x\", \"x\", \"laugh\", \"laugh\", \"x\", \"laugh\", \"laugh\", \"laugh\", \"x\", \"laugh\", \"laugh\", \"laugh\", \"laugh\", \"x\", \"x\", \"x\", \"x\", \"x\", \"x\", \"x\", \"x\", \"x\", \"laugh\", \"laugh\", \"laugh\", \"laugh\", \"laugh\", \"x\", \"x\", \"x\", \"x\", \"x\", \"laugh\", \"x\", \"x\", \"laugh\", \"laugh\", \"x\", \"x\", \"x\", \"x\", \"x\", \"x\", \"x\", \"laugh\", \"laugh\", \"laugh\", \"x\", \"laugh\", \"laugh\", \"laugh\", \"laugh\", \"laugh\", \"laugh\", \"laugh\", \"laugh\", \"laugh\", \"laugh\", \"laugh\", \"laugh\", \"x\", \"x\", \"x\", \"x\", \"laugh\", \"x\", \"laugh\", \"laugh\", \"x\", \"x\", \"laugh\", \"x\", \"x\", \"x\", \"laugh\", \"laugh\", \"laugh\", \"laugh\", \"x\", \"x\", \"x\", \"x\", \"x\", \"laugh\", \"laugh\", \"laugh\", \"x\", \"x\", \"x\", \"x\", \"x\", \"x\", \"x\", \"x\", \"x\", \"x\", \"x\", \"x\", \"x\", \"x\", \"laugh\", \"laugh\", \"x\", \"x\", \"x\", \"x\"];\n",
       "        var predMarkers = [];\n",
       "        jsonPreds.forEach(function(pred, i) {\n",
       "            predMarkers.push({\n",
       "                label: pred,\n",
       "                timestamp: 0.960000 * i,\n",
       "            })\n",
       "        })\n",
       "        waveform.default(document.getElementById('i3748120'), 'data/wGhg-htVnJ0/prepared.wav', predMarkers);\n",
       "    </script>\n",
       "    \n"
      ],
      "text/plain": [
       "<IPython.core.display.HTML object>"
      ]
     },
     "metadata": {},
     "output_type": "display_data"
    },
    {
     "data": {
      "text/plain": [
       "(array([1, 1, 1, 1, 1, 1, 1, 1, 1, 1, 1, 1, 0, 1, 0, 0, 0, 0, 1, 0, 0, 0,\n",
       "        0, 1, 0, 0, 1, 1, 1, 1, 1, 1, 1, 1, 1, 1, 1, 0, 0, 0, 0, 1, 1, 0,\n",
       "        0, 1, 1, 1, 0, 0, 0, 0, 1, 1, 1, 1, 0, 1, 1, 0, 0, 1, 0, 1, 1, 1,\n",
       "        0, 0, 0, 0, 1, 1, 1, 1, 1, 1, 1, 1, 1, 1, 1, 0, 1, 0, 0, 0, 1, 1,\n",
       "        1, 1, 0, 1, 1, 0, 0, 1, 0, 0, 0, 1, 0, 0, 0, 0, 1, 1, 1, 1, 1, 1,\n",
       "        1, 1, 1, 0, 0, 0, 0, 0, 1, 1, 1, 1, 1, 0, 1, 1, 0, 0, 1, 1, 1, 1,\n",
       "        1, 1, 1, 0, 0, 0, 1, 0, 0, 0, 0, 0, 0, 0, 0, 0, 0, 0, 0, 1, 1, 1,\n",
       "        1, 0, 1, 0, 0, 1, 1, 0, 1, 1, 1, 0, 0, 0, 0, 1, 1, 1, 1, 1, 0, 0,\n",
       "        0, 1, 1, 1, 1, 1, 1, 1, 1, 1, 1, 1, 1, 1, 1, 0, 0, 1, 1, 1, 1]),\n",
       " array([[[-4.60517019, -4.60517019, -4.60517019, ..., -4.60517019,\n",
       "          -4.60517019, -4.60517019],\n",
       "         [-4.60517019, -4.60517019, -4.60517019, ..., -4.60517019,\n",
       "          -4.60517019, -4.60517019],\n",
       "         [-4.60517019, -4.60517019, -4.60517019, ..., -4.60517019,\n",
       "          -4.60517019, -4.60517019],\n",
       "         ...,\n",
       "         [21.268803  , 20.30521287, 21.00138603, ..., 19.46832672,\n",
       "          19.24759265, 19.19549668],\n",
       "         [21.32436815, 20.47813689, 21.17492637, ..., 19.46265084,\n",
       "          19.47333346, 19.65933412],\n",
       "         [21.37049715, 20.5485964 , 21.25426679, ..., 19.49764732,\n",
       "          19.80653262, 19.35299748]],\n",
       " \n",
       "        [[20.9539564 , 20.80594342, 20.8833126 , ..., 19.48055915,\n",
       "          19.57624834, 19.7093159 ],\n",
       "         [21.00421997, 20.32540584, 20.05942615, ..., 19.79860491,\n",
       "          18.84097959, 19.10872989],\n",
       "         [20.72527677, 20.58937672, 20.60485225, ..., 19.56078005,\n",
       "          18.83384854, 19.18604498],\n",
       "         ...,\n",
       "         [19.72836661, 19.65722992, 19.76475567, ..., 19.23346826,\n",
       "          19.13911259, 18.71910648],\n",
       "         [19.44322277, 19.96233826, 19.85844297, ..., 19.47368244,\n",
       "          19.31481201, 19.22088835],\n",
       "         [20.03267809, 19.81076399, 19.25392017, ..., 19.64167908,\n",
       "          19.34347385, 18.91370643]],\n",
       " \n",
       "        [[20.37604585, 20.17990967, 19.95544901, ..., 19.67345375,\n",
       "          19.07921271, 19.05377675],\n",
       "         [19.61575653, 20.73944263, 20.48645153, ..., 19.09573535,\n",
       "          19.19239609, 18.50860308],\n",
       "         [20.40392076, 20.95698946, 20.87422778, ..., 18.88681231,\n",
       "          18.89637235, 18.99671528],\n",
       "         ...,\n",
       "         [20.594559  , 20.38012941, 20.43404841, ..., 19.29463034,\n",
       "          19.18330821, 18.86998323],\n",
       "         [19.65434647, 19.88024765, 20.09902893, ..., 19.35439295,\n",
       "          19.4236874 , 19.10025896],\n",
       "         [19.83824152, 19.26181055, 19.04202344, ..., 18.91806056,\n",
       "          18.71495058, 18.32737957]],\n",
       " \n",
       "        ...,\n",
       " \n",
       "        [[19.43229558, 19.49169121, 19.54991141, ..., 18.89371555,\n",
       "          18.57656953, 18.10996094],\n",
       "         [18.63301458, 17.97490031, 18.42039061, ..., 18.33417507,\n",
       "          18.17081747, 18.27847737],\n",
       "         [19.86389463, 19.79797362, 19.33242156, ..., 18.47589075,\n",
       "          18.49681149, 18.24992328],\n",
       "         ...,\n",
       "         [19.51848877, 19.38822714, 18.52723336, ..., 21.08995547,\n",
       "          20.06076176, 19.9620649 ],\n",
       "         [20.35571728, 19.85964641, 20.31046231, ..., 21.50138185,\n",
       "          20.40008644, 20.37715512],\n",
       "         [21.24552975, 21.63436675, 22.01616027, ..., 21.22661706,\n",
       "          21.62265046, 21.78938547]],\n",
       " \n",
       "        [[20.53171507, 21.52392376, 22.00841166, ..., 20.63866377,\n",
       "          20.8016159 , 21.320893  ],\n",
       "         [21.1948229 , 20.69380051, 21.09175792, ..., 18.86710686,\n",
       "          19.09969678, 19.02884375],\n",
       "         [20.11282291, 20.49935124, 20.2669747 , ..., 19.35006542,\n",
       "          19.05954061, 19.07791601],\n",
       "         ...,\n",
       "         [19.75324453, 19.93202715, 19.70056552, ..., 18.5691049 ,\n",
       "          18.67867263, 18.80895558],\n",
       "         [19.90091243, 18.53598877, 20.36644581, ..., 18.76489016,\n",
       "          18.59598895, 18.80920272],\n",
       "         [20.77431046, 19.68998408, 19.8209968 , ..., 19.77912908,\n",
       "          19.38169104, 19.56891124]],\n",
       " \n",
       "        [[19.95235991, 20.21651956, 18.83109567, ..., 19.67631222,\n",
       "          20.02943762, 19.74961261],\n",
       "         [19.67610306, 19.94461836, 18.98369353, ..., 19.3693741 ,\n",
       "          18.89480554, 18.78081228],\n",
       "         [19.96913439, 19.20889204, 18.2064511 , ..., 19.49068926,\n",
       "          19.78333715, 19.39114913],\n",
       "         ...,\n",
       "         [20.56514622, 20.06460515, 19.82173091, ..., 20.43151814,\n",
       "          20.19636106, 20.8838959 ],\n",
       "         [19.73768551, 19.6080245 , 19.55624082, ..., 20.30513157,\n",
       "          20.01229743, 20.08371308],\n",
       "         [19.9043494 , 19.94087978, 19.92478866, ..., 20.40836343,\n",
       "          20.32347048, 20.11802637]]]))"
      ]
     },
     "execution_count": 10,
     "metadata": {},
     "output_type": "execute_result"
    }
   ],
   "source": [
    "predictAudio('data/wGhg-htVnJ0/prepared.wav', 'audio_100', ['laugh', 'x'])"
   ]
  },
  {
   "cell_type": "code",
   "execution_count": 6,
   "metadata": {},
   "outputs": [
    {
     "name": "stdout",
     "output_type": "stream",
     "text": [
      "id n_2kDtk-DDc\n"
     ]
    }
   ],
   "source": [
    "download('n_2kDtk-DDc')\n",
    "#download('wGhg-htVnJ0')"
   ]
  },
  {
   "cell_type": "code",
   "execution_count": 9,
   "metadata": {},
   "outputs": [
    {
     "name": "stdout",
     "output_type": "stream",
     "text": [
      "id 4XOeYPS9Sag\n"
     ]
    }
   ],
   "source": [
    "download('4XOeYPS9Sag')"
   ]
  },
  {
   "cell_type": "code",
   "execution_count": null,
   "metadata": {},
   "outputs": [],
   "source": []
  }
 ],
 "metadata": {
  "kernelspec": {
   "display_name": "Python 3",
   "language": "python",
   "name": "python3"
  },
  "language_info": {
   "codemirror_mode": {
    "name": "ipython",
    "version": 3
   },
   "file_extension": ".py",
   "mimetype": "text/x-python",
   "name": "python",
   "nbconvert_exporter": "python",
   "pygments_lexer": "ipython3",
   "version": "3.5.2"
  }
 },
 "nbformat": 4,
 "nbformat_minor": 2
}
