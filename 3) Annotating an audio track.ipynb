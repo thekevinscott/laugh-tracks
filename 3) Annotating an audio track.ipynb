{
 "cells": [
  {
   "cell_type": "markdown",
   "metadata": {},
   "source": [
    "# Todos\n",
    "\n",
    "1. Get a set of predictions for an audio file\n",
    "2. Build a tool that visually annotates predictions to audio\n",
    "3. Get the predictions working correctly"
   ]
  },
  {
   "cell_type": "code",
   "execution_count": 7,
   "metadata": {},
   "outputs": [],
   "source": [
    "def installDeps():\n",
    "    !pip install numpy scipy\n",
    "    !pip install resampy tensorflow six\n",
    "    !pip install youtube_dl\n",
    "    !pip install ipywidgets\n",
    "    !pip install pydub\n",
    "    !pip install tqdm\n",
    "    !pip install ffmpeg-python\n",
    "    !apt-get install ffmpeg\n",
    "#!python vggish_train_demo.py --num_batches 50 --train_vggish=False --checkpoint './vggish_model.ckpt'\n",
    "\n",
    "from __future__ import print_function\n",
    "\n",
    "from random import shuffle\n",
    "\n",
    "import numpy as np\n",
    "import tensorflow as tf\n",
    "import os\n",
    "import vggish_input\n",
    "import vggish_params\n",
    "import vggish_slim\n",
    "from pydub import AudioSegment\n",
    "from audioModel import predict, train\n",
    "from audioInput import getLaughTracks, getNoise, processWavFile\n",
    "import IPython.display as ipd\n",
    "from audioDisplay import displayAudioWithPredictions\n",
    "import random\n",
    "from audioUtils import downloadYtAndPrepareAudio\n",
    "\n",
    "slim = tf.contrib.slim\n",
    "model_name = 'model_28_100'"
   ]
  },
  {
   "cell_type": "code",
   "execution_count": 8,
   "metadata": {},
   "outputs": [],
   "source": [
    "def predictAudio(path):\n",
    "    preds = predict(model_name, 2, processWavFile(path, log=False))\n",
    "    displayAudioWithPredictions(path, preds)    "
   ]
  },
  {
   "cell_type": "code",
   "execution_count": 11,
   "metadata": {},
   "outputs": [
    {
     "name": "stdout",
     "output_type": "stream",
     "text": [
      "INFO:tensorflow:Restoring parameters from ./vggish_model.ckpt\n",
      "INFO:tensorflow:Restoring parameters from ./model/model_28_100\n"
     ]
    },
    {
     "data": {
      "text/html": [
       "\n",
       "    \n",
       "    <style type=\"text/css\">\n",
       "    body .rendered_html table {\n",
       "        border-collapse: collapse\n",
       "    }\n",
       "    body .rendered_html table td {\n",
       "        border: 1px solid #EEE;\n",
       "        background: white;\n",
       "    }\n",
       "    body .rendered_html table td.highlighted {\n",
       "        border: 1px solid #CCC;\n",
       "        background: yellow;\n",
       "    }    \n",
       "    </style>\n",
       "    \n",
       "    <audio ontimeupdate=\"update()\" src=\"data/test.wav\" id=\"player-i69089\" controls />\n",
       "    <table id=\"table-i69089\"><tr><td>0.0</td><td>0.5</td><td>1.0</td><td>1.5</td><td>2.0</td><td>2.5</td><td>3.0</td><td>3.5</td><td>4.0</td><td>4.5</td><td>5.0</td><td>5.5</td><td>6.0</td><td>6.5</td><td>7.0</td><td>7.5</td><td>8.0</td><td>8.5</td><td>9.0</td><td>9.5</td><td>10.0</td><td>10.5</td><td>11.0</td><td>11.5</td><td>12.0</td><td>12.5</td><td>13.0</td><td>13.5</td><td>14.0</td><td>14.5</td><td>15.0</td><td>15.5</td><td>16.0</td><td>16.5</td><td>17.0</td><td>17.5</td><td>18.0</td><td>18.5</td><td>19.0</td><td>19.5</td><td>20.0</td><td>20.5</td><td>21.0</td><td>21.5</td><td>22.0</td><td>22.5</td><td>23.0</td><td>23.5</td><td>24.0</td><td>24.5</td><td>25.0</td><td>25.5</td><td>26.0</td><td>26.5</td><td>27.0</td><td>27.5</td><td>28.0</td><td>28.5</td><td>29.0</td><td>29.5</td></tr><tr><td>0</td><td>0</td><td>0</td><td>0</td><td>0</td><td>0</td><td>0</td><td>0</td><td>0</td><td>0</td><td>0</td><td>0</td><td>0</td><td>0</td><td>0</td><td>0</td><td>0</td><td>0</td><td>0</td><td>0</td><td>1</td><td>1</td><td>1</td><td>0</td><td>0</td><td>0</td><td>0</td><td>1</td><td>1</td><td>1</td><td>1</td><td>1</td><td>1</td><td>0</td><td>0</td><td>0</td><td>0</td><td>0</td><td>0</td><td>0</td><td>0</td><td>0</td><td>0</td><td>0</td><td>0</td><td>0</td><td>0</td><td>0</td><td>0</td><td>0</td><td>0</td><td>0</td><td>0</td><td>0</td><td>0</td><td>1</td><td>1</td><td>1</td><td>1</td><td>1</td></tr></table>\n",
       "    \n",
       "    <script type=\"text/javascript\">\n",
       "    function update(pos) {\n",
       "        const audio = document.getElementById('player-i69089');\n",
       "        const table = document.getElementById('table-i69089');\n",
       "        times = table.querySelector('tr:first-child');\n",
       "        preds = table.querySelector('tr:last-child');  \n",
       "\n",
       "        const currentCell = Math.floor(audio.currentTime * 2);\n",
       "        for (let i = 0; i < table.rows[0].cells.length; i++) {\n",
       "            const cell = table.rows[0].cells[i];\n",
       "            if (i === currentCell) {\n",
       "                cell.className = 'highlighted';\n",
       "            } else {\n",
       "                cell.className = '';            \n",
       "            }\n",
       "        }\n",
       "    }\n",
       "    </script>\n",
       "    \n"
      ],
      "text/plain": [
       "<IPython.core.display.HTML object>"
      ]
     },
     "metadata": {},
     "output_type": "display_data"
    }
   ],
   "source": [
    "predictAudio('data/test.wav')"
   ]
  },
  {
   "cell_type": "code",
   "execution_count": 10,
   "metadata": {},
   "outputs": [
    {
     "name": "stdout",
     "output_type": "stream",
     "text": [
      "INFO:tensorflow:Restoring parameters from ./vggish_model.ckpt\n",
      "INFO:tensorflow:Restoring parameters from ./model/model_28_100\n"
     ]
    },
    {
     "data": {
      "text/html": [
       "\n",
       "    \n",
       "    <style type=\"text/css\">\n",
       "    body .rendered_html table {\n",
       "        border-collapse: collapse\n",
       "    }\n",
       "    body .rendered_html table td {\n",
       "        border: 1px solid #EEE;\n",
       "        background: white;\n",
       "    }\n",
       "    body .rendered_html table td.highlighted {\n",
       "        border: 1px solid #CCC;\n",
       "        background: yellow;\n",
       "    }    \n",
       "    </style>\n",
       "    \n",
       "    <audio ontimeupdate=\"update()\" src=\"data/wGhg-htVnJ0/prepared.wav\" id=\"player-i13834\" controls />\n",
       "    <table id=\"table-i13834\"><tr><td>0.0</td><td>0.5</td><td>1.0</td><td>1.5</td><td>2.0</td><td>2.5</td><td>3.0</td><td>3.5</td><td>4.0</td><td>4.5</td><td>5.0</td><td>5.5</td><td>6.0</td><td>6.5</td><td>7.0</td><td>7.5</td><td>8.0</td><td>8.5</td><td>9.0</td><td>9.5</td><td>10.0</td><td>10.5</td><td>11.0</td><td>11.5</td><td>12.0</td><td>12.5</td><td>13.0</td><td>13.5</td><td>14.0</td><td>14.5</td><td>15.0</td><td>15.5</td><td>16.0</td><td>16.5</td><td>17.0</td><td>17.5</td><td>18.0</td><td>18.5</td><td>19.0</td><td>19.5</td><td>20.0</td><td>20.5</td><td>21.0</td><td>21.5</td><td>22.0</td><td>22.5</td><td>23.0</td><td>23.5</td><td>24.0</td><td>24.5</td><td>25.0</td><td>25.5</td><td>26.0</td><td>26.5</td><td>27.0</td><td>27.5</td><td>28.0</td><td>28.5</td><td>29.0</td><td>29.5</td><td>30.0</td><td>30.5</td><td>31.0</td><td>31.5</td><td>32.0</td><td>32.5</td><td>33.0</td><td>33.5</td><td>34.0</td><td>34.5</td><td>35.0</td><td>35.5</td><td>36.0</td><td>36.5</td><td>37.0</td><td>37.5</td><td>38.0</td><td>38.5</td><td>39.0</td><td>39.5</td><td>40.0</td><td>40.5</td><td>41.0</td><td>41.5</td><td>42.0</td><td>42.5</td><td>43.0</td><td>43.5</td><td>44.0</td><td>44.5</td><td>45.0</td><td>45.5</td><td>46.0</td><td>46.5</td><td>47.0</td><td>47.5</td><td>48.0</td><td>48.5</td><td>49.0</td><td>49.5</td><td>50.0</td><td>50.5</td><td>51.0</td><td>51.5</td><td>52.0</td><td>52.5</td><td>53.0</td><td>53.5</td><td>54.0</td><td>54.5</td><td>55.0</td><td>55.5</td><td>56.0</td><td>56.5</td><td>57.0</td><td>57.5</td><td>58.0</td><td>58.5</td><td>59.0</td><td>59.5</td><td>60.0</td><td>60.5</td><td>61.0</td><td>61.5</td><td>62.0</td><td>62.5</td><td>63.0</td><td>63.5</td><td>64.0</td><td>64.5</td><td>65.0</td><td>65.5</td><td>66.0</td><td>66.5</td><td>67.0</td><td>67.5</td><td>68.0</td><td>68.5</td><td>69.0</td><td>69.5</td><td>70.0</td><td>70.5</td><td>71.0</td><td>71.5</td><td>72.0</td><td>72.5</td><td>73.0</td><td>73.5</td><td>74.0</td><td>74.5</td><td>75.0</td><td>75.5</td><td>76.0</td><td>76.5</td><td>77.0</td><td>77.5</td><td>78.0</td><td>78.5</td><td>79.0</td><td>79.5</td><td>80.0</td><td>80.5</td><td>81.0</td><td>81.5</td><td>82.0</td><td>82.5</td><td>83.0</td><td>83.5</td><td>84.0</td><td>84.5</td><td>85.0</td><td>85.5</td><td>86.0</td><td>86.5</td><td>87.0</td><td>87.5</td><td>88.0</td><td>88.5</td><td>89.0</td><td>89.5</td><td>90.0</td><td>90.5</td><td>91.0</td><td>91.5</td><td>92.0</td><td>92.5</td><td>93.0</td><td>93.5</td><td>94.0</td><td>94.5</td><td>95.0</td><td>95.5</td><td>96.0</td><td>96.5</td><td>97.0</td><td>97.5</td><td>98.0</td><td>98.5</td><td>99.0</td><td>99.5</td><td>100.0</td><td>100.5</td><td>101.0</td><td>101.5</td><td>102.0</td><td>102.5</td><td>103.0</td><td>103.5</td><td>104.0</td><td>104.5</td><td>105.0</td><td>105.5</td><td>106.0</td><td>106.5</td><td>107.0</td><td>107.5</td><td>108.0</td><td>108.5</td><td>109.0</td><td>109.5</td><td>110.0</td><td>110.5</td><td>111.0</td><td>111.5</td><td>112.0</td><td>112.5</td><td>113.0</td><td>113.5</td><td>114.0</td><td>114.5</td><td>115.0</td><td>115.5</td><td>116.0</td><td>116.5</td><td>117.0</td><td>117.5</td><td>118.0</td><td>118.5</td><td>119.0</td><td>119.5</td><td>120.0</td><td>120.5</td><td>121.0</td><td>121.5</td><td>122.0</td><td>122.5</td><td>123.0</td><td>123.5</td><td>124.0</td><td>124.5</td><td>125.0</td><td>125.5</td><td>126.0</td><td>126.5</td><td>127.0</td><td>127.5</td><td>128.0</td><td>128.5</td><td>129.0</td><td>129.5</td><td>130.0</td><td>130.5</td><td>131.0</td><td>131.5</td><td>132.0</td><td>132.5</td><td>133.0</td><td>133.5</td><td>134.0</td><td>134.5</td><td>135.0</td><td>135.5</td><td>136.0</td><td>136.5</td><td>137.0</td><td>137.5</td><td>138.0</td><td>138.5</td><td>139.0</td><td>139.5</td><td>140.0</td><td>140.5</td><td>141.0</td><td>141.5</td><td>142.0</td><td>142.5</td><td>143.0</td><td>143.5</td><td>144.0</td><td>144.5</td><td>145.0</td><td>145.5</td><td>146.0</td><td>146.5</td><td>147.0</td><td>147.5</td><td>148.0</td><td>148.5</td><td>149.0</td><td>149.5</td><td>150.0</td><td>150.5</td><td>151.0</td><td>151.5</td><td>152.0</td><td>152.5</td><td>153.0</td><td>153.5</td><td>154.0</td><td>154.5</td><td>155.0</td><td>155.5</td><td>156.0</td><td>156.5</td><td>157.0</td><td>157.5</td><td>158.0</td><td>158.5</td><td>159.0</td><td>159.5</td><td>160.0</td><td>160.5</td><td>161.0</td><td>161.5</td><td>162.0</td><td>162.5</td><td>163.0</td><td>163.5</td><td>164.0</td><td>164.5</td><td>165.0</td><td>165.5</td><td>166.0</td><td>166.5</td><td>167.0</td><td>167.5</td><td>168.0</td><td>168.5</td><td>169.0</td><td>169.5</td><td>170.0</td><td>170.5</td><td>171.0</td><td>171.5</td><td>172.0</td><td>172.5</td><td>173.0</td><td>173.5</td><td>174.0</td><td>174.5</td><td>175.0</td><td>175.5</td><td>176.0</td><td>176.5</td><td>177.0</td><td>177.5</td><td>178.0</td><td>178.5</td><td>179.0</td><td>179.5</td><td>180.0</td><td>180.5</td><td>181.0</td><td>181.5</td><td>182.0</td><td>182.5</td><td>183.0</td><td>183.5</td><td>184.0</td><td>184.5</td><td>185.0</td><td>185.5</td><td>186.0</td><td>186.5</td><td>187.0</td><td>187.5</td><td>188.0</td><td>188.5</td><td>189.0</td><td>189.5</td><td>190.0</td><td>190.5</td><td>191.0</td><td>191.5</td><td>192.0</td><td>192.5</td><td>193.0</td><td>193.5</td><td>194.0</td><td>194.5</td><td>195.0</td><td>195.5</td><td>196.0</td><td>196.5</td><td>197.0</td></tr><tr><td>1</td><td>0</td><td>0</td><td>0</td><td>1</td><td>1</td><td>1</td><td>0</td><td>1</td><td>1</td><td>0</td><td>1</td><td>1</td><td>1</td><td>1</td><td>1</td><td>1</td><td>1</td><td>1</td><td>1</td><td>0</td><td>0</td><td>0</td><td>1</td><td>0</td><td>1</td><td>1</td><td>0</td><td>0</td><td>0</td><td>0</td><td>0</td><td>0</td><td>0</td><td>0</td><td>1</td><td>1</td><td>1</td><td>1</td><td>0</td><td>0</td><td>0</td><td>0</td><td>1</td><td>0</td><td>0</td><td>0</td><td>0</td><td>0</td><td>0</td><td>0</td><td>0</td><td>0</td><td>0</td><td>0</td><td>0</td><td>1</td><td>1</td><td>1</td><td>1</td><td>0</td><td>1</td><td>1</td><td>1</td><td>1</td><td>1</td><td>1</td><td>1</td><td>1</td><td>0</td><td>1</td><td>1</td><td>1</td><td>1</td><td>0</td><td>0</td><td>0</td><td>0</td><td>0</td><td>0</td><td>0</td><td>0</td><td>0</td><td>0</td><td>0</td><td>1</td><td>1</td><td>0</td><td>0</td><td>0</td><td>1</td><td>1</td><td>1</td><td>1</td><td>0</td><td>1</td><td>0</td><td>0</td><td>0</td><td>0</td><td>0</td><td>0</td><td>0</td><td>1</td><td>1</td><td>1</td><td>1</td><td>0</td><td>1</td><td>0</td><td>1</td><td>0</td><td>0</td><td>1</td><td>1</td><td>1</td><td>1</td><td>1</td><td>0</td><td>0</td><td>0</td><td>0</td><td>1</td><td>0</td><td>0</td><td>0</td><td>0</td><td>0</td><td>1</td><td>0</td><td>1</td><td>0</td><td>0</td><td>0</td><td>0</td><td>0</td><td>0</td><td>0</td><td>0</td><td>0</td><td>0</td><td>1</td><td>0</td><td>1</td><td>1</td><td>1</td><td>0</td><td>0</td><td>0</td><td>1</td><td>1</td><td>1</td><td>1</td><td>1</td><td>1</td><td>1</td><td>1</td><td>1</td><td>1</td><td>1</td><td>1</td><td>0</td><td>0</td><td>0</td><td>0</td><td>0</td><td>0</td><td>0</td><td>0</td><td>0</td><td>0</td><td>0</td><td>0</td><td>0</td><td>1</td><td>1</td><td>1</td><td>0</td><td>0</td><td>1</td><td>1</td><td>1</td><td>1</td><td>0</td><td>1</td><td>1</td><td>0</td><td>0</td><td>0</td><td>0</td><td>1</td><td>1</td><td>0</td><td>0</td><td>0</td><td>0</td><td>0</td><td>0</td><td>0</td><td>0</td><td>0</td><td>0</td><td>0</td><td>0</td><td>0</td><td>0</td><td>0</td><td>0</td><td>0</td><td>0</td><td>1</td><td>1</td><td>1</td><td>1</td><td>1</td><td>1</td><td>0</td><td>0</td><td>0</td><td>1</td><td>0</td><td>0</td><td>1</td><td>1</td><td>1</td><td>0</td><td>0</td><td>0</td><td>0</td><td>0</td><td>0</td><td>0</td><td>0</td><td>0</td><td>0</td><td>0</td><td>1</td><td>1</td><td>0</td><td>1</td><td>1</td><td>1</td><td>0</td><td>1</td><td>1</td><td>1</td><td>1</td><td>1</td><td>0</td><td>1</td><td>1</td><td>1</td><td>0</td><td>0</td><td>0</td><td>0</td><td>0</td><td>0</td><td>1</td><td>1</td><td>1</td><td>1</td><td>1</td><td>1</td><td>1</td><td>1</td><td>1</td><td>1</td><td>1</td><td>1</td><td>0</td><td>0</td><td>0</td><td>0</td><td>0</td><td>0</td><td>1</td><td>0</td><td>0</td><td>0</td><td>0</td><td>0</td><td>0</td><td>0</td><td>0</td><td>0</td><td>0</td><td>0</td><td>1</td><td>0</td><td>0</td><td>0</td><td>0</td><td>0</td><td>0</td><td>0</td><td>0</td><td>0</td><td>0</td><td>0</td><td>0</td><td>1</td><td>1</td><td>1</td><td>1</td><td>0</td><td>0</td><td>0</td><td>1</td><td>1</td><td>0</td><td>0</td><td>0</td><td>0</td><td>0</td><td>0</td><td>0</td><td>0</td><td>1</td><td>0</td><td>1</td><td>1</td><td>0</td><td>1</td><td>0</td><td>0</td><td>0</td><td>1</td><td>1</td><td>1</td><td>0</td><td>0</td><td>0</td><td>0</td><td>0</td><td>0</td><td>0</td><td>1</td><td>0</td><td>1</td><td>0</td><td>1</td><td>1</td><td>1</td><td>1</td><td>1</td><td>1</td><td>1</td><td>1</td><td>0</td><td>0</td><td>0</td><td>0</td><td>0</td><td>1</td><td>1</td><td>1</td><td>1</td><td>1</td><td>1</td><td>0</td><td>0</td><td>1</td><td>1</td><td>1</td><td>1</td><td>1</td><td>1</td><td>1</td><td>1</td><td>1</td><td>1</td><td>1</td><td>1</td><td>1</td><td>1</td><td>0</td><td>1</td><td>0</td><td>1</td><td>1</td><td>0</td><td>0</td><td>0</td><td>0</td><td>1</td><td>0</td><td>1</td><td>1</td><td>1</td><td>1</td><td>1</td><td>1</td><td>0</td><td>0</td></tr></table>\n",
       "    \n",
       "    <script type=\"text/javascript\">\n",
       "    function update(pos) {\n",
       "        const audio = document.getElementById('player-i13834');\n",
       "        const table = document.getElementById('table-i13834');\n",
       "        times = table.querySelector('tr:first-child');\n",
       "        preds = table.querySelector('tr:last-child');  \n",
       "\n",
       "        const currentCell = Math.floor(audio.currentTime * 2);\n",
       "        for (let i = 0; i < table.rows[0].cells.length; i++) {\n",
       "            const cell = table.rows[0].cells[i];\n",
       "            if (i === currentCell) {\n",
       "                cell.className = 'highlighted';\n",
       "            } else {\n",
       "                cell.className = '';            \n",
       "            }\n",
       "        }\n",
       "    }\n",
       "    </script>\n",
       "    \n"
      ],
      "text/plain": [
       "<IPython.core.display.HTML object>"
      ]
     },
     "metadata": {},
     "output_type": "display_data"
    }
   ],
   "source": [
    "#downloadYtAndPrepareAudio('wGhg-htVnJ0', 'data', stripSilence=False)\n",
    "predictAudio('data/wGhg-htVnJ0/prepared.wav')"
   ]
  },
  {
   "cell_type": "code",
   "execution_count": null,
   "metadata": {},
   "outputs": [],
   "source": []
  }
 ],
 "metadata": {
  "kernelspec": {
   "display_name": "Python 3",
   "language": "python",
   "name": "python3"
  },
  "language_info": {
   "codemirror_mode": {
    "name": "ipython",
    "version": 3
   },
   "file_extension": ".py",
   "mimetype": "text/x-python",
   "name": "python",
   "nbconvert_exporter": "python",
   "pygments_lexer": "ipython3",
   "version": "3.5.2"
  }
 },
 "nbformat": 4,
 "nbformat_minor": 2
}
