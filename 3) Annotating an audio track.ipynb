{
 "cells": [
  {
   "cell_type": "markdown",
   "metadata": {},
   "source": [
    "# Todos\n",
    "\n",
    "1. Get a set of predictions for an audio file\n",
    "2. Build a tool that visually annotates predictions to audio\n",
    "3. Get the predictions working correctly"
   ]
  },
  {
   "cell_type": "code",
   "execution_count": 1,
   "metadata": {},
   "outputs": [],
   "source": [
    "def installDeps():\n",
    "    !pip install numpy scipy\n",
    "    !pip install resampy tensorflow six\n",
    "    !pip install youtube_dl\n",
    "    !pip install ipywidgets\n",
    "    !pip install pydub\n",
    "    !pip install tqdm\n",
    "    !pip install ffmpeg-python\n",
    "    !apt-get install ffmpeg\n",
    "#!python vggish_train_demo.py --num_batches 50 --train_vggish=False --checkpoint './vggish_model.ckpt'\n",
    "\n",
    "from __future__ import print_function\n",
    "\n",
    "from random import shuffle\n",
    "\n",
    "import numpy as np\n",
    "import tensorflow as tf\n",
    "import os\n",
    "import vggish_input\n",
    "import vggish_params\n",
    "import vggish_slim\n",
    "from pydub import AudioSegment\n",
    "from audioModel import predict, train\n",
    "from audioInput import getLaughTracks, getNoise, processWavFile\n",
    "import IPython.display as ipd\n",
    "from audioDisplay import displayAudioWithPredictions, displayWaveform\n",
    "import random\n",
    "from audioUtils import downloadYtAndPrepareAudio\n",
    "\n",
    "slim = tf.contrib.slim\n",
    "model_name = 'model_950_100'"
   ]
  },
  {
   "cell_type": "code",
   "execution_count": 2,
   "metadata": {},
   "outputs": [],
   "source": [
    "def predictAudio(path):\n",
    "    preds = predict(model_name, 2, processWavFile(path, log=False))\n",
    "    displayWaveform(path)\n",
    "    displayAudioWithPredictions(path, preds)    \n",
    "    \n",
    "def download(id):\n",
    "    downloadYtAndPrepareAudio(id, 'data', stripSilence=False)"
   ]
  },
  {
   "cell_type": "code",
   "execution_count": 3,
   "metadata": {},
   "outputs": [
    {
     "name": "stdout",
     "output_type": "stream",
     "text": [
      "INFO:tensorflow:Restoring parameters from ./vggish_model.ckpt\n",
      "INFO:tensorflow:Restoring parameters from ./model/model_950_100\n"
     ]
    },
    {
     "data": {
      "image/png": "[encoded data removed]",
      "text/plain": [
       "<Figure size 432x288 with 1 Axes>"
      ]
     },
     "metadata": {
      "needs_background": "light"
     },
     "output_type": "display_data"
    },
    {
     "data": {
      "text/html": [
       "\n",
       "    \n",
       "    <style type=\"text/css\">\n",
       "    body .rendered_html .table-container {\n",
       "        max-width: 600px;\n",
       "        overflow: scroll;\n",
       "    }\n",
       "    body .rendered_html table {\n",
       "        border-collapse: collapse\n",
       "    }\n",
       "    body .rendered_html table td {\n",
       "        border: 1px solid #EEE;\n",
       "        background: white;\n",
       "        padding: 0;\n",
       "    }\n",
       "    body .rendered_html table td.highlighted {\n",
       "        border: 1px solid #CCC;\n",
       "        background: yellow;\n",
       "    }    \n",
       "    </style>\n",
       "    \n",
       "    <audio ontimeupdate=\"updatei6822179()\" src=\"data/test.wav\" id=\"player-i6822179\" controls />\n",
       "    <div class=\"table-container\">\n",
       "    <table id=\"table-i6822179\"><tr><td>0.0</td><td>0.48</td><td>0.96</td><td>1.44</td><td>1.92</td><td>2.4</td><td>2.88</td><td>3.36</td><td>3.84</td><td>4.32</td><td>4.8</td><td>5.28</td><td>5.76</td><td>6.24</td><td>6.72</td><td>7.2</td><td>7.68</td><td>8.16</td><td>8.64</td><td>9.12</td><td>9.6</td><td>10.08</td><td>10.56</td><td>11.04</td><td>11.52</td><td>12.0</td><td>12.48</td><td>12.96</td><td>13.44</td><td>13.92</td><td>14.4</td><td>14.88</td><td>15.36</td><td>15.84</td><td>16.32</td><td>16.8</td><td>17.28</td><td>17.76</td><td>18.24</td><td>18.72</td><td>19.2</td><td>19.68</td><td>20.16</td><td>20.64</td><td>21.12</td><td>21.6</td><td>22.08</td><td>22.56</td><td>23.04</td><td>23.52</td><td>24.0</td><td>24.48</td><td>24.96</td><td>25.44</td><td>25.92</td><td>26.4</td><td>26.88</td><td>27.36</td><td>27.84</td><td>28.32</td></tr><tr><td>1</td><td>1</td><td>1</td><td>1</td><td>1</td><td>1</td><td>1</td><td>1</td><td>1</td><td>1</td><td>1</td><td>1</td><td>1</td><td>1</td><td>1</td><td>1</td><td>1</td><td>1</td><td>1</td><td>1</td><td>0</td><td>0</td><td>0</td><td>1</td><td>1</td><td>1</td><td>1</td><td>0</td><td>0</td><td>0</td><td>0</td><td>0</td><td>0</td><td>1</td><td>1</td><td>1</td><td>1</td><td>1</td><td>1</td><td>1</td><td>1</td><td>1</td><td>1</td><td>1</td><td>1</td><td>1</td><td>1</td><td>1</td><td>1</td><td>1</td><td>1</td><td>1</td><td>1</td><td>1</td><td>1</td><td>0</td><td>0</td><td>0</td><td>0</td><td>0</td></tr></table>\n",
       "    </div>\n",
       "    \n",
       "    <script type=\"text/javascript\">\n",
       "    function updatei6822179(pos) {\n",
       "        const audio = document.getElementById('player-i6822179');\n",
       "        const table = document.getElementById('table-i6822179');\n",
       "        times = table.querySelector('tr:first-child');\n",
       "        preds = table.querySelector('tr:last-child');  \n",
       "\n",
       "        const currentCell = Math.floor(audio.currentTime * 2);\n",
       "        for (let i = 0; i < table.rows[0].cells.length; i++) {\n",
       "            const cell = table.rows[0].cells[i];\n",
       "            if (i === currentCell) {\n",
       "                cell.className = 'highlighted';\n",
       "            } else {\n",
       "                cell.className = '';            \n",
       "            }\n",
       "        }\n",
       "    }\n",
       "    </script>\n",
       "    \n"
      ],
      "text/plain": [
       "<IPython.core.display.HTML object>"
      ]
     },
     "metadata": {},
     "output_type": "display_data"
    }
   ],
   "source": [
    "predictAudio('data/test.wav')"
   ]
  },
  {
   "cell_type": "code",
   "execution_count": 4,
   "metadata": {},
   "outputs": [
    {
     "name": "stdout",
     "output_type": "stream",
     "text": [
      "INFO:tensorflow:Restoring parameters from ./vggish_model.ckpt\n",
      "INFO:tensorflow:Restoring parameters from ./model/model_950_100\n"
     ]
    },
    {
     "data": {
      "image/png": "[encoded data removed]",
      "text/plain": [
       "<Figure size 432x288 with 1 Axes>"
      ]
     },
     "metadata": {
      "needs_background": "light"
     },
     "output_type": "display_data"
    },
    {
     "data": {
      "text/html": [
       "\n",
       "    \n",
       "    <style type=\"text/css\">\n",
       "    body .rendered_html .table-container {\n",
       "        max-width: 600px;\n",
       "        overflow: scroll;\n",
       "    }\n",
       "    body .rendered_html table {\n",
       "        border-collapse: collapse\n",
       "    }\n",
       "    body .rendered_html table td {\n",
       "        border: 1px solid #EEE;\n",
       "        background: white;\n",
       "        padding: 0;\n",
       "    }\n",
       "    body .rendered_html table td.highlighted {\n",
       "        border: 1px solid #CCC;\n",
       "        background: yellow;\n",
       "    }    \n",
       "    </style>\n",
       "    \n",
       "    <audio ontimeupdate=\"updatei883572()\" src=\"data/wGhg-htVnJ0/prepared.wav\" id=\"player-i883572\" controls />\n",
       "    <div class=\"table-container\">\n",
       "    <table id=\"table-i883572\"><tr><td>0.0</td><td>0.48</td><td>0.96</td><td>1.44</td><td>1.92</td><td>2.4</td><td>2.88</td><td>3.36</td><td>3.84</td><td>4.32</td><td>4.8</td><td>5.28</td><td>5.76</td><td>6.24</td><td>6.72</td><td>7.2</td><td>7.68</td><td>8.16</td><td>8.64</td><td>9.12</td><td>9.6</td><td>10.08</td><td>10.56</td><td>11.04</td><td>11.52</td><td>12.0</td><td>12.48</td><td>12.96</td><td>13.44</td><td>13.92</td><td>14.4</td><td>14.88</td><td>15.36</td><td>15.84</td><td>16.32</td><td>16.8</td><td>17.28</td><td>17.76</td><td>18.24</td><td>18.72</td><td>19.2</td><td>19.68</td><td>20.16</td><td>20.64</td><td>21.12</td><td>21.6</td><td>22.08</td><td>22.56</td><td>23.04</td><td>23.52</td><td>24.0</td><td>24.48</td><td>24.96</td><td>25.44</td><td>25.92</td><td>26.4</td><td>26.88</td><td>27.36</td><td>27.84</td><td>28.32</td><td>28.8</td><td>29.28</td><td>29.76</td><td>30.24</td><td>30.72</td><td>31.2</td><td>31.68</td><td>32.16</td><td>32.64</td><td>33.12</td><td>33.6</td><td>34.08</td><td>34.56</td><td>35.04</td><td>35.52</td><td>36.0</td><td>36.48</td><td>36.96</td><td>37.44</td><td>37.92</td><td>38.4</td><td>38.88</td><td>39.36</td><td>39.84</td><td>40.32</td><td>40.8</td><td>41.28</td><td>41.76</td><td>42.24</td><td>42.72</td><td>43.2</td><td>43.68</td><td>44.16</td><td>44.64</td><td>45.12</td><td>45.6</td><td>46.08</td><td>46.56</td><td>47.04</td><td>47.52</td><td>48.0</td><td>48.48</td><td>48.96</td><td>49.44</td><td>49.92</td><td>50.4</td><td>50.88</td><td>51.36</td><td>51.84</td><td>52.32</td><td>52.8</td><td>53.28</td><td>53.76</td><td>54.24</td><td>54.72</td><td>55.2</td><td>55.68</td><td>56.16</td><td>56.64</td><td>57.12</td><td>57.6</td><td>58.08</td><td>58.56</td><td>59.04</td><td>59.52</td><td>60.0</td><td>60.48</td><td>60.96</td><td>61.44</td><td>61.92</td><td>62.4</td><td>62.88</td><td>63.36</td><td>63.84</td><td>64.32</td><td>64.8</td><td>65.28</td><td>65.76</td><td>66.24</td><td>66.72</td><td>67.2</td><td>67.68</td><td>68.16</td><td>68.64</td><td>69.12</td><td>69.6</td><td>70.08</td><td>70.56</td><td>71.04</td><td>71.52</td><td>72.0</td><td>72.48</td><td>72.96</td><td>73.44</td><td>73.92</td><td>74.4</td><td>74.88</td><td>75.36</td><td>75.84</td><td>76.32</td><td>76.8</td><td>77.28</td><td>77.76</td><td>78.24</td><td>78.72</td><td>79.2</td><td>79.68</td><td>80.16</td><td>80.64</td><td>81.12</td><td>81.6</td><td>82.08</td><td>82.56</td><td>83.04</td><td>83.52</td><td>84.0</td><td>84.48</td><td>84.96</td><td>85.44</td><td>85.92</td><td>86.4</td><td>86.88</td><td>87.36</td><td>87.84</td><td>88.32</td><td>88.8</td><td>89.28</td><td>89.76</td><td>90.24</td><td>90.72</td><td>91.2</td><td>91.68</td><td>92.16</td><td>92.64</td><td>93.12</td><td>93.6</td><td>94.08</td><td>94.56</td><td>95.04</td><td>95.52</td><td>96.0</td><td>96.48</td><td>96.96</td><td>97.44</td><td>97.92</td><td>98.4</td><td>98.88</td><td>99.36</td><td>99.84</td><td>100.32</td><td>100.8</td><td>101.28</td><td>101.76</td><td>102.24</td><td>102.72</td><td>103.2</td><td>103.68</td><td>104.16</td><td>104.64</td><td>105.12</td><td>105.6</td><td>106.08</td><td>106.56</td><td>107.04</td><td>107.52</td><td>108.0</td><td>108.48</td><td>108.96</td><td>109.44</td><td>109.92</td><td>110.4</td><td>110.88</td><td>111.36</td><td>111.84</td><td>112.32</td><td>112.8</td><td>113.28</td><td>113.76</td><td>114.24</td><td>114.72</td><td>115.2</td><td>115.68</td><td>116.16</td><td>116.64</td><td>117.12</td><td>117.6</td><td>118.08</td><td>118.56</td><td>119.04</td><td>119.52</td><td>120.0</td><td>120.48</td><td>120.96</td><td>121.44</td><td>121.92</td><td>122.4</td><td>122.88</td><td>123.36</td><td>123.84</td><td>124.32</td><td>124.8</td><td>125.28</td><td>125.76</td><td>126.24</td><td>126.72</td><td>127.2</td><td>127.68</td><td>128.16</td><td>128.64</td><td>129.12</td><td>129.6</td><td>130.08</td><td>130.56</td><td>131.04</td><td>131.52</td><td>132.0</td><td>132.48</td><td>132.96</td><td>133.44</td><td>133.92</td><td>134.4</td><td>134.88</td><td>135.36</td><td>135.84</td><td>136.32</td><td>136.8</td><td>137.28</td><td>137.76</td><td>138.24</td><td>138.72</td><td>139.2</td><td>139.68</td><td>140.16</td><td>140.64</td><td>141.12</td><td>141.6</td><td>142.08</td><td>142.56</td><td>143.04</td><td>143.52</td><td>144.0</td><td>144.48</td><td>144.96</td><td>145.44</td><td>145.92</td><td>146.4</td><td>146.88</td><td>147.36</td><td>147.84</td><td>148.32</td><td>148.8</td><td>149.28</td><td>149.76</td><td>150.24</td><td>150.72</td><td>151.2</td><td>151.68</td><td>152.16</td><td>152.64</td><td>153.12</td><td>153.6</td><td>154.08</td><td>154.56</td><td>155.04</td><td>155.52</td><td>156.0</td><td>156.48</td><td>156.96</td><td>157.44</td><td>157.92</td><td>158.4</td><td>158.88</td><td>159.36</td><td>159.84</td><td>160.32</td><td>160.8</td><td>161.28</td><td>161.76</td><td>162.24</td><td>162.72</td><td>163.2</td><td>163.68</td><td>164.16</td><td>164.64</td><td>165.12</td><td>165.6</td><td>166.08</td><td>166.56</td><td>167.04</td><td>167.52</td><td>168.0</td><td>168.48</td><td>168.96</td><td>169.44</td><td>169.92</td><td>170.4</td><td>170.88</td><td>171.36</td><td>171.84</td><td>172.32</td><td>172.8</td><td>173.28</td><td>173.76</td><td>174.24</td><td>174.72</td><td>175.2</td><td>175.68</td><td>176.16</td><td>176.64</td><td>177.12</td><td>177.6</td><td>178.08</td><td>178.56</td><td>179.04</td><td>179.52</td><td>180.0</td><td>180.48</td><td>180.96</td><td>181.44</td><td>181.92</td><td>182.4</td><td>182.88</td><td>183.36</td><td>183.84</td><td>184.32</td><td>184.8</td><td>185.28</td><td>185.76</td><td>186.24</td><td>186.72</td><td>187.2</td><td>187.68</td><td>188.16</td><td>188.64</td><td>189.12</td></tr><tr><td>0</td><td>1</td><td>0</td><td>1</td><td>1</td><td>1</td><td>1</td><td>1</td><td>1</td><td>1</td><td>1</td><td>1</td><td>1</td><td>1</td><td>1</td><td>1</td><td>1</td><td>1</td><td>1</td><td>1</td><td>1</td><td>1</td><td>1</td><td>1</td><td>1</td><td>1</td><td>1</td><td>1</td><td>0</td><td>0</td><td>0</td><td>0</td><td>0</td><td>1</td><td>1</td><td>1</td><td>1</td><td>1</td><td>1</td><td>0</td><td>0</td><td>0</td><td>0</td><td>1</td><td>1</td><td>1</td><td>1</td><td>1</td><td>1</td><td>1</td><td>0</td><td>0</td><td>1</td><td>1</td><td>1</td><td>1</td><td>1</td><td>1</td><td>1</td><td>1</td><td>1</td><td>1</td><td>1</td><td>1</td><td>1</td><td>1</td><td>1</td><td>1</td><td>1</td><td>1</td><td>1</td><td>1</td><td>1</td><td>1</td><td>1</td><td>0</td><td>0</td><td>0</td><td>0</td><td>0</td><td>1</td><td>0</td><td>0</td><td>1</td><td>1</td><td>1</td><td>1</td><td>1</td><td>0</td><td>1</td><td>1</td><td>1</td><td>1</td><td>1</td><td>1</td><td>1</td><td>1</td><td>1</td><td>1</td><td>1</td><td>0</td><td>0</td><td>0</td><td>1</td><td>1</td><td>1</td><td>1</td><td>1</td><td>1</td><td>1</td><td>1</td><td>1</td><td>1</td><td>1</td><td>1</td><td>1</td><td>1</td><td>1</td><td>0</td><td>0</td><td>1</td><td>1</td><td>1</td><td>1</td><td>0</td><td>0</td><td>1</td><td>1</td><td>1</td><td>1</td><td>1</td><td>1</td><td>1</td><td>1</td><td>1</td><td>1</td><td>0</td><td>0</td><td>0</td><td>0</td><td>0</td><td>1</td><td>1</td><td>1</td><td>1</td><td>1</td><td>1</td><td>1</td><td>1</td><td>1</td><td>1</td><td>1</td><td>1</td><td>1</td><td>1</td><td>1</td><td>1</td><td>1</td><td>1</td><td>1</td><td>1</td><td>1</td><td>0</td><td>1</td><td>1</td><td>1</td><td>1</td><td>0</td><td>0</td><td>0</td><td>0</td><td>1</td><td>1</td><td>1</td><td>1</td><td>1</td><td>1</td><td>1</td><td>1</td><td>1</td><td>1</td><td>1</td><td>1</td><td>1</td><td>1</td><td>1</td><td>1</td><td>1</td><td>0</td><td>0</td><td>1</td><td>1</td><td>1</td><td>0</td><td>0</td><td>0</td><td>0</td><td>0</td><td>1</td><td>1</td><td>1</td><td>1</td><td>0</td><td>0</td><td>0</td><td>0</td><td>0</td><td>0</td><td>1</td><td>1</td><td>1</td><td>1</td><td>1</td><td>1</td><td>1</td><td>1</td><td>1</td><td>1</td><td>1</td><td>1</td><td>1</td><td>1</td><td>1</td><td>1</td><td>1</td><td>0</td><td>1</td><td>1</td><td>1</td><td>0</td><td>0</td><td>0</td><td>1</td><td>0</td><td>1</td><td>1</td><td>1</td><td>1</td><td>1</td><td>1</td><td>1</td><td>1</td><td>1</td><td>1</td><td>1</td><td>1</td><td>1</td><td>1</td><td>1</td><td>1</td><td>1</td><td>1</td><td>0</td><td>0</td><td>0</td><td>0</td><td>0</td><td>1</td><td>1</td><td>1</td><td>1</td><td>1</td><td>1</td><td>1</td><td>1</td><td>1</td><td>1</td><td>1</td><td>1</td><td>1</td><td>0</td><td>0</td><td>0</td><td>0</td><td>0</td><td>1</td><td>1</td><td>0</td><td>0</td><td>0</td><td>0</td><td>0</td><td>0</td><td>0</td><td>1</td><td>1</td><td>1</td><td>0</td><td>1</td><td>1</td><td>0</td><td>0</td><td>1</td><td>1</td><td>1</td><td>1</td><td>1</td><td>1</td><td>0</td><td>1</td><td>0</td><td>1</td><td>1</td><td>1</td><td>1</td><td>1</td><td>1</td><td>1</td><td>1</td><td>1</td><td>1</td><td>0</td><td>1</td><td>0</td><td>0</td><td>0</td><td>0</td><td>1</td><td>1</td><td>1</td><td>1</td><td>1</td><td>1</td><td>1</td><td>1</td><td>1</td><td>1</td><td>1</td><td>1</td><td>1</td><td>1</td><td>0</td><td>0</td><td>0</td><td>0</td><td>0</td><td>1</td><td>1</td><td>1</td><td>1</td><td>1</td><td>1</td><td>1</td><td>1</td><td>1</td><td>1</td><td>1</td><td>1</td><td>1</td><td>0</td><td>0</td><td>0</td><td>1</td><td>1</td><td>1</td><td>1</td><td>1</td><td>1</td><td>1</td><td>1</td><td>1</td><td>1</td><td>1</td><td>1</td><td>1</td><td>1</td><td>1</td><td>1</td><td>1</td><td>1</td><td>1</td><td>1</td><td>1</td><td>1</td><td>1</td><td>1</td><td>1</td><td>1</td><td>1</td><td>1</td><td>1</td><td>1</td><td>1</td><td>0</td><td>1</td><td>1</td><td>1</td><td>1</td><td>1</td><td>1</td><td>1</td><td>1</td><td>1</td><td>1</td><td>0</td></tr></table>\n",
       "    </div>\n",
       "    \n",
       "    <script type=\"text/javascript\">\n",
       "    function updatei883572(pos) {\n",
       "        const audio = document.getElementById('player-i883572');\n",
       "        const table = document.getElementById('table-i883572');\n",
       "        times = table.querySelector('tr:first-child');\n",
       "        preds = table.querySelector('tr:last-child');  \n",
       "\n",
       "        const currentCell = Math.floor(audio.currentTime * 2);\n",
       "        for (let i = 0; i < table.rows[0].cells.length; i++) {\n",
       "            const cell = table.rows[0].cells[i];\n",
       "            if (i === currentCell) {\n",
       "                cell.className = 'highlighted';\n",
       "            } else {\n",
       "                cell.className = '';            \n",
       "            }\n",
       "        }\n",
       "    }\n",
       "    </script>\n",
       "    \n"
      ],
      "text/plain": [
       "<IPython.core.display.HTML object>"
      ]
     },
     "metadata": {},
     "output_type": "display_data"
    }
   ],
   "source": [
    "#download('wGhg-htVnJ0')\n",
    "predictAudio('data/wGhg-htVnJ0/prepared.wav')"
   ]
  }
 ],
 "metadata": {
  "kernelspec": {
   "display_name": "Python 3",
   "language": "python",
   "name": "python3"
  },
  "language_info": {
   "codemirror_mode": {
    "name": "ipython",
    "version": 3
   },
   "file_extension": ".py",
   "mimetype": "text/x-python",
   "name": "python",
   "nbconvert_exporter": "python",
   "pygments_lexer": "ipython3",
   "version": "3.5.2"
  }
 },
 "nbformat": 4,
 "nbformat_minor": 2
}
