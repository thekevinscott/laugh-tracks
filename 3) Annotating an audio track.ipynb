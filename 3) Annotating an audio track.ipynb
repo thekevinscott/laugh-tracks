{
 "cells": [
  {
   "cell_type": "code",
   "execution_count": 1,
   "metadata": {},
   "outputs": [],
   "source": [
    "def installDeps():\n",
    "    !pip install numpy scipy\n",
    "    !pip install resampy tensorflow six\n",
    "    !pip install youtube_dl\n",
    "    !pip install ipywidgets\n",
    "    !pip install pydub\n",
    "    !pip install tqdm\n",
    "    !pip install ffmpeg-python\n",
    "    !apt-get install ffmpeg\n",
    "#!python vggish_train_demo.py --num_batches 50 --train_vggish=False --checkpoint './vggish_model.ckpt'\n",
    "\n",
    "from __future__ import print_function\n",
    "\n",
    "from random import shuffle\n",
    "\n",
    "import numpy as np\n",
    "import tensorflow as tf\n",
    "import os\n",
    "import vggish_params\n",
    "from pydub import AudioSegment\n",
    "from audioUtils import readFolder\n",
    "from audioModel import predict, train\n",
    "from audioInput import getLaughTracks, getNoise, processWavFile\n",
    "import IPython.display as ipd\n",
    "from IPython.core.display import display, HTML\n",
    "from audioDisplay import predictAudio\n",
    "import random\n",
    "import json\n",
    "from audioUtils import downloadYtAndPrepareAudio\n",
    "\n",
    "\n",
    "def download(id):\n",
    "    downloadYtAndPrepareAudio(id, 'data', stripSilence=False)\n",
    "    "
   ]
  },
  {
   "cell_type": "code",
   "execution_count": 2,
   "metadata": {},
   "outputs": [
    {
     "name": "stdout",
     "output_type": "stream",
     "text": [
      "loading ./model/audio_1/1_1/model\n",
      "INFO:tensorflow:Restoring parameters from ./vggish_model.ckpt\n",
      "INFO:tensorflow:Restoring parameters from ./model/audio_1/1_1/model\n"
     ]
    },
    {
     "data": {
      "text/html": [
       "\n",
       "    \n",
       "    <style type=\"text/css\">\n",
       " #waveform {\n",
       " width: 200px;\n",
       " height: 200px;\n",
       " background: #EEE;\n",
       " }\n",
       "    </style>\n",
       "    \n",
       "    <div id=\"i2099177\"></div>\n",
       "    \n",
       "    <script src=\"https://thekevinscott.github.io/laugh-tracks/frontend-dist/static/js/main.8e06b391.js\"></script>\n",
       "    <script type=\"text/javascript\">\n",
       "        var jsonPreds = [\"x\", \"x\", \"x\", \"x\", \"x\", \"x\", \"x\", \"x\", \"x\", \"x\", \"x\", \"x\", \"x\", \"x\", \"x\", \"x\", \"x\", \"x\", \"x\", \"x\", \"x\", \"x\", \"x\", \"x\", \"x\", \"x\", \"x\", \"x\", \"x\", \"x\", \"x\", \"x\", \"x\", \"x\", \"x\", \"x\", \"x\", \"x\", \"x\", \"x\", \"x\", \"x\", \"x\", \"x\", \"x\", \"x\", \"x\", \"x\", \"x\", \"x\", \"x\", \"x\", \"x\", \"x\", \"x\", \"x\", \"x\", \"x\", \"x\", \"x\"];\n",
       "        var predMarkers = [];\n",
       "        jsonPreds.forEach(function(pred, i) {\n",
       "            predMarkers.push({\n",
       "                label: pred,\n",
       "                timestamp: 0.960000 * i,\n",
       "            })\n",
       "        })\n",
       "        waveform.default(document.getElementById('i2099177'), 'data/test.wav', predMarkers);\n",
       "    </script>\n",
       "    \n"
      ],
      "text/plain": [
       "<IPython.core.display.HTML object>"
      ]
     },
     "metadata": {},
     "output_type": "display_data"
    },
    {
     "data": {
      "text/plain": [
       "array([1, 1, 1, 1, 1, 1, 1, 1, 1, 1, 1, 1, 1, 1, 1, 1, 1, 1, 1, 1, 1, 1,\n",
       "       1, 1, 1, 1, 1, 1, 1, 1, 1, 1, 1, 1, 1, 1, 1, 1, 1, 1, 1, 1, 1, 1,\n",
       "       1, 1, 1, 1, 1, 1, 1, 1, 1, 1, 1, 1, 1, 1, 1, 1])"
      ]
     },
     "execution_count": 2,
     "metadata": {},
     "output_type": "execute_result"
    }
   ],
   "source": [
    "predictAudio('data/test.wav', 'audio_1', ['laugh', 'x'])    \n",
    "#predictAudio('data/test.wav', 'audio_500_62-100')\n",
    "#download('wGhg-htVnJ0')\n"
   ]
  },
  {
   "cell_type": "code",
   "execution_count": null,
   "metadata": {},
   "outputs": [],
   "source": [
    "predictAudio('data/wGhg-htVnJ0/prepared.wav', 'audio_800_0-100')"
   ]
  },
  {
   "cell_type": "code",
   "execution_count": null,
   "metadata": {},
   "outputs": [],
   "source": []
  }
 ],
 "metadata": {
  "kernelspec": {
   "display_name": "Python 3",
   "language": "python",
   "name": "python3"
  },
  "language_info": {
   "codemirror_mode": {
    "name": "ipython",
    "version": 3
   },
   "file_extension": ".py",
   "mimetype": "text/x-python",
   "name": "python",
   "nbconvert_exporter": "python",
   "pygments_lexer": "ipython3",
   "version": "3.5.2"
  }
 },
 "nbformat": 4,
 "nbformat_minor": 2
}
