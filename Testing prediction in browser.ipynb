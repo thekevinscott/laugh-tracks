{
 "cells": [
  {
   "cell_type": "code",
   "execution_count": 1,
   "metadata": {},
   "outputs": [],
   "source": [
    "#from audioModel import predict, train, accuracy, getCorrectAndIncorrect\n",
    "#from audioInput import getLaughTracks\n",
    "import tensorflow as tf\n",
    "from audioModel import predict, accuracy, getCorrectAndIncorrect\n",
    "from audioInput import readFolderRecursive\n",
    "from audioDisplay import getModel, displayAudio\n",
    "from audioInput_v2 import gatherTestingData, getOneHot, concatSamples\n",
    "from audioDisplay import printResults\n",
    "import numpy as np"
   ]
  },
  {
   "cell_type": "code",
   "execution_count": 11,
   "metadata": {},
   "outputs": [],
   "source": [
    "dirs = ['samples/test-samples/guitar','samples/test-samples/piano']\n",
    "classes = ['guitar', 'piano']\n",
    "model_name = 'guitar-piano'\n",
    "\n",
    "\n",
    "dirs = ['samples/test-samples/orchestra-test','samples/test-samples/wolves-test']\n",
    "classes = ['orchestra', 'wolves']\n",
    "model_name = 'orchestra-wolves'"
   ]
  },
  {
   "cell_type": "code",
   "execution_count": 12,
   "metadata": {},
   "outputs": [
    {
     "name": "stderr",
     "output_type": "stream",
     "text": [
      "  0%|          | 0/2 [00:00<?, ?it/s]\n",
      "  0%|          | 0/1 [00:00<?, ?it/s]\u001b[A\n",
      "100%|██████████| 1/1 [00:00<00:00, 2100.30it/s]\u001b[A\n",
      "  0%|          | 0/305 [00:00<?, ?it/s]\u001b[A\n",
      "100%|██████████| 2/2 [00:00<00:00, 26.83it/s]89it/s]\u001b[A"
     ]
    },
    {
     "name": "stdout",
     "output_type": "stream",
     "text": [
      "im punting on this and just discarding chunks that dont have audio\n"
     ]
    },
    {
     "name": "stderr",
     "output_type": "stream",
     "text": [
      "\n",
      "/notebooks/laugh-tracks/audioInput.py:123: RuntimeWarning: invalid value encountered in true_divide\n",
      "  normalized = (x-np.min(x))/(np.max(x)-np.min(x))\n"
     ]
    },
    {
     "name": "stdout",
     "output_type": "stream",
     "text": [
      "INFO:tensorflow:Restoring parameters from ./vggish_model.ckpt\n",
      "INFO:tensorflow:Restoring parameters from ./model/orchestra-wolves/20_20/model\n"
     ]
    }
   ],
   "source": [
    "files = []\n",
    "for d in dirs:\n",
    "    files += readFolderRecursive(d)  \n",
    "    \n",
    "x, chunks = gatherTestingData(files)\n",
    "\n",
    "model_name = getModel(model_name)\n",
    "preds = predict(model_name, len(classes), x)\n"
   ]
  },
  {
   "cell_type": "code",
   "execution_count": 13,
   "metadata": {},
   "outputs": [
    {
     "name": "stdout",
     "output_type": "stream",
     "text": [
      "accuracy 0.8992805755395683\n",
      "123 {'starting_index': 118819, 'audio': <pydub.audio_segment.AudioSegment object at 0x7f4641057748>, 'file': 'samples/test-samples/wolves-test/QnVzn-1mESU.wav', 'samples': array([[[0.2392311 , 0.34770274, 0.51486777, ..., 0.51243761,\n",
      "         0.59934854, 0.70222001],\n",
      "        [0.46372083, 0.44465184, 0.44107387, ..., 0.47485834,\n",
      "         0.4958912 , 0.72598007],\n",
      "        [0.43714216, 0.51186162, 0.54418337, ..., 0.49751656,\n",
      "         0.50176938, 0.62949127],\n",
      "        ...,\n",
      "        [0.35299844, 0.35800754, 0.2672055 , ..., 0.32611577,\n",
      "         0.33286176, 0.3274004 ],\n",
      "        [0.21894255, 0.2048163 , 0.30118299, ..., 0.3254897 ,\n",
      "         0.25945579, 0.22095982],\n",
      "        [0.21747328, 0.2710391 , 0.31931507, ..., 0.41188453,\n",
      "         0.31797685, 0.30651352]]])}\n",
      "267 {'starting_index': 258211, 'audio': <pydub.audio_segment.AudioSegment object at 0x7f4641000dd8>, 'file': 'samples/test-samples/wolves-test/QnVzn-1mESU.wav', 'samples': array([[[0.38642023, 0.39303583, 0.37895198, ..., 0.44258027,\n",
      "         0.47134264, 0.47684781],\n",
      "        [0.34295673, 0.50958093, 0.5532285 , ..., 0.53963259,\n",
      "         0.46860369, 0.52428467],\n",
      "        [0.5242139 , 0.44793006, 0.3432499 , ..., 0.42915309,\n",
      "         0.52630875, 0.48069417],\n",
      "        ...,\n",
      "        [0.5674909 , 0.53312194, 0.44651827, ..., 0.48076031,\n",
      "         0.53532988, 0.46556026],\n",
      "        [0.53328252, 0.51493226, 0.41044417, ..., 0.44911805,\n",
      "         0.52233641, 0.51504411],\n",
      "        [0.42011065, 0.47400458, 0.48862393, ..., 0.49355696,\n",
      "         0.54462989, 0.45826641]]])}\n",
      "149 {'starting_index': 143987, 'audio': <pydub.audio_segment.AudioSegment object at 0x7f46407ea6a0>, 'file': 'samples/test-samples/wolves-test/QnVzn-1mESU.wav', 'samples': array([[[0.47925273, 0.48757755, 0.47415522, ..., 0.76648463,\n",
      "         0.7400598 , 0.75095586],\n",
      "        [0.50077114, 0.3427076 , 0.39083759, ..., 0.6435759 ,\n",
      "         0.63971367, 0.71076796],\n",
      "        [0.64047847, 0.56484672, 0.30704659, ..., 0.63245342,\n",
      "         0.70969153, 0.66680467],\n",
      "        ...,\n",
      "        [0.45275315, 0.37537002, 0.57841197, ..., 0.69150644,\n",
      "         0.78673282, 0.76009804],\n",
      "        [0.444696  , 0.31064087, 0.55005055, ..., 0.65691322,\n",
      "         0.72945963, 0.63116936],\n",
      "        [0.45770129, 0.4139594 , 0.32124259, ..., 0.67489901,\n",
      "         0.80343074, 0.64869035]]])}\n",
      "217 {'starting_index': 209811, 'audio': <pydub.audio_segment.AudioSegment object at 0x7f46410002e8>, 'file': 'samples/test-samples/wolves-test/QnVzn-1mESU.wav', 'samples': array([[[0.56688227, 0.60865306, 0.46565636, ..., 0.57683225,\n",
      "         0.63340083, 0.68881788],\n",
      "        [0.63926311, 0.66281712, 0.61658029, ..., 0.57964535,\n",
      "         0.66720898, 0.62329428],\n",
      "        [0.44214682, 0.47940495, 0.55522857, ..., 0.62278824,\n",
      "         0.64729708, 0.6177242 ],\n",
      "        ...,\n",
      "        [0.30493926, 0.42046033, 0.53192864, ..., 0.50711208,\n",
      "         0.49818485, 0.47488477],\n",
      "        [0.4804785 , 0.48055221, 0.53659853, ..., 0.52560458,\n",
      "         0.50868416, 0.54794432],\n",
      "        [0.47112892, 0.39387066, 0.45894041, ..., 0.53050187,\n",
      "         0.57258812, 0.56189688]]])}\n",
      "172 {'starting_index': 166251, 'audio': <pydub.audio_segment.AudioSegment object at 0x7f46407eac88>, 'file': 'samples/test-samples/wolves-test/QnVzn-1mESU.wav', 'samples': array([[[0.34975311, 0.36758836, 0.42558238, ..., 0.53722694,\n",
      "         0.48360155, 0.4662218 ],\n",
      "        [0.42455701, 0.40887044, 0.46538977, ..., 0.48028604,\n",
      "         0.45528175, 0.5301898 ],\n",
      "        [0.53662359, 0.5215639 , 0.42128588, ..., 0.51505904,\n",
      "         0.50032554, 0.48273471],\n",
      "        ...,\n",
      "        [0.44532319, 0.50467348, 0.59095323, ..., 0.63646583,\n",
      "         0.76280504, 0.65377124],\n",
      "        [0.5092421 , 0.5584836 , 0.54896451, ..., 0.49068141,\n",
      "         0.65674684, 0.56797303],\n",
      "        [0.22199428, 0.41919021, 0.59623951, ..., 0.52169945,\n",
      "         0.63543107, 0.54670221]]])}\n"
     ]
    }
   ],
   "source": [
    "\n",
    "def getLabelsFromChunks(chunks):\n",
    "    labels = {}\n",
    "    for chunk in chunks:\n",
    "        label = chunk['file'].split('/')[2:3][0]\n",
    "        i = len(labels.keys()) - 1\n",
    "        #print('label', label)\n",
    "        labels[label] = i\n",
    "        \n",
    "    one_hot_labels = None\n",
    "    classes = len(labels.keys())\n",
    "    #print('classes', classes)\n",
    "    for chunk in chunks:\n",
    "        label = chunk['file'].split('/')[2:3][0]\n",
    "        #print('label', label)\n",
    "        #print('labels', labels[label])\n",
    "        one_hots = getOneHot(classes, labels[label])\n",
    "        if one_hot_labels is None:\n",
    "            one_hot_labels = [one_hots]\n",
    "        else:\n",
    "            #print('one hots', one_hots)\n",
    "            one_hot_labels = np.concatenate((one_hot_labels, [one_hots]), axis=0)\n",
    "    #print('final one hots', one_hot_labels)\n",
    "    return one_hot_labels\n",
    "\n",
    "def displayCorrectIncorrectResults(preds, labels, chunks): \n",
    "    #print(preds, labels, chunks)\n",
    "    pretty = printResults(preds)\n",
    "    prettyLabels = printResults(labels)\n",
    "    #for i in range(len(preds)):\n",
    "        #print('actual', prettyLabels[i], 'predicted (pretty)', pretty[i], 'predicted', preds[i])\n",
    "\n",
    "    correct = []\n",
    "    incorrect = []\n",
    "    #print(preds, labels)\n",
    "    print('accuracy', accuracy(preds, labels))\n",
    "    correct, incorrect = getCorrectAndIncorrect(preds, labels)\n",
    "    #print(correct[0:5])\n",
    "    for result in incorrect[0:5]:\n",
    "        i = result['i']\n",
    "        print(i, chunks[i])\n",
    "\n",
    "    #return correct, incorrect\n",
    "displayCorrectIncorrectResults(preds, getLabelsFromChunks(chunks), chunks)\n",
    "\n",
    "#printResults2(preds, ])\n",
    "\n",
    "\n"
   ]
  },
  {
   "cell_type": "code",
   "execution_count": 7,
   "metadata": {},
   "outputs": [
    {
     "data": {
      "text/html": [
       "\n",
       "                    <audio controls>\n",
       "                        <source src=\"data:audio/mpeg;base64,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\" type=\"audio/mpeg\"/>\n",
       "                        Your browser does not support the audio element.\n",
       "                    </audio>\n",
       "                  "
      ],
      "text/plain": [
       "<pydub.audio_segment.AudioSegment at 0x7f464b803588>"
      ]
     },
     "execution_count": 7,
     "metadata": {},
     "output_type": "execute_result"
    }
   ],
   "source": [
    "chunks[123]['audio']"
   ]
  },
  {
   "cell_type": "code",
   "execution_count": null,
   "metadata": {},
   "outputs": [],
   "source": []
  }
 ],
 "metadata": {
  "kernelspec": {
   "display_name": "Python 3",
   "language": "python",
   "name": "python3"
  },
  "language_info": {
   "codemirror_mode": {
    "name": "ipython",
    "version": 3
   },
   "file_extension": ".py",
   "mimetype": "text/x-python",
   "name": "python",
   "nbconvert_exporter": "python",
   "pygments_lexer": "ipython3",
   "version": "3.5.2"
  }
 },
 "nbformat": 4,
 "nbformat_minor": 2
}
