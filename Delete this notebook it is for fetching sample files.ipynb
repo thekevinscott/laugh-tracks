{
 "cells": [
  {
   "cell_type": "code",
   "execution_count": 5,
   "metadata": {},
   "outputs": [
    {
     "name": "stdout",
     "output_type": "stream",
     "text": [
      "id vIRravl8FnI samples/test-samples/guitar/vIRravl8FnI\n",
      "samples/test-samples/guitar/vIRravl8FnI.wav\n",
      "cmd youtube-dl --extract-audio --audio-format wav --output samples/test-samples/guitar/vIRravl8FnI.wav http://www.youtube.com/watch?v=vIRravl8FnI\n",
      "we got it\n",
      "id O3IOBBW1yw4 samples/test-samples/piano/O3IOBBW1yw4\n",
      "samples/test-samples/piano/O3IOBBW1yw4.wav\n",
      "cmd youtube-dl --extract-audio --audio-format wav --output samples/test-samples/piano/O3IOBBW1yw4.wav http://www.youtube.com/watch?v=O3IOBBW1yw4\n",
      "we got it\n"
     ]
    }
   ],
   "source": [
    "import os\n",
    "from audioUtils import downloadYtAndPrepareAudio\n",
    "\n",
    "dirs = [\n",
    "    [        \n",
    "        'guitar',\n",
    "        [\n",
    "            'vIRravl8FnI',\n",
    "        ],\n",
    "    ],\n",
    "    [        \n",
    "        'piano',\n",
    "        [\n",
    "            'O3IOBBW1yw4',\n",
    "        ],\n",
    "    ],\n",
    "   \n",
    "    \n",
    "]\n",
    "for d in dirs:\n",
    "    label, files = d\n",
    "    p = 'samples/test-samples/%s' % label\n",
    "    if not os.path.isdir(p):\n",
    "        os.mkdir(p)\n",
    "        \n",
    "    for file in files:\n",
    "        downloadYtAndPrepareAudio(file, '%s/%s' % (p, file), False)"
   ]
  },
  {
   "cell_type": "code",
   "execution_count": null,
   "metadata": {},
   "outputs": [],
   "source": [
    "python3 train_audio_model.py \\\n",
    "--dirs \"samples/test-samples/guitar,samples/test-samples/piano\" \\\n",
    "--model_name \"guitar-piano\" \\\n",
    "--epochs 20 \\\n",
    "--augment_folders \"noise_samples,\"\n",
    "\n",
    "!python3 predict_audio_model.py \\\n",
    "--model_name \"guitar-piano\" \\\n",
    "--dirs \"samples/test-samples/guitar,samples/test-samples/piano\" \\\n",
    "--classes \"guitar,piano\""
   ]
  },
  {
   "cell_type": "code",
   "execution_count": null,
   "metadata": {},
   "outputs": [],
   "source": [
    "python3 train_audio_model.py \\\n",
    "--dirs \"samples/test-samples/orchestra,samples/test-samples/wolves\" \\\n",
    "--model_name \"orchestra-wolves\" \\\n",
    "--epochs 20 \\\n",
    "--augment_folders \"noise_samples,noise_samples\" \\\n",
    "--number_of_augmentations 5\n",
    "\n",
    "!python3 predict_audio_model.py \\\n",
    "--model_name \"orchestra-wolves\" \\\n",
    "--dirs \"samples/test-samples/orchestra-test,samples/test-samples/wolves-test\" \\\n",
    "--classes \"orchestra,wolves\""
   ]
  },
  {
   "cell_type": "code",
   "execution_count": null,
   "metadata": {},
   "outputs": [],
   "source": [
    "python3 train_audio_model.py \\\n",
    "--dirs \"samples/laughter,samples/notlaughter\" \\\n",
    "--model_name \"laffbox\" \\\n",
    "--epochs 20 \\\n",
    "--augment_folders \"noise_samples,\" \\\n",
    "--number_of_augmentations 5\n",
    "\n",
    "!python3 predict_audio_model.py \\\n",
    "--model_name \"laffbox\" \\\n",
    "--dirs \"samples/laughter-test,samples/notlaughter-test\" \\\n",
    "--classes \"laughter,x\""
   ]
  }
 ],
 "metadata": {
  "kernelspec": {
   "display_name": "Python 3",
   "language": "python",
   "name": "python3"
  },
  "language_info": {
   "codemirror_mode": {
    "name": "ipython",
    "version": 3
   },
   "file_extension": ".py",
   "mimetype": "text/x-python",
   "name": "python",
   "nbconvert_exporter": "python",
   "pygments_lexer": "ipython3",
   "version": "3.5.2"
  }
 },
 "nbformat": 4,
 "nbformat_minor": 2
}
