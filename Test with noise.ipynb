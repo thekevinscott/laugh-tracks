{
 "cells": [
  {
   "cell_type": "code",
   "execution_count": 13,
   "metadata": {},
   "outputs": [],
   "source": [
    "from __future__ import print_function\n",
    "\n",
    "from random import shuffle\n",
    "\n",
    "import numpy as np\n",
    "import tensorflow as tf\n",
    "import os\n",
    "import vggish_input\n",
    "import vggish_params\n",
    "import vggish_slim\n",
    "from pydub import AudioSegment\n",
    "from audioModel import predict, train\n",
    "from pydub import AudioSegment, generators\n",
    "import IPython.display as ipd\n",
    "from IPython.core.display import display, HTML\n",
    "from audioInput import getLaughTracks, getNoise, processWavFile\n",
    "from audioDisplay import predictAudio\n",
    "import random\n",
    "from audioUtils import downloadYtAndPrepareAudio, shell, readFolder\n",
    "from audioTrain import trainAndSaveAndPredict, trainForNoise\n",
    "\n",
    "def getGenerator(generator, seconds):    \n",
    "    audio = AudioSegment.empty()\n",
    "    for i in range(seconds):\n",
    "        audio = audio + generator().to_audio_segment()\n",
    "    return audio\n",
    "        \n",
    "def buildNoise(path, seconds):\n",
    "    if os.path.isfile(path):    \n",
    "        shell('rm %s' % path)\n",
    "    SAMPLE_RATE = 44100\n",
    "    \n",
    "    def curriedSine():\n",
    "        return generators.Sine(440)\n",
    "\n",
    "    data = AudioSegment.empty()\n",
    "    for i in range(seconds):\n",
    "        generator = random.choice([curriedSine, generators.WhiteNoise])\n",
    "        data = data + getGenerator(generator, 1)\n",
    "    #data = data + getGenerator(curriedSine, 3) + getGenerator(generators.WhiteNoise, 3)        \n",
    "    \n",
    "    audio = AudioSegment(data.get_array_of_samples(), sample_width=2, channels=1, frame_rate=44100)\n",
    "    audio.export(path, format='wav')\n",
    "    #display(ipd.Audio(path))    \n",
    "    \n",
    "def getModel(path):\n",
    "    files = readFolder('model/%s' % path)\n",
    "    if len(files) > 0:\n",
    "        return '%s/%s' % (path, files[0])\n",
    "    return None\n",
    "\n"
   ]
  },
  {
   "cell_type": "code",
   "execution_count": 14,
   "metadata": {},
   "outputs": [
    {
     "name": "stdout",
     "output_type": "stream",
     "text": [
      "loading ./model/noise_100/20-20/model\n",
      "INFO:tensorflow:Restoring parameters from ./vggish_model.ckpt\n",
      "INFO:tensorflow:Restoring parameters from ./model/noise_100/20-20/model\n"
     ]
    },
    {
     "data": {
      "text/html": [
       "\n",
       "    \n",
       "    <style type=\"text/css\">\n",
       " #waveform {\n",
       " width: 200px;\n",
       " height: 200px;\n",
       " background: #EEE;\n",
       " }\n",
       "    </style>\n",
       "    \n",
       "    <div id=\"i6627290\"></div>\n",
       "    \n",
       "    <script src=\"https://thekevinscott.github.io/laugh-tracks/frontend-dist/static/js/main.8e06b391.js\"></script>\n",
       "    <script type=\"text/javascript\">\n",
       "        var jsonPreds = [\"sine\", \"noise\", \"const\", \"const\", \"noise\", \"sine\", \"sine\", \"noise\", \"noise\", \"sine\"];\n",
       "        var predMarkers = [];\n",
       "        jsonPreds.forEach(function(pred, i) {\n",
       "            predMarkers.push({\n",
       "                label: pred,\n",
       "                timestamp: 0.960000 * i,\n",
       "            })\n",
       "        })\n",
       "        waveform.default(document.getElementById('i6627290'), 'data/noise.wav', predMarkers);\n",
       "    </script>\n",
       "    \n"
      ],
      "text/plain": [
       "<IPython.core.display.HTML object>"
      ]
     },
     "metadata": {},
     "output_type": "display_data"
    },
    {
     "data": {
      "text/plain": [
       "array([0, 2, 1, 1, 2, 0, 0, 2, 2, 0])"
      ]
     },
     "execution_count": 14,
     "metadata": {},
     "output_type": "execute_result"
    }
   ],
   "source": [
    "buildNoise('data/noise.wav', 10)\n",
    "predictAudio('data/noise.wav', 'noise_100', ['sine', 'const', 'noise'], number_of_classes=3) "
   ]
  },
  {
   "cell_type": "code",
   "execution_count": 3,
   "metadata": {},
   "outputs": [],
   "source": [
    "predictAudio('data/noise.wav', getModel('noise_200'), number_of_classes = 3)"
   ]
  },
  {
   "cell_type": "code",
   "execution_count": null,
   "metadata": {},
   "outputs": [],
   "source": []
  }
 ],
 "metadata": {
  "kernelspec": {
   "display_name": "Python 3",
   "language": "python",
   "name": "python3"
  },
  "language_info": {
   "codemirror_mode": {
    "name": "ipython",
    "version": 3
   },
   "file_extension": ".py",
   "mimetype": "text/x-python",
   "name": "python",
   "nbconvert_exporter": "python",
   "pygments_lexer": "ipython3",
   "version": "3.5.2"
  }
 },
 "nbformat": 4,
 "nbformat_minor": 2
}
