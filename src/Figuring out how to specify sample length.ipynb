{
 "cells": [
  {
   "cell_type": "code",
   "execution_count": 9,
   "metadata": {},
   "outputs": [],
   "source": [
    "from __future__ import print_function\n",
    "\n",
    "from random import shuffle\n",
    "\n",
    "import numpy as np\n",
    "import tensorflow as tf\n",
    "import os\n",
    "import vggish_input\n",
    "import vggish_params\n",
    "import vggish_slim\n",
    "import math\n",
    "from pydub import AudioSegment\n",
    "from audioModel import predict, train\n",
    "from audioInput import getLaughTracks, getSamplesForFiles, getSampleForFile\n",
    "\n",
    "\n",
    "#file = getSamplesForFiles([\n",
    "#    'samples/laughter/16-lfVsYaxc.wav',\n",
    "#    'samples/laughter/3IC76o_lhFw.wav',\n",
    "#], number_of_samples=33)\n",
    "#np.array(file).shape"
   ]
  },
  {
   "cell_type": "code",
   "execution_count": 2,
   "metadata": {},
   "outputs": [],
   "source": [
    "from pydub import AudioSegment\n",
    "import IPython.display as ipd\n",
    "from IPython.core.display import display, HTML"
   ]
  },
  {
   "cell_type": "code",
   "execution_count": 12,
   "metadata": {},
   "outputs": [
    {
     "data": {
      "text/html": [
       "\n",
       "                <audio controls=\"controls\" >\n",
       "                    <source src=\"data:audio/x-wav;base64,SUQzBAAAAAAAI1RTU0UAAAAPAAADTGF2ZjU2LjQwLjEwMQAAAAAAAAAAAAAA//tQAAAAAAAAAAAAAAAAAAAAAAAAAAAAAAAAAAAAAAAAAAAASW5mbwAAAA8AAAAoAABCHgAJCQ8PFhYWHBwiIiIpKS8vLzU1PDw8QkJISEhOTlVVVVtbYWFhaGhubm50dHt7e4GBh4eHjo6UlJSamqGhoaenra2ttLS6urrAwMfHx83N09PT2trg4ODm5u3t7fPz+fn5//8AAAAATGF2YzU2LjYwAAAAAAAAAAAAAAAAJAAAAAAAAAAAQh51t8fmAAAAAAAAAAAAAAAAAAAAAP/7kGQADOLYXzAQAhkQLcD2MgACBgpFKNYDDFFBWTMagHGJ4AWmusOLiaVy9K8KuVPOU06aV3hCK/8r003c003NKfnEIOLRC0IO6E7k7uhSm+XN3/fz4RP8SgbAcLSvwyc+BFF7mTysSOf/NKf/CAFFnu8IYWEI94QA6Hwxie4AFKnPCAOBC/wscG/s//+s3jXh85znMs//Rkw+D5QMG4gLjj6Jx9hA+lY4yAJ/s/f9yaigQspR7E1MaA2wZkXQOfIL6wx0elTQOdFo51BBZ0vQ+gABvs9+sI1laQi7f5LYd+vvkdMEADaI0EANLJh3qAb2SDlGXOiqBCG14erV1ZlM9MgFACGC5L7h3HJwMtBCLsTXBDdA4L+hZ023ABfVIAUAY//CFMp0RkAABZ0OjlF9H0Dj6lMqp///86FA0aR2omoQfdCvOmd/CNRRecpmdTMh1yADKoAIA1U6geFlTRIoyX0g0nAOGxIPrIm6BBCS4tL1nQA3I3e1oZp8Tfc0RJXcq/ok/nCyqCBCl6cTRHIGYG5G8S9R38wpsVfcuCjzJf/7kmQlhONAVzkwyRmyaOv3ASTDhkzIeQJHmHDJopyfhPMKUQ8rmMYtzVAZ9/tEJuqQyoGY6gdVoP8jfoc/rRABBd8JoItoGFBOjI0RRM0WMgAAggJEFZ3QyMZpXHuCiAQYZFd3dL7lXfIzTTsyWMxdP9EoOAsWx5RSFvoxTp6U7UCISoxG4vR+n+ifu/XPVSjNm5pYTtm7slQmNCb9ChUXSygODcA2kepOAAtzsC7NNRvlyPWfwN9LrgTQ/UcQgqynQtUIe2F1l7SF//um97GHrCIgiuaE/Kbi4jhtdPECPHmH+PEdZH/xBHaIwPtwRh//7I8Qf/z5nj4BH1p//8/aYMEQDB4gPLcwu4QP1mPgEEYHrXCLZlAfiEJ86EMKsA7JEAOAWgMMDGUjPVziH+q2AYQLT33pisu9jix8KLCEnPqBnRT/fIRlIro2+6Eb2dM79T+d853CAYYzHbSL5rR954fIYPw/BGfwz88Pwz/8GnYZv6+P+/9qDTbcjn/IB/xlh9HK2d06m6vGTsghxeKRx0MBgG6Q5YSiqOXGhBtWMej/+5JkFIADCyRM4w9MPGPEOa1p6YnMNIkmFYwAAZORZJay8ACNjQY+cx3jzCsu9G+pkPTh8VrlCRRgQGBQzR1GGyeGqILI21KQRDBRSEECaCZRQIZcCINK6nd7vUm5JLZZJEiAF+V4vH4eij4M02FgQOKL7cBXzVjFiQsnO3JNMBLTmDAr+gvMTym4LBR5m88fq9cKw0FYcCQBSGCUkKjHJEhx39aQi4YUJFBQ9dbOI22hHn/AcZNmfyfD6z6ACO26z8xSQK3l066VbSkuJUYqLCo1BbQKI1NUBlKhHBMLlbgQ5SMQgekqUleX7sP/V7GK9t2XXlb31Hfty/e9YVZXUy3cnLX8/PG31r/iABvA5wTh9IOM/5MhFWr8+531f/6+PHr/AsBG49EkEjTI2iIYMbckNS95jJAQsOLS0BA5NsAIEmVEXCfZm9HplV1c6V9lY+VjgnFIsnW2GJtUHOwQNNk1DoX41Mp9/TPo3ay/C32oOC4OCAEAgxJkSDY8t/Ln///6//9FpgRQgUhgkgQKV7mhoNvacMs4iBDyCFocVabu//uSZA2AA4480c49AABOJMpZxhgADMDjSZz0AAF9Eak3noAAlmRbBcJQE7AWsYsEAHYBgfEUKK4Tg1dwbiGPRlF7HoNAUPxcOQfD5oPfvITPvU08RSZ4it37eVTuBq588Vx158Vyrz7jUDLDH2mOVcOGq/0hzfzwktcuWABChCCCgAUk5EMeThamPhiPzuqRqULSAxUJ0e1n3rFEwKiIJEfEf63u/e+xRtPrT+n33/+Srb46mJWLyqqy/wPa+FwJ/X8FSdv/Td8xEiCQQAAAdnSR1ogx1Cpz+TJJ1tqwrmWzCuw+CgmP4geIocAEJDhAbh2AmBM43vWWIeC6YkRIamr1uaPlnGoUPp6iPv4R/2mo5WImH7qlt6i52IAh884sAmJbWz3TfWZUthL3Df8pC42AQAAAQBUb2oxGdifqIF2X1UMD+h2x3sZw9EVDZngcAOBMKCwuXd5aoZTcIrGniIRVpHVV/bwW5A86kEFaVKEYdCQdrCh18uROVED740f93/pDelZQkYabnEPsQ4uq8kVbTASKScjgCLBxniX0nhpDvv/7kmQJgAMoS1dp5ixEU6TKzz0jSgzU91HsMGjBUg6pvYMJOCmQV6lNe7TeCpFywQYj6WSfkqVkZ4cU+PUcnNSzHM/tuqOs7kMpyGHv7+nfajWr0lKkzms7TGIzVOGn2RlVHpdt0VkXGOeHihdtCngZwdMinWvGhmZHMwCSjd3Baq03zFVY9SWeqEylg+aiCQpLpRYNM7BjPaRx0CBOZMJ3/uSGylz51vptRZA0QjcMZVQ5aamvhASVCyfJgOaEQ38sarxT2VMDqWUtsaqRiARKSl7zICEjISLQEhw2oo3ZkojIIkIAqeZHVa5BSwIZPgImyB4GBsW9BjmpULnP+POioqt20EAGuR/K/zzPPlqmp39MyH8l8p/qKBg0Eyls3sYkDPaPF03n1PKmREplF2RtGITACIAAACpxMIECy2cdtIWb3EpCNIbYHJegiNg2lbWOQJkwUJGq+0Vdb/T8EOJbxRt7SocDMWDTFe4Yt1Q4Q5DqYFDa1tu/9oTb6lOeUNVnKKOic8VzRRIACASnSCjKJ1BOoH2bpxIWPkHmTgtAwMj/+5JEDoADCD9S+ewaYGLjil08w3SLgTlLp5itAW+nKXTzCdhBOnFrEK3uzljhKV7dDpl2xVPqqkrQELd03LYK62N3ZN7dPdPMp+zF8PNV2XIu5dIlmTnAqwK3uEY83cNtPBhQo37kn5XG0yQAQCS4PMfC0Kauh1l9CcShrHMpD9yf7kpidiSYBtgo8ItSJVGAArHieXSYK2hBTcFAmsVDwCGCdQ1xxyFFTxnvB0ctBx7rhRxgFZ/5c3IsUTWVGDGITZWnDrpYohrE1aZpwlAEAFG1OlwZDTJuepvHgxnWo2tTsh5psIAmUaoqk9ySKb2gSPo5WWqWMtXpV35GchyM53ewaLEfndOT9660qj7Fb0W+rd/6bM5fLkHM5RrRUHx5JHY9jPrR/a6oiASAmdw61Uex2JJOKAhBfEyl4NNJRmO43j6jXUfFYmGXZO4TYWy3VGKjPY7r7d6mVFVwZBSn0yIVYB2bqtWciI6byKb7f//ll+pCMjlNYOXF6E7Jd7KZlKJkVRhFIwBYDSmQk1jLZkYPtCTigJJclvPSRJPj/USY//uSRA+AAwNOUvnmE9BiSbo/PMJqC+kxS6eYTsGJJKrw8wnu2aPQNa1gy81CqxVR3yLOO9sUmek+XfldSs0xCC3KUtm4PUyMxb9DL3fpGRe67cyV9/WxfYplm5kDCdh/0Z76NfJvCmJuhkAIAKNxtjYHGRCKwxobOrkVASyhUyAgFIkgkK2oKbTjz0QSS8KglXn0ldJSoZYI5NCQcqS2FoKOzc1JgNbFVV21Wg751oz+tv0/s2kvudHuVCKDCoPOXbczusKHv17WuSMgEApK88CEE8JKcy7eF0TaTP2EmtFxV6lXgM2RpCyB32hKpL35BWfUlJ0Xr90KiSilKPVDCbpaQ6KjbZfr/OiLNW+ylogiq/9l+hzJnBNDo8Wb5Z8yciFyHcI6UW2OutEpAbGctDoUrEdi4SR8nYwMymxIcayxA5GVR9Zss3cs9s5qG5+XAUje/CMzvRLmeFI7mW9lZ3KrO6EJX/1qZkdzr73Sz3hhDKshazXaGNZw7ihwH4JGjv9qdQ9Isn6UVbRVJjNCAEgEqUAkEOIUWBHmiwBFOLh1MP/7kkQMAALaK1J57ClgWgfaTzxliAwc2U3nsGkBYJNodMCayBGeXKuHEyf1qCB3njSB04gCTKKuS9DOJZmqRWdFmZR+2QANyuzqtWUet1f54Ki0Vh6ZDoTu5XCjGAIJht4t+ipDBOPWVxoNTMiUAE7jjMEuxYibnSUIZp3qcnrI1vEtCmT8F5HhEVBSgIQCDCx/ggHPuMKYIyTqu/RG5FVYIkrPqs5VITKmnfoulKvbqqKmosJWPt2PiA2UStjP2suWWZWZVYg0FG7WUmJwJNNJ+GQrRWhqtClp8qsEZiAmJhoZZfd6OVgLLBAlhvVBDyCSOz///puYtQKo0VH0LECwT8cVniYf//kUBhdxAw9CAoWSl9ueiAXEgMizDTf+KxPNN6KdEgAAAJ0jgcAGWl8D/FowCQhEYtHhYleWeOVzFOvNbNnq5MtHKN2ELPkwDJlRmqrHn19YPiCV0XmRCnhYPAkhZ4y0U8ByGpc7fsQ7fSC6SOz/ufiy+tW3hUlpJCKYKM2AymEcKiNFhWBEoBAsgB4oQLnTCZ6fSrZXBKEjgdL/+5JEE4ACoyRUeekRYFQFah0xJkIKaKdJphhNAVQU6PTDDZhf2IdClZ5n/3WVLiBpmKhtMeaehf92tCARCwxAByLBDC4hMIrCY5P+wqPGub1OSFRAAAAACgSxGKhbJbByWEIKbOKjg2dJEMhCodPccoHXgLVZKObn/hn2veL+1EO+/LgGxHCyEPqf7btrb84eQFS7O669/QAa/pFaxYFXnCyShvKydqxsgkAEKUwFAeloTjJYQ2Rmflo3HZ6jwQoIgzsbWeZhZC/GA2r6Gk7IzO6atO7LnNI7rksKKTZFljvaTugVh0eJVS9KpYsMYKPYr/6DQwAPb2y5PRNAEAAK4dioEbAhdcrkkeT5AO1ZKJ8UKW9qYzuxFFFSGzQwI7PW/M4RqXlnM2QkuYvJE8+0dgNhINlLncMy3e0WCt/XPGxOoUMJWfZ16djm7+xqd230ZBSASVywcgmH8fhyJp6tDkfx0CDx6zCJ92faLNndiOEs7vTpuYwg8h6/SLNLdi7OvUzsVkdSsyIz//qvLpK+vf7a2qxSQgyNV//qfMp/mbf5//uSRCoAApBJU2mGErBTRtpdMGKaCmD5UaegTxFIEWn88w3I7nAEgU5wWgbBOKQqeIY9D2qUiAwVXVeL4lfc2pldwfPeVoKPn8nZNogX/nnm7MFMgsNb7K7KxhbMXVb/00hCErkvgMFkeppUFykTzpdlrq3Ga23I0SWQCUoX0cw44hkRUkWFxMBBp871aajk3xwfyvU7OaWer1ejCqbW6r0RRXbqdmc5XM6f1lVTJbq1v/v+umiqCecn4YmxVp3//p1i6lOfoWaVoZ1VDUlEC3OFUZxelCIGThgQ1GtrJlC1ljWqvReoxKBfY2SFn3DAfNSnn2dFN/lu9lZgoJBUtnTBIKuWGwp7Sb3KTGDwUNka/UhE889Pm39zarG5W0imgUnK8Dhvko4LRn5xv35hqEu1cZ1K4tGJ8eEjyioT44bc0bVSaaSlRbLEP7qYO/UWOWY1Ga/e0XKLDndRMqN+lPqyTvV+zlQWI8qs+tq5h6EhMXYphna7//+uZ7VZBBxTb6I1FCkikCQU4RA5FYhhF6gO52R6uuqJjVB4CUGk0kqgj//7kmRDgAM2XdTrCCvUP0kajTxiWowRc0enoE+BGRDqdPYI4iMD6N/3uqWVB3V/0dPb/////9/Tr6/f0JDjks//88i5OcxEBAAhSsRfAkgVxMlYj0KR6hPg+e9ULLFQhlHCp1VA6m7bHw2PHMvumn88sO/+SzwsPLOZTEMR11caJspVY90Jan/sz9N9XQ7J5DlJ7PMDdRinI/9F///VVvZx/9SLXZkmUCSik4HSXUawB4EauTZaFYA4MB3puxe+2+sguW0x2/v/vl/XxTGcUJA8ZNnmn3J0p+mfMv3c/u8+UDLO//2zCf3VIndHaYUjRsgpPdaDOKAaJkvDoZ3FLIlsfo88yjxtCFXSCysPtEpiiEqr62Zv4J+TIAmMuxGGvraYWQSOJpLq+uGHEN5+xU/JSUiagdcwxG3W4qkOnzrfohGEOlVzIziQCTnA8lhZGxTQgNUOpxvBYGREKg1P8I8bObksicWUTktBNOdkscz7/ZQ0M9L/aFjYDYq/8sOdNJIOK3Dql2LQfd//2Ada/vcLLa0csYLYARMtCYEEVLAXEK//+5JkXAACwClT+eYTME/EGl88wmgMNLNJp6RNwQ6Gqb2GDFh4iEspOnjPsFF2iAiHRPNVvfcthFAuva0SzCBjxVnd9eeX6r2bfpOOwSvOdirmpIis+HUGiqn5OIidaTr3gDrAm68CMES3Xp9jljy5Uuu5P7UtCk0kIgRYBJUzqScKWCg4wUMFBXEQeyyxsVDkGALcFBgmCoqLgrY1jdkxEqRQQBxo6iwSG7WfxYV6PZ+qAt//+193lLN3mwmiAknvHM5RE1MMrzSPgt60qxMARN3eULqws6qMNXPsLav151fq4yIrKmiU4EctSxGGBYBLDAfCA4Wj1mg+OOmu7OdA0UAtQ8SpVIWF1gWeiokgIajsg2Od/lWMlmNXFCI0gAlIFGElRFaBx/C4P+WCwOwQveiwuvHnQ78FmSmIMHmTg2NIv09UeiznEixZlXix1dBetE1lDr9yBq1cnBAbWv/ugDUhAgAgAACri3BaCBuCOIKjU8+Xc6pHdtrMSknIPiWcEFVY1tEpRuPaNiPlH+Cgljdbzh4yAZPB1aCEULgVS4g///uSZHSAAvgf0+nsKtBIA/p/YYIeDBiBSeeZDEEej2l08wkoEBI+2A6gA+KAUxm7zpgRixxCGG1UJfgWJiwfIp/QX6cqBIJIBRVxSLCvQiAky5Icbqg5UxmgJ5AbG4hvp79q9HiSrVfyEeTOR4k8FCz5cPOUkWa1AsCX1qUjuabqu16FPf+Q7OutFSjegySAAADNRIG6tOzYWy7AYS8wFUJHH2OlVTajK6DCIZQJaWMyvdogoe9kQt91VwKBBST6QVtzrQ0TE1vmnUqPNo5YEBaxjViBk0LA+D8NC16wqiqqLpL0FEgoZCdpBZRONyjxFiaJBRcyAPZxWGk3RmLIkyvdTuwdsPTwYFSUkTAF1EJv9IBJMDzQgFxcS1LE8w88Rc6lBeoUL/xcx+oX4gutv//fzqnMvRCSQQSVPsvyFjWLYrz7ychB0wxCyRqsTBCs26jfGUcFybT422CVGba56c1b/YAxiTOzGae+pWXuW/pOZCN7tXMr8GTeCQvYSYutrCkpuADBnMtbVzYcDowabIOSrAsViXR1BDIkySyxnkehQ//7kmSLgAMWI1Jp6UMwRgI6fT0GRAwo1U+nmFLA/w2qvYYMYIIKFQ3JZ1CH9nHf6OFIesrxSsIi5gzo4iWZEWdyBne8mF0d2w2EmSr2f09t/oGN6///qbZ1lyhQEtJNXdmL0KYTtkHKUFy0V5+qEne4BuskoKwFFLpc2C1i06hjnLns2mhX6obc0ItyvfVkRnS0znCSGtNIPbjXmVKf+f53/+djgGTprVhkUv5N/Q6aw2da0+vtMsttZR5atuoMAAEdI7zBYGaRHNpynNLBS0yEAOz6eG2j8J0iByQSyPMUehfK1U0J8Tk178tyTMs/sDCTpxR6zRdlZ77v936oZTdytCAABFO83AlJUjrNZHDxwOoS6vO4rGaCoR3HGkFpqViBdGjcTfCxgsMRtEdc+z8Ka6+WjcKSIajM+fB/o2XtYpcYLqYGXqriQypZVZfFkuMmpqN7SVyXtTp1Ulc2t2VlIYIRAFYCtI2QcOtIHWpTmEkQvIGdTQiURpNK4I4rhxFFVVFLtpULzMuORfZJ5GU8jgOZY8VBQDmhd4t+KkLlOor/+5JkpYADJknVeegb4EHFSls8w0oMIKtR55hwQRSR6fj0jRh/WvcjzUAACAXeKiKsVZlSMifGfCTMAsMMn1pVEzIwCBxBST2cFwldww5b0hv2+893RK7oB6w+HUaRB2021ioGKudD5PbJrO7AuNgAwg9BRRlU5WE8NJS52SdSg8phydWmO3r0jtdiAIQKAyaIgWY6wXBuTngZFogHANkGIEye6KKFI6ccMyqNazUiJC3BsJGNPIWYIUAbAfWEhIAb+xI9a3u/YZRT/////Xt9CqmrQAAARMvbjyBznSwHaLYhorxMmZRomGwomNBUQgoKxG2Jo3vkeDYURrlaII2RTgCFRaNrox2KWySTkVjI5sz061b+iU9M3sWxyTFArQ5UOaAQg8ehpCn8WUxLsindJJ9EgACmBCCAkYPMsSrHAhwNkzC/H+SluRY0idqyBJK+Zpx+xsEEfqwon1AkKNWSHD9+d5ewGcQraTTkOi2rfcrUXQxXHGuel6tZCigAAUnvDRJbFYQRUjhRYpOFKISMiRpCqsgQUTMkUtQmGbCq5PO9//uSZL4AAwoe02sPMNBJI1p9PYMcC/EHTaeYTsEklilw8w2ga13lxrYWcHXtnBhtR5OLFITvGNeTKsHzwh0KWhzSpdlGVSKrTlQhWO6guhKCdbvrpkWZAAAICd7IHWgHZdjsK08CMvDpQKDFzFjCR3HO9xQV2gM2V7pHupGe6BxIRWF1oDLzDmSM0Qn/pTQVbXkNtV/anIzhJf+wbFnu8mUkYAAAAVixsCynSjTzHGVB5NJwKQccFPil4ZIUBSCJCiesQGCiNYlXUJBJJ+IFpsq9VbZQRO5Q5Bf6qZ3o6NsasFCTz9xhZ++diqG32Ktdd97pjNtsriQQBQCcG6GiKDjqcinFLLshhckarEWz+ATC2Hjne2yN/gwgWetHDqPY8OYtKQdazhgis4RLzQqN0m3SYMzJgvz3/6HGo4nr/lvDla43EQSCUm3K1kSMoYrAsMteQzbS3ybMzuEORBryAKuM+SXadNU3S76Fqo6ArCpe+YlTQUbI9tcbt1hTuq3ICNZDkF9ZyrhaGsQ4zgxNMWfS8GzjWId/n+m/+vD+T3///f/7kmTTgALIGtPp7DGwTGNqbT2DNgqci0mHpQ1BMIrqNPeYKO25D5ykba9H/SdpH1LChAJSTh4EJEJMo5gozAPCKcKvTZPELMvDGnEAnFh83rNn96o3yQE0wHBkNJoPz3wWvqQ1mOFlju58LOfQzoh90yaviRQXbHCYYeY0WuzO1NeElQbUuu04xqnIsc1rNqX92BRAAAABRLmJeJiBfRsItgyVyJoejckCXHMxL8ddNRtu30jsbWmYJbSbUVoj6ijJ2QpCmQUzF8Lo0gJY4z1iKY6jrQ8YMWyt36kPPqqX7GX+pnl8z+6ymf55UGICIKGoocAowiUTVVz5Flrs6xjZ6hcCIBYQABSTvMA2XE5U4EBokypSO/CbWxGZfnSs06AKnPIvzoefmn/wjDJGAsgi4DBZSgMks4ACAnB0UMrOA8/FGzajJfuTP0I/t465WWTcLqXCCfWIK8CgigAAACXM76RxAeDadhD9Oo/TpioNRJORUBonF50qrb6tHMtMbSJey30nSKqptu7DxqflxesCgIP02llM2PgLice9gaoWYeb/+5Jk7wADXTJV6wkbNmLGGno8w5KOEQtJp6RxAViL6bSXmOD/Z69QLX8FEfAaM9VwY7lTf3u33Ln67///rsTu3+2VeR/f3R80AEEAABEumo1lkSmR/KY1CaUHwoIljsyRMmpJLAnkwaammA06lDmkdkseukIb1s05QmR2HYh3Ll3+SQvDgJIEB9BUm0UzxcogyR7fv/dHUd2gndaddtO24JlggAAApS9EgPEgzjtCNuZhE6JOc5puEAvyDRb1VM0A6FhsUWm2E538KBGl7iAxCTq0SERw+ZSmrLDuXWRfbL0NMGRsV9LFKN7exC3Tqn3q15jzI3W7LfcQ9tFTNep/sX99rgjjUUi49vpDleSYRAAAAKRgJqYhIybnAMQNiwdKHQ4xesu0sxc5AWzlc+wOOGaC6bpQkzInw4J1BYrhVpwB2WoAVsg2qI1ltUAlm3s/d++WfZvogRQAAAAp2xUCeIfkQgnBhBwkUpUpAMM8k9EgqkfRJj5OFgbBULyeRkm+grFV2jpGeF26g2dfH0aTuGlSVc1U1jY7duuigjEQSLsT//uSZOOAA20c0msMMnJXhSo6MMKIDaEnS6eMVwknjel09gx4GD6KTgtHx7lgqAXoxCA4HR0ysWocbQ9jTBwJC4owQm1FnLxVEMijQAQJLdHPAsFBQE4OQKeaNCEOlAof0HCC7/KIGx1Rep3Ud3YrMyNRDokMikcomoOvez7nTQnsPOciz6HAiF3oa///+59hrpwRAQABTlU4+gxFyQgHLCMo8292WwsDtUtbbHL4eLCc6DJ4nFSYDnSRTdAQQtwUCFDzR993Zygt2sjFhwNi6WhVqa8L8icjeMeavWN5Cvu4uIsLzPM/MjiaZKTwv5/51OeT0sEAIuW2PKAgwRjlrt6JKcAAAITdUBoRwqOZCh62QWyAeSIJIe79SE1g0YEOiohUR1fZPFEsT36eTAiiAL3LdWIE5itx+56ZATEQQqQ15dC+m2ImBiHx2+KJBwZSp/Xu5T6qkGK20OAAAgJzUqi6l8OxJl7f11zwIzoEkVTZfE3qfVBYE+UoryaF0Buhhi5koOQ6HAnaFZhMzeQs7mGOPXtxZNyPz/EwUp1q/EzfDf/7kmTkggN7JNFR7DQwSSLqjTEmJg4BN0mnmHLBYY8pKMeYeEeTgHqHyW4sbeW92uUjZjUKWE7cmK7LClFT6AkJ27TXldTJwo56M4y+tpTIVSDKyZHrQ2CQAAcBAEAwglGOto5fPtzTnP1NemP4rp9dQudI5KEkWDGkAbKCOQBBzN/x+THivDNT6rjaAAAAZKV6fIKSOYsC2hyJRqxk7RcEY3xKr7pjcFJkwl3HV6siVlltNPRqm1Duo5nF56vKs+IcekfcrpuUMYv53CHl7ks038JuHHhS6bV0GHPhbkNEQDD4mHzJUd2oRmks9TkIRv/96LZGR+UzKc6kkZrqMCJAMmJ4XolbUUikiAQAAAJLk5og2UWeJunMspIny5OmGkxJFlbbzim6ikZnrYGyAOBjsDc6KjENXPq2lM2uma58xzFBCo6aLrueetimAtkhl/K580s0qL6MeQl/O2c4xK9lco44eaMpHeuo5OowOwDukMtMND2DxTrv/qK+v//iOKm5Ve5VseZGWO6PPnczjJAAABCU9p4XAd5jSTDsqULIjeb/+5JE4wAFblzRuw9Lcn4q2n08ZeIQlV1X57EVCf6e6jWGGqCsyKw0iii8Bw7OxOD/kctsJamJAcd4KKwXVkOQSmexQt6Y7RubxVDYOKH+84vjSWLrR0I5IJkK+/9spzlw2OS3Ou3/+pX/uZNQXDwHRTjfuN25s6WDhdseKNSGLtQgSOZx1drhI4Q1NwP01bXGxEQiSE3NMF6PWNxwJyrxbT3fuCP2J/HM7Yf00SC7ct7V66FwfKOxXKmkXWUaDQTKM+I9KkVHiISPmLuaV7Ubcf//Dh8D+ZU/9KsSZ7sZmojFHP7TGAihBQzN9qWf0pdGTP+yGqTQ2pxMdzPOyRs1ldqSISCKTla8qq3JTYuQxynaSc7LH7anpEWvjMruxiklNqUz2sZTElVJyrdAwfQMwjG1QFDwxCf/91iIRIG0bUoNOmxGFoFulWm4lUUTXakWMLAn25Sus/tnGMJDXC4/qdrFDjQNrXUSsVIk0ji5VZmpUqpgIEIAgAAk+6EHy9kD5RRpj8v3vshkZgSRDlklrfW3P3LMccVCe6tlp0iJo7kz//uSRImAA4VdWWnoFcZyx9sNZSWmjhljV+wsVQmxmCq1h6KIro11wXPpRkvPSbzEJiGTSUe4e5CLXJRLEZefvn1k0woo5qH0ZUY7df8z/2RzjiXfPXI1m/yrJp/6P/sijm0TT37IyiEAAAAQ7qNh8laW1xn8relf0qRvRznxg7F4KjcAU3dR9x569Byt5oe9jvZxYbPXO7/KvKWRyusKzzIoGAVWu0Xs1i8iaXX7SK1nGNAjN3P29OLOmOV9AGAhNYOVTPCIfeZ0Fz9/ZJqFRi6F8hIEAAAADUzX2XMhfdxXZZ+h41Kllo9kteY8J5YRp1b+GL1tZSvtIPmJZNOBpZTHWi666B5SOykYew7KUcUA8Rq2v6ezojQXz53Niza1Gz+lw+sZqbUoulqzdP+YIRvNIfFAY97AVW3KP+w08Nje3t90sOqHVbY4FvP9rLYSodaQLFEbBl0doSRCVMYFpBEPXjmBAIop2IKH0aju1xo/1CL1lQycYCoifCX2/SYIWf6mkfKIAwAU93xXYwKFNuislomUTBOrEwwI1YkcKSG3/v/7kmRoAgOEPFVrBh1AQYN7zDzCV42kp1WspHSBAQnuMYSJVn6ekm5DMpiuavdkLKpdR1nUWlSRa8XAvxaRTuXRGE1yMz+cY8KwsG5U1dt7WIShoiSapVc9sKl7EkTRsFzQyxzeoQNEj0w3YHm5R67pfZVv32KwVZmjB64dTXf8qtR1aEx1wppYjr7aAernUAVhpB6U7uUWVYAsJPCD0ZlIcb6Qf0EsvUfWv9IgaVCS35CtSro0A0iASSUpagUaIrG/zLHzh1tKXOOtJfn0nqUQGWXBYshY3Pme6v2a231nrH4IGYQUdfi+nWHBDqXuVptKdn29y/H4imxnkXfwlsmYsKkBA8FCQw44RvWD6A5g4r+84dXuhAGgAAE3MGUTgIAKW4wSYiWPAkqQLcPIkj9gb2OaZvR0MuLbbRwRINBP0pRHVwwJUZJRQ8bb6vCn9Ng4TFkjg1aYwK6QqJcNnJpV3xp9qVuUd1wTKJBISTdrbCwkwFplsDEWJ0LexZmDTFRRzGdzicp+88C6ZrdMLAxVZPmTa6ConFhM3Hf3bAvUoRr/+5JkdwADCT7a6wkbXFKkOs08YqQNaT1jrCBTUVYWqrWHiTBVfkbJsBJFp9rX8BiurkadK6shaHOqL7O9lWxE793Xbq63yM69BZ0YY2HYcaTSct/r0YQDAAAAKc8Ua40h0q7cBAhezF4wpi5liE/fK7Z6IOCyhgIIhqjYZSS1mvo/ImabMAwoEUNFBqugCDMIFro7EW0K33XpEPaHwXSxUU+a2LI/3q///prVNkogAApNyqZgoZiaREpF3sNITidolsClEKB8x9KxQE3Y7D+LweBwLFCx+kzJ7kkHhrPBgY+4z1G8CKJEUiygjXzX9Al493Fq2aZE6NQzJntX+z+32nrWk5419RWl6mm7kAFqhG9BGT1ubsSF2HGxeF0rp0SgCABAKTjq1TeZKSdqLAMDaKtWM8bs98Y6SJjRA54NAuGGNLn9/48hgmycOlRJE1Fpnxi1lIjzKoPckpjVCU1m2Jx6qOPXnrtAXHaf0f/o0b1Vq06NUEgEglJy0yxDBbyQE/F4LkuQcwD2uizIYlbPJh9qjEHKwTuPDamSFfTwPGD2//uSZHuAA5421+sPMeRU5YsNYSNojS1lZaeMtJEyDey1hg0iuLEuiW07D2jREwMZ1XZji1TnkLZ1srDjzov6HMzXbMrqjv+jNdtFS1fSbodttxpHk9jqp+m1RdOpm+v1GAkAAkpN2oimIJEtfLvJzxuPqXR26+5J9efiYe75EfBy9iDFnRuhZ+AjoLdA4CJI3zCvC5WZQXQOvlDabvvzqGf9/6vleLjo3e7e2s2kCAAQSU5KlhaDsLelxFTBUCiMNmJUhR2I5oBBSo6JAmMS01kNt5TQNN6AqDVao/+AKREDg1p4/MTiIYAx1wWqau0nKo9JIOs18wVnGQoKMOOhC2UQsTpHV3t0p3+SMgAEgouS0hA3SenwQwRosAdYm4at69U8ngtyus9jHML8HkDfNNGQjjf6uKKUy0MpxgmKO8ifX+tDuVAioT1SEBOa5Fxj9i/lBXXeSiQW76P1eRokEFApNy6GAFAL6NOEkIoEdHLCW49xgpFWsSmWjpjsjC0tW8JAR2Dqo78sNDhVT/pqLeEKF959d+nSy+QcqmvTWU+Zvv/7kGR7AALtHtlp6Rs0UoWLPTzFhIyJc2enjFOREYitdMMNxv6IrdPqhkd2u+n+3L3K+RUf0aZlV8iO7I1lqIruoRnEQiAQCQQlDwRrCEKB1HJchO6uC0uUsVSy0yAXAc3cyhg8iWfmyAPNLBpYWlU/fSAQWGsnRX/6ELmjE/TXlU9yd3u/orEiCACACk5MW4F4zBq2MdRiI5oZC84CQSURSIKw5VRWNk7y44P7R3RzwUjO5nVsz7vcG6sqbrmV9lZBPu7vETqJbhOws+vWGREL2ucbLC5bKyz47YyQB5oriuSyjLJIJAJBKjNQuSWNiQ5l05I/EIOjy6MigtUiUNym1iMI46BPcx0cACrUAzpLiYLMPjmkEmy6TcVTbu5pYiPrbs5xooJQElX+iXY74CTxvXVY0SQQCSSnJGoZLp9RUlQOAXm8L+uU25hNUsaChUmMCJGhb7wY1rNONyokeOzAkMjLhk+BfdLlnmU1XJWEOtEcTXEI8kPhFGaYEIdDbEKIvFYvB06o4mOY9jWW8Rba/LaikGSimhA0BMVqjUMAM//7kmSNAALaLFhp7BF0UCJbLWGDOYvcpWesJGsxOZUttYYU5pEJxjkNT8pCTXzhKYsqoTwdfChAUHRiRlST1RTCZjGnZw8+n/DupbKZ1KgEHjzLlvYWWG7SAo9dd3//rcdXXXFCQAEAiN5t8joDRPa9ogWitGGlQZATuyC12OSMkUQEKI1yY0bKufeHoV2TRcwrKfZjeafGnboVXq6pzJbV33QcVaAmmYlx/a77W385bahrGlaRrWtdsbjXyFsggAEpJyhuEEQyUYgF3SFDVnkYUyBcoCX5IGoR0hhz7FT+Lpvm11G7gAlIVYESqnAwHQAQ5pktyBIWQEt4XWHvqmdqvddQoWctX/55ciRKBABISbtIGPWDCIovJrlEdysPY9RJ0ukUQ8nT5c3JUGvEMBCHg5Rzi/RHsG75Fe5qkaaIn6pEqPz2MHT0i1aT+7nmk0zdKXm5v/lJEQJ3oLID7kJUUGMe0p9yKPSgAAE7QC+Cbk8EsxKqAlZrt4Q8Os5nN8opz/ZJXEwLCmdGo8XhejCPVzDlNl8oYSCJEEHISYEgYS//+5Jkn4BCySlX4wYT7E5EWu1hg0iLtK1dp40SUSuN6vTzDhAokH1XmScogXNNWhE9z+ywLNGkQQCSCES6pTAJ0c6bSjKxsavY3hPxxvnDtfB9EP6YVwZqOzpa+GjZZXHim02Yfu/jNeMjWKBlkTRCBkY+s/fNx73F/WAQWEjgsEAARjy27MTUfd7v//7e7vqinePDnkya7r58+WCAhDFMkRhniJPtKFvF+4//+wZaAOJ1oQiGe81EmUhKZARyJa20EQSSiinWMyZS+xznVbOu0G4DfOePuDBfSx+/s+BcF8R9xI2l3dUpUu5y2U94rZGIFwgSSzuIqFuXjd8mKQcLC5hYogoZre9fr/VJ5zvqZCjkOC+MGwgsVCrSgYOWsCNGZLhuLALG1NMhgAAABP7GQRN+dQPx5YYcGmh5pRrcK8cF4pLLL01S3Kmc2sK1mfpObHctSLsGSiCVx97KsiMguK1dyMyoCiQOSf9gphDezbF0b/9/8xlCKf+gZjCQM/kMYqlcKLZqIZAzoZnIIcz3/R44kUQQSQSVXeUygxjsrWST//uSRLaABE1j2mnsM15oiCtdPQKPjUlRXaykVIGBDe21gy2OaVndiZjT6whTSWAo7BSEAvLlSaMGV/9w5qR9aK6htXWwlqva+gsQfexjwYMABjxECIYQyhBA+A0qW0KkPU4Tn/6qyBAH9wmJkwymlyLls03StsJEIgA8AIWSsXYwC0Bjo87j/a0u1GEZoq3kdXuXrSGaoEb2lRGP0jYsUMuKW46UeIgoHU7/ocxlJI1fmERgop0Sf4qC4gdxgEB8MYiDmGG5148Hw/42nW4o4T2xIAgIAAABJxChNy3Lo/E6TR2uE2gCdxAMQIBOuNiUGkxPMUVkC5RItX0uFX577tM2IDAhI28pgGLFFoxbd7dd15lIQjP+iKU8p16VKKC4g5/V7JbNvvqxHkTMEFn7GogEAEANyl/H2fkxUEIlKAP1FA3GQv43EHnumSqrta4Us/Njve59mo3Dx5N59pOKgndR6AwZnvoym0Ih+hq771RyI9T/vTMUy3+qoqGL7fcekROCGsCiU91XCM5zA8cBK2UA2gQAACZc+YR4RjOOOzOXZ//7kkSXAALrMdth6CxMXSc67T0loowZEW2HmVExla0tNPQKbjL4dLOPdIJ4wyyJkab6iiPBIRbAqHO2OY658cNDkOTESeO5tKYsFm/9cRxqwpEu/brqYUcRo2SdDWZb17lKR3dkRn6IrL3ZP/Lq/96O39Cq0goi1khBaKIRJLsdGBzklbhhA+UcbhyNyWaHieL4dPL8u0PUz9iH/G137+YNTlcJS5qrVXXf7isUDcQAOHRq2khCo7mcgo32RbdftOfPy2M3tKUxv/1r/M1v8x/c5f6zzKzj2xshJFAIAFR04jtRzEqwVa8plcuDoaYwyBzGTErVifGSEhNePbLOZzUhtLyLtjjvn9IhyP7/X/EigGAky0S4jIJVEcxn/0OmK//yo7RQ0TtNaiuzn/i54Qhk3rEwAAACC3LUPGGcofB4kSLNCNIb0A7Bai5okT6BSbSkjZVVmjlCeSb1OCZDgZhQ6qu6AjrQolf1350b8wNQicQWaCapvFXIw6BXDBZwKsNFUzEBPFXgq9qwFd1dPrykNQABAAAk9gCccMkz5TgJIxP/+5JklYADAVrdaecVPFqFq308wrWLvKtrp6ROkR+OrPz0jZgYttRMVcjSsHL+nDWrnnzigLilk3naFLiFLD/IkhhAoRJgXSwY8XVqcswB/jAEljsXN21afVWxqgEAEApN2wMNEV+oc0+lYzXXYpvXemkh1hRSPSzhzAvSh0JZy51sYhf/swgALGlZnOzfUEYpQT6cS1yYhybxGsLLGAG1Zcgtyum6/2HaFQgHyyEERgwsEiv8JIG+mxpgAAEklMUFgE0IksFcTNTpUtxQNMjRECJm29ywsFBda1vvYpqs8V0m4v9YzLBIYE1nSCj3b97xVpfJklGqkCn//QZFQE7NVxtQgEAAlJy2hHEOq/LewAsJOsnZUSAHEwgE8dTRIuOGD89Hz+sdGDW8iIPBY9wMcGKEGTBKoldw/6Vs9qjmCXCr/t+pXFPQPh1jAZ92hi41D5xWoGlXjI+JC7bP1yNNEEoOXNRqi7i1qEkIuWDuKVPok9ICgZ1st9RGRFd1GRm83+zAozyN0SfCBS05xXvp/53xQUV/yy4IentbcgW+ITMQ//uSZKQAQvQmWusME0RIYvtdMekii6C1a6wwaVE2ku109I1qCClQwwl37e9GhXK4QSQASCUqbgS0bhLR8JkTtVk/PhrNLbGjDRbHDOoUOAc0sDGF0z6+/DgQWjRkmDCTpM8mkDbzrqouHaYtCPKRUsrciqjpd19q1JbX2bbaiGq7J9Dq+y2n/WqdKdkR2SZ/RdwbFfjXIqCkQCkwUZkozFISRZsURtVdOpEWmjgUoAs08YYe7sdNvugCg5l1M9lcwDBt+cHQWdiPgEkPCzksStKg+/3YvwIeo7pAAAEpyYhQwXxSqMmg5GhlRpuHQ3HazrxJko5VoBbQmAmxgeDNqyn+y3IiI4bc2N23Zgwlg67WiQ0Lue99IevbNtg8rQKPMLeUiq+Fdg89rFj17Jlg7asiYJdPM9cCAASUoApDvY0SpkKP8qx6FapUrHscTgaz14pHDS7z1Zd5Co/dp39doCsWgjLyYKBPmTWvIf34eUCR+OeXK/t/y7NIl3pxpkggAIpyXRBxDzJylj0J+yHweSfOJSMSjLg/bTBIDh1lGWzCS//7kmS6AAM8XFvp5hU8Q0M7jDzFdYukiWdHpE8RFxKs6PYM+lpo9GlSojiVurbdjZ1tr7hrmZFT7mRPVGStqtfaXo9kRUu2yX//tWruyFWFWFbtlgZUsDJdbywKD0yNJEgAAEAhQQwcMwcoV3XyuhFYfXCCdnY+I4C3NRtU+1aPmTkbLcUSxV4qeEoZfZ//2mAoLXf//sEzjxBPfqYDn2Mu7qK1WkAQCU3LcLGQbZBUS6FQC9TzShBODdVJY7n8qYs7drVU/CO5bU/M0pbUSPmWkh1RJA6nKVyI1IocCms5Cq16uxvmVXkb78j+ZoQaee2FEiVOONxQ3TQbVRa177qhRNlbYAAAAATewQKXVqHoE/jiR7Io2Y9TBUbMZo59vQ6XJEMmCZAdDCICBge8MMuTUMpYbOjkyVl52Eozdazq/8k9Mf//6rGmiQSAUUkoDFL6IEmTKSBUpsUglJvjfEsJnysAdcjVXzwWn3IiTUyj85GJ7g7adnZrgsPBII6JtWox6qlisp1q4rdzri5mV7uehGtGeq844SShk6t7RTtqSan/+5Jk0gAC/UzbaegT1EUiy30ww3OMBPlvp4xTURCLbHT0jdDt7vdr3ETRX/tTWP6x/HJbfyucv42VpgkAAEhyXHELwC0IqtA/CeMw3gbCCTwPGxwC4EG2bnmX0rPo2wPSgALEipwwHy5ZQxQdDW7+4ODQs2phceISyEMxUeSv6NFSKhCOnqK2WsETmJ0AIJP7Zfu5AAAU3JhX1wQY1BaxZSDnUrBPRACDcdT9+fZyiYy++m2ZXhYmrLSyibTa57O38tqDsPzmP96viFwhUK0NlLwRbdFULtBoap7NmOoeHD7h1LOvYKdCkW0QZNXKF7EngQlriQIBBRRTrktga0HdCJprOY/77DqF42UOOwfEjTVcvn8FNTJNN7oSSfHEtLd6dY633y+T1tvIVqw0VgqOCApeEQCFFKNQ3Nm12frahwy1GqplLT/YSixSXatbrPF3VYkUQAAASm5cX0FkjS9pEuxdTgOUKCZJcRgFhYKlaRsrkLMBGgMK4edugnCG7GLIiMixcKwXITH3zBVm3KG0KXCpPMLE7hTO7mq0JGX3xSmt//uSZOyAA4A22unsQq5ZQfs9PYZIjAi3YUekbxF6j+01h5keDE5Yoh3j0hYzftrXZGikSCCSknT0BGSoCHC7l9LifcEPg+6JB+WI4T8e0TrXUEDsHp52oAV5uMmrwVKmk9Kvpnn+vy3YvImOEgmmbl3h85cSLlnxIfUJT6RTe+13lzCSRb1ubjHqVDmJImEQQQACCUoSMPZyHgdZejvVJxkFHIQrNTpudxxGSAKh+xcgQ/TCKEC8EffMOVmqPaC1mJaimMtwRopMjKfne5r+Qs2aUIvn8ZnZypnSsObf/xEMMQKFyaQQY4VScPH1PPrRabZV632OJnraetQQBJSctTgnKeIKK8cIQ4y4JJhUxHxptarlVAkzO73zj2pLcn2pX8dw0epA9lHLvrLZkuZ/3Ji3GwqaLLTRMyupbgiwpSZSQLPr7mMkCVRixws7v6X6hAACU5LoAYJJ5zkJSO8kiqLHBcFTY7S/JlDkTx4Xd8dfSs1t+0bZZTqcxAYgayIFrVzSEZc8Y81VBudtfek2enkRZNwrNxwmoJzZN6Vzrqtonf/7kmTnAALfKdjp6Rq0XWY7TTzDh42A+WGnpG8xVhJrqPSOGkxjR5gnNlD3akIGDTqVhMvmZGGSSSASUkpMWQjYsY5kMtCJ4EtANdWnQ1I/h4pXvrmm4YtaS6+pkaugQYJXOyEa9LneUy8vM9LdycjfNgcRS7Cb/y4MFhgLPhQmAmjxUqlz96offKfd8x3fvWUAAAApOU7hFy3DYO4E+dt3ESEp1yoSUHUZRwIuHK4uz3EIjTBRVCqtjau6C1OFWnXa7bb+u7ZD433/vXLhNou/P5gvXqnar9Zt3dXrdv7tVYghJKYMinY696HcgsPiazdAgX7393M8IPMqPsyqAf//xN0EAgAEJp2zMdBgbERAOoKf2g9NcHSAESlcQHx7P0NZ0KUrLIkS7oq3pUXKVVGmaqk1//d6keiL0BimIn1ejf9//5BAl+i//rIHzniBouG2EIlA7Gv3wT/Y1UAAAEpuVWj/UM+EiqjLZz1R8B8r1fDbrQqRn86cc72lLT/fbV7Ik+g73/6aiw3/3+QV79kIUlMn0o6Kd1e639UrMdi696v/+5Jk6IADIjXYUeYbxFqGay09g0uOOSNbR5hTmWWlbDWWFOp7dSvQISDw46KrcHn0XKLlH3odLNa6mrUAAAUm5W0l6gQ9ciyhXE6HQnJSGbp1OktZsTy/yoH5PF0SNfzgg1DsGIQToRFP+/aLJP+fySFXc98hnhC+AFHwsSMnxgFk1i9pGlb/hoV/+T7DqZnrtZiAAABjwVZfi+sBlo1UnepC4HGrETkHI/NBJqyPMiGQJcZcY4GOSJO/IK5onm6pda5L7xUPlEw4SNeunFZDyX+ys1eik3T+zs+9qNGsZ77/zjbjO7YvPnM1x04n+88bEf/+bAaP642XVbPySAAAkpykqHoN0Tw0TPQx8aRbidDkOAkB4WalPFfsC5USYfnsoM01hP5CAzCrnVuYYUUESnv/zLx7Tx08mewTAwQyo13ORGTrysgtFsycv+SRUIpJ1hxSPbilYdSMXr/am0eCdAxxzZWyONkgkEgAqkFUSEkFMkkRxI4DVGEhh6ocuzLQxWwR5bkyQEweA2Ecoy95Q5WdjBxvWgxzAmJIi0FEWHsb//uSROKEAuxKWVHoFMRXRVsKPYM6jUTXW6es1MmiIKvo8wqaRB63aVPEpRoXKSQUHAz80iZ+46WPMJEavIly7rf1ua57VqqeeFlAFNabYICIBKToDQA+m+r2/GEmAKkJLmUVqLl+fDjX6OXTPvDQDQfVhqXcWHewmMIqNJIiwu8EDpkNudw4KFOln+tOWVLP+PC4Oghb3wAAAAAAK9xoS3FQgSLTTJ+4AEIAPKWx6JAYIwnzQdLaQ9fAqIeFmgWmdJX12nBTgBAqqBwpsho0TEYRSpz09guLGE4kDYAhNAJoSDQ7VlsSX2reCjICJqdyYLATEH33Qy1TTNWWsTX8jmjm7jPo49qppdDjQ5rLtatmydyGtyN4+QOsKw6JROw/0nxx1lr8akzO8+5MTHaetRUl2Xze5ZvGtrLe8dfu3nZq8vVbnbk7IqXO9asU1i3+W/3z/y12zq/nr/1rDv//z1HUsUlWnr5WMr1PZt1ceVtZVRKwOiv/+GTn/9UIoAAAAAAACEBiSqR6eIOBw1HWaDUYxioUBM+bkJFzrxQUVOWoYP/7kmTdgAMpJ1xtPQAMSsH7XaewAJyhiUbZnQADN6woZzWgAMIgJgQgGTkz4EKlKXEOy2D3gQABtkdGhwiH3RgUdEBc2CAKSjQQ4CkE010pVXshQAjaBQpf5e7bkwEcVpzqqUsqg2IxUvWX7QbZHYfCGn1RxZ0zlt6302eVKpkvzOfXPBLzIiN5I5PALcpfHq1rHeOs6mu4Vp2itVbEduU97Klx//////lstw7ZlvLNXK/vC3llj+NbWX///////Z13Pn/+H6//+1kiPVkTRUKgiZLAkKWVgsAIDR8QgBQ5RNZKRCRcVgV4HMlR9CHEujp00VDFywoaoWXUJXK6sJ8+fWy9e2y9eva4hPtQow8FREAgaKgqNBU6Ig6oGjwlDYlBVwNDAaDpU6VBWIv/9R6JYK1Hr5IpKikUsrCpDiwqBINNgKAF8QQOllMJROjWrrW1lb1l3NPfWteyq2uNLrattFBTQp0Ib4M+KKhMBSpMQU1FMy45OS41qqqqqqqqqqqqqqqqqqqqqqqqqqqqqqqqqqqqqqqqqqqqqqqqqqqqqqr/+5Jkaw/zSCE8hyXgADkjd8DksABAAAGkAAAAIAAANIAAAASqqqqqqqqqqqqqqqqqqqqqqqqqqqqqqqqqqqqqqqqqqqqqqqqqqqqqqqqqqqqqqqqqqqqqqqqqqqqqqqqqqqqqqqqqqqqqqqqqqqqqqqqqqqqqqqqqqqqqqqqqqqqqqqqqqqqqqqqqqqqqqqqqqqqqqqqqqqqqqqqqqqqqqqqqqqqqqqqqqqqqqqqqqqqqqqqqqqqqqqqqqqqqqqqqqqqqqqqqqqqqqqqqqqqqqqqqqqqqqqqqqqqqqqqqqqqqqqqqqqqqqqqqqqqqqqqqqqqqqqqqqqqqqqqqqqqqqqqqqqqqqqqqqqqqqqqqqqqqqqqqqqqqqqqqqqqqqqqqqqqqqqqqqqqqqqqqqqqqqqqqqqqqqqqqqqqqqqqqqqqqqqqqqqqqqqqqqqqqqqqqqqqqqqqqqqqqqqqqqqqqqqqqqqqqqqqqqqqqqqqqqqqqqqqqqqqqqqqqqqqqqqqqqqqqqqqqqqqqqqqqqqqqqqqqqqqqqqqqqqqqqqqqqqqq\" type=\"audio/x-wav\" />\n",
       "                    Your browser does not support the audio element.\n",
       "                </audio>\n",
       "              "
      ],
      "text/plain": [
       "<IPython.lib.display.Audio object>"
      ]
     },
     "metadata": {},
     "output_type": "display_data"
    }
   ],
   "source": [
    "!rm 'tmp.wav'\n",
    "SAMPLE_RATE = 44100\n",
    "file = 'samples/laughter/16-lfVsYaxc.wav'\n",
    "audio = AudioSegment.from_file(file)\n",
    "samples = audio.get_array_of_samples()[0:(SAMPLE_RATE*2)]\n",
    "audio = audio._spawn(samples)\n",
    "audio.export('tmp.wav')\n",
    "display(ipd.Audio('tmp.wav'))\n",
    "#.get_array_of_samples()"
   ]
  },
  {
   "cell_type": "code",
   "execution_count": 7,
   "metadata": {},
   "outputs": [
    {
     "name": "stdout",
     "output_type": "stream",
     "text": [
      "(1, 96, 64)\n",
      "rm: cannot remove 'tmp.wav': No such file or directory\n",
      "spawn\n",
      "spawned\n"
     ]
    }
   ],
   "source": [
    "tmp = 'tmp.wav'\n",
    "samples = getSamplesForFiles([\n",
    "    'samples/laughter/16-lfVsYaxc.wav',\n",
    "], number_of_samples=1)\n",
    "print(np.array(samples).shape)\n",
    "\n",
    "!rm $tmp\n",
    "SAMPLE_RATE = 44100\n",
    "audio = AudioSegment.empty()\n",
    "print('spawn')\n",
    "audio = audio._spawn(samples)\n",
    "print('spawned')"
   ]
  },
  {
   "cell_type": "code",
   "execution_count": 17,
   "metadata": {},
   "outputs": [
    {
     "name": "stdout",
     "output_type": "stream",
     "text": [
      "(88200,)\n",
      "(88200,)\n"
     ]
    }
   ],
   "source": [
    "#print(np.array(getSampleForFile('samples/laughter/16-lfVsYaxc.wav', 1)).shape)\n",
    "def getSamplesForFiles2(files, number_of_samples, log=False):\n",
    "    sample = np.array([])\n",
    "    if log:\n",
    "        print('number of samples', number_of_samples, 'reading %i files' % (len(files)), files[0:3])\n",
    "        \n",
    "    for file in files:\n",
    "        current_sample_size = math.ceil(sample.shape[0] / SAMPLE_RATE)\n",
    "        if current_sample_size < number_of_samples:\n",
    "            remaining_samples = number_of_samples - math.ceil(sample.shape[0] / SAMPLE_RATE)\n",
    "            audio = getSampleForFile(file, remaining_samples)\n",
    "            sample = np.append(sample, audio)\n",
    "            #print(sample.shape[0] / SAMPLE_RATE)\n",
    "\n",
    "    print(sample.shape)        \n",
    "    return sample\n",
    "    #return getFileAsVggishInput(sample)\n",
    "    \n",
    "    \n",
    "file = getSamplesForFiles2([\n",
    "    'samples/laughter/16-lfVsYaxc.wav',\n",
    "    'samples/laughter/3IC76o_lhFw.wav',\n",
    "], number_of_samples=2)\n",
    "print(np.array(file).shape)"
   ]
  },
  {
   "cell_type": "code",
   "execution_count": null,
   "metadata": {},
   "outputs": [],
   "source": [
    "\n",
    "audio.export(tmp)\n",
    "print('exported it')\n",
    "display(ipd.Audio(tmp))\n",
    "print('displayed it')"
   ]
  }
 ],
 "metadata": {
  "kernelspec": {
   "display_name": "Python 3",
   "language": "python",
   "name": "python3"
  },
  "language_info": {
   "codemirror_mode": {
    "name": "ipython",
    "version": 3
   },
   "file_extension": ".py",
   "mimetype": "text/x-python",
   "name": "python",
   "nbconvert_exporter": "python",
   "pygments_lexer": "ipython3",
   "version": "3.5.2"
  }
 },
 "nbformat": 4,
 "nbformat_minor": 2
}
