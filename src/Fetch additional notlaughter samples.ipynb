{
 "cells": [
  {
   "cell_type": "code",
   "execution_count": 2,
   "metadata": {},
   "outputs": [],
   "source": [
    "from audioUtils import downloadYtAndPrepareAudio\n",
    "from audioInput import getLaughTracks"
   ]
  },
  {
   "cell_type": "code",
   "execution_count": 11,
   "metadata": {},
   "outputs": [
    {
     "name": "stdout",
     "output_type": "stream",
     "text": [
      "id 6Ut63jiAMFU\n",
      "samples/notlaughter/additional_samples/6Ut63jiAMFU.wav\n",
      "id 0CyIOWePQa8\n",
      "samples/notlaughter/additional_samples/0CyIOWePQa8.wav\n",
      "id K5v_uSQ-JXg\n",
      "samples/notlaughter/additional_samples/K5v_uSQ-JXg.wav\n",
      "id P9ndY0ZhYsM\n",
      "samples/notlaughter/additional_samples/P9ndY0ZhYsM.wav\n",
      "id 0KASZp_tcWA\n",
      "samples/notlaughter/additional_samples/0KASZp_tcWA.wav\n",
      "id kxOuKg_LWYc\n",
      "samples/notlaughter/additional_samples/kxOuKg_LWYc.wav\n",
      "id WzfLJESSrtg\n",
      "samples/notlaughter/additional_samples/WzfLJESSrtg.wav\n",
      "id 5p7mpY8s8eM\n",
      "samples/notlaughter/additional_samples/5p7mpY8s8eM.wav\n",
      "id AM2_tU1lEuU\n",
      "samples/notlaughter/additional_samples/AM2_tU1lEuU.wav\n",
      "id GGoYBJvPEdY\n",
      "samples/notlaughter/additional_samples/GGoYBJvPEdY.wav\n",
      "id zrcpfwIkcoM\n",
      "samples/notlaughter/additional_samples/zrcpfwIkcoM.wav\n",
      "id bgbmXuDPdhg\n",
      "samples/notlaughter/additional_samples/bgbmXuDPdhg.wav\n",
      "id 8QpldDrUu98\n",
      "samples/notlaughter/additional_samples/8QpldDrUu98.wav\n",
      "id E0pOLukIB4s\n",
      "samples/notlaughter/additional_samples/E0pOLukIB4s.wav\n",
      "id -hrBbczS9I0\n",
      "samples/notlaughter/additional_samples/-hrBbczS9I0.wav\n",
      "id 8IPV2oSz8m4\n",
      "samples/notlaughter/additional_samples/8IPV2oSz8m4.wav\n",
      "id EmhkedOaOGk\n",
      "samples/notlaughter/additional_samples/EmhkedOaOGk.wav\n"
     ]
    }
   ],
   "source": [
    "files = [\n",
    "    '6Ut63jiAMFU',\n",
    "    '0CyIOWePQa8',\n",
    "    'K5v_uSQ-JXg',\n",
    "    'P9ndY0ZhYsM',\n",
    "    '0KASZp_tcWA',\n",
    "    'kxOuKg_LWYc',\n",
    "    'WzfLJESSrtg',\n",
    "    '5p7mpY8s8eM',\n",
    "    'AM2_tU1lEuU',\n",
    "    'GGoYBJvPEdY',\n",
    "    'zrcpfwIkcoM',\n",
    "    'bgbmXuDPdhg',\n",
    "    '8QpldDrUu98',\n",
    "    'E0pOLukIB4s',\n",
    "    '-hrBbczS9I0',\n",
    "    '8IPV2oSz8m4',\n",
    "    'EmhkedOaOGk',\n",
    "]\n",
    "for file in files:\n",
    "    downloadYtAndPrepareAudio(file, 'samples/notlaughter/additional_samples/%s' % file, False)"
   ]
  },
  {
   "cell_type": "code",
   "execution_count": 4,
   "metadata": {},
   "outputs": [
    {
     "name": "stdout",
     "output_type": "stream",
     "text": [
      "no cache file available, building one\n",
      "number of samples None reading 135 files ['samples/laughter/16-lfVsYaxc.wav', 'samples/laughter/3IC76o_lhFw.wav', 'samples/laughter/3LG9A7fUrPs.wav']\n",
      "Number of features per class {'notlaughter': 8383, 'laughter': 9003}\n"
     ]
    }
   ],
   "source": [
    "(features, labels, chunks) = getLaughTracks(None)"
   ]
  },
  {
   "cell_type": "code",
   "execution_count": null,
   "metadata": {},
   "outputs": [],
   "source": []
  }
 ],
 "metadata": {
  "kernelspec": {
   "display_name": "Python 3",
   "language": "python",
   "name": "python3"
  },
  "language_info": {
   "codemirror_mode": {
    "name": "ipython",
    "version": 3
   },
   "file_extension": ".py",
   "mimetype": "text/x-python",
   "name": "python",
   "nbconvert_exporter": "python",
   "pygments_lexer": "ipython3",
   "version": "3.5.2"
  }
 },
 "nbformat": 4,
 "nbformat_minor": 2
}
