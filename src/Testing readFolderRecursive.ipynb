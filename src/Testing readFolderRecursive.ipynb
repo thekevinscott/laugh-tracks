{
 "cells": [
  {
   "cell_type": "code",
   "execution_count": 1,
   "metadata": {},
   "outputs": [
    {
     "data": {
      "text/plain": [
       "[]"
      ]
     },
     "execution_count": 1,
     "metadata": {},
     "output_type": "execute_result"
    }
   ],
   "source": [
    "from audioUtils import readFolderRecursive\n"
   ]
  },
  {
   "cell_type": "code",
   "execution_count": 55,
   "metadata": {},
   "outputs": [
    {
     "data": {
      "text/plain": [
       "['samples/notlaughter/additional samples/dontinclude.ipynb']"
      ]
     },
     "execution_count": 55,
     "metadata": {},
     "output_type": "execute_result"
    }
   ],
   "source": [
    "import re\n",
    "\n",
    "\n",
    "from pydub import AudioSegment\n",
    "from pydub.silence import split_on_silence\n",
    "import subprocess\n",
    "import numpy as np\n",
    "import math\n",
    "import os\n",
    "import IPython.display as ipd\n",
    "def readFolderRecursive(folder, ext=None):\n",
    "    escaped_folder = '\\\\ '.join(folder.split(' '))\n",
    "    cmd = 'ls %s' % escaped_folder\n",
    "    pipe = subprocess.Popen(cmd, shell=True, stdout=subprocess.PIPE)\n",
    "    files = []\n",
    "    for line in pipe.stdout:\n",
    "        line = line.strip().decode('ascii')\n",
    "        file = '%s/%s' % (folder, line)\n",
    "        \n",
    "        if os.path.isdir(file):\n",
    "            files = files + readFolderRecursive(file, ext)\n",
    "        elif ext == None or re.match(ext,file):\n",
    "            files.append(file)\n",
    "                \n",
    "    return files\n",
    "readFolderRecursive('samples/notlaughter', r\"(.*)\\.wav$\")\n",
    "\n"
   ]
  },
  {
   "cell_type": "code",
   "execution_count": 50,
   "metadata": {},
   "outputs": [
    {
     "name": "stdout",
     "output_type": "stream",
     "text": [
      "no\n"
     ]
    }
   ],
   "source": [
    "\n",
    "if re.match(r\"(.*)\\.wav$\",\"foobar.ip\"):\n",
    "    print('yes')\n",
    "else:\n",
    "    print('no')"
   ]
  },
  {
   "cell_type": "code",
   "execution_count": null,
   "metadata": {},
   "outputs": [],
   "source": []
  }
 ],
 "metadata": {
  "kernelspec": {
   "display_name": "Python 3",
   "language": "python",
   "name": "python3"
  },
  "language_info": {
   "codemirror_mode": {
    "name": "ipython",
    "version": 3
   },
   "file_extension": ".py",
   "mimetype": "text/x-python",
   "name": "python",
   "nbconvert_exporter": "python",
   "pygments_lexer": "ipython3",
   "version": "3.5.2"
  }
 },
 "nbformat": 4,
 "nbformat_minor": 2
}
