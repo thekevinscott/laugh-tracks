{
 "cells": [
  {
   "cell_type": "code",
   "execution_count": 24,
   "metadata": {},
   "outputs": [],
   "source": [
    "from __future__ import print_function\n",
    "\n",
    "from random import shuffle\n",
    "\n",
    "import numpy as np\n",
    "import tensorflow as tf\n",
    "import os\n",
    "import vggish_input\n",
    "import vggish_params\n",
    "import vggish_slim\n",
    "from pydub import AudioSegment\n",
    "from audioModel import predict, train\n",
    "from pydub import AudioSegment, generators\n",
    "import IPython.display as ipd\n",
    "from IPython.core.display import display, HTML\n",
    "from audioInput import getLaughTracks, getNoise, processWavFile\n",
    "from audioDisplay import predictAudio\n",
    "import random\n",
    "from audioUtils import downloadYtAndPrepareAudio, shell, readFolder\n",
    "from audioTrain import trainAndSaveAndPredict, trainForNoise\n",
    "\n",
    "def getGenerator(generator, seconds):    \n",
    "    audio = AudioSegment.empty()\n",
    "    for i in range(seconds):\n",
    "        audio = audio + generator().to_audio_segment()\n",
    "    return audio\n",
    "        \n",
    "def buildNoise(path, seconds):\n",
    "    if os.path.isfile(path):    \n",
    "        shell('rm %s' % path)\n",
    "    SAMPLE_RATE = 44100\n",
    "    \n",
    "    def curriedSine():\n",
    "        return generators.Sine(440)\n",
    "\n",
    "    data = AudioSegment.empty()\n",
    "    for i in range(seconds * 2):\n",
    "        generator = random.choice([curriedSine, generators.WhiteNoise])\n",
    "        data = data + getGenerator(generator, 1)\n",
    "    #data = data + getGenerator(curriedSine, 3) + getGenerator(generators.WhiteNoise, 3)        \n",
    "    \n",
    "    audio = AudioSegment(data.get_array_of_samples(), sample_width=2, channels=2, frame_rate=44100)\n",
    "    audio.export(path, format='wav')\n",
    "    #display(ipd.Audio(path))    \n",
    "    \n",
    "def getModel(path):\n",
    "    files = readFolder('model/%s' % path)\n",
    "    if len(files) > 0:\n",
    "        return '%s/%s' % (path, files[0])\n",
    "    return None\n",
    "\n"
   ]
  },
  {
   "cell_type": "code",
   "execution_count": 25,
   "metadata": {},
   "outputs": [
    {
     "name": "stdout",
     "output_type": "stream",
     "text": [
      "5000\n"
     ]
    }
   ],
   "source": [
    "buildNoise('data/noise_5.wav', 5)\n",
    "audio = AudioSegment.from_file('data/noise_5.wav', format=\"wav\").set_channels(1)\n",
    "print(len(audio))"
   ]
  },
  {
   "cell_type": "code",
   "execution_count": 19,
   "metadata": {},
   "outputs": [
    {
     "name": "stdout",
     "output_type": "stream",
     "text": [
      "loading ./model/noise_100/20-20/model\n",
      "INFO:tensorflow:Restoring parameters from ./vggish_model.ckpt\n",
      "INFO:tensorflow:Restoring parameters from ./model/noise_100/20-20/model\n"
     ]
    },
    {
     "data": {
      "text/html": [
       "\n",
       "    \n",
       "    <style type=\"text/css\">\n",
       " #waveform {\n",
       " width: 200px;\n",
       " height: 200px;\n",
       " background: #EEE;\n",
       " }\n",
       "    </style>\n",
       "    \n",
       "    <div id=\"i9119625\"></div>\n",
       "    \n",
       "    <script src=\"https://thekevinscott.github.io/laugh-tracks/frontend-dist/static/js/main.8e06b391.js\"></script>\n",
       "    <script type=\"text/javascript\">\n",
       "        var jsonPreds = [\"sine\", \"sine\", \"sine\", \"const\", \"noise\"];\n",
       "        var predMarkers = [];\n",
       "        jsonPreds.forEach(function(pred, i) {\n",
       "            predMarkers.push({\n",
       "                label: pred,\n",
       "                timestamp: 0.960000 * i,\n",
       "            })\n",
       "        })\n",
       "        waveform.default(document.getElementById('i9119625'), 'data/noise_5.wav', predMarkers);\n",
       "    </script>\n",
       "    \n"
      ],
      "text/plain": [
       "<IPython.core.display.HTML object>"
      ]
     },
     "metadata": {},
     "output_type": "display_data"
    },
    {
     "name": "stdout",
     "output_type": "stream",
     "text": [
      "5\n",
      "[[[ 6.81729691  8.17968842  8.79310926 ...  4.25599191  4.18060643\n",
      "    4.66296442]\n",
      "  [ 6.7490601   8.13943612  8.76854253 ...  3.47534768  4.18105932\n",
      "    4.52777072]\n",
      "  [ 6.62232967  8.06519436  8.7257061  ...  3.95311028  4.01013175\n",
      "    4.48419575]\n",
      "  ...\n",
      "  [ 6.61723079  8.06618808  8.72516437 ...  4.01111436  4.17400471\n",
      "    4.60457887]\n",
      "  [ 6.74527709  8.13993887  8.76818235 ...  3.95292404  4.43291187\n",
      "    4.74145909]\n",
      "  [ 6.81240349  8.18006604  8.79348207 ...  4.28594891  4.398441\n",
      "    4.81720383]]\n",
      "\n",
      " [[ 6.74865667  8.13919659  8.76880305 ...  3.60187865  4.32114935\n",
      "    4.64371859]\n",
      "  [ 6.62232967  8.06519436  8.7257061  ...  3.95311028  4.01013175\n",
      "    4.48419574]\n",
      "  [ 6.61723079  8.06618808  8.72516437 ...  4.01111436  4.17400471\n",
      "    4.60457886]\n",
      "  ...\n",
      "  [ 6.75583692  8.13862855  8.76811374 ...  3.99662013  4.41779066\n",
      "    4.73573525]\n",
      "  [ 6.81729627  8.17968802  8.79310897 ...  4.25650065  4.18335971\n",
      "    4.65173085]\n",
      "  [ 6.74853788  8.13965399  8.76858842 ...  3.51159692  4.2072901\n",
      "    4.55957831]]\n",
      "\n",
      " [[ 6.62409775  8.06530048  8.72594428 ...  4.01366023  4.20435436\n",
      "    4.63122278]\n",
      "  [ 6.6275152   8.06503457  8.72549964 ...  3.95631907  4.32615798\n",
      "    4.72852134]\n",
      "  [ 6.75583692  8.13862855  8.76811374 ...  3.99662012  4.41779067\n",
      "    4.73573525]\n",
      "  ...\n",
      "  [ 6.81729627  8.17968802  8.79310897 ...  4.25650053  4.18335973\n",
      "    4.65173074]\n",
      "  [ 6.74853788  8.13965399  8.76858842 ...  3.51159683  4.20729011\n",
      "    4.55957826]\n",
      "  [ 6.62409775  8.06530048  8.72594428 ...  4.01366024  4.20435442\n",
      "    4.63122292]]\n",
      "\n",
      " [[ 6.6275152   8.06503457  8.72549964 ...  3.95631911  4.32615806\n",
      "    4.72852149]\n",
      "  [ 6.75583693  8.13862855  8.76811374 ...  3.99662004  4.4177907\n",
      "    4.73573526]\n",
      "  [ 6.81729627  8.17968802  8.79310897 ...  4.25650053  4.18335973\n",
      "    4.65173073]\n",
      "  ...\n",
      "  [11.98014277 11.63696442 11.25573724 ... 13.99993854 14.19107015\n",
      "   14.41491129]\n",
      "  [11.76986356 11.56085921 10.62516919 ... 13.78565134 13.9253815\n",
      "   13.96450426]\n",
      "  [10.64438196 11.49423203 12.10977366 ... 14.25705545 14.12187523\n",
      "   13.8973611 ]]\n",
      "\n",
      " [[11.73646785 11.86799704 10.93169956 ... 13.64725746 13.86374526\n",
      "   13.96372014]\n",
      "  [11.6175575  10.43974901 11.532907   ... 13.90726394 13.85924158\n",
      "   13.78364478]\n",
      "  [12.21344951 12.25202106 12.03131669 ... 13.83688602 13.82039419\n",
      "   13.79606508]\n",
      "  ...\n",
      "  [ 6.62409776  8.06530048  8.72594428 ...  4.01366025  4.20435454\n",
      "    4.63122319]\n",
      "  [ 6.6275152   8.06503456  8.72549964 ...  3.95631918  4.32615821\n",
      "    4.72852179]\n",
      "  [ 6.75583693  8.13862855  8.76811374 ...  3.99661988  4.41779078\n",
      "    4.73573529]]]\n"
     ]
    }
   ],
   "source": [
    "preds, audio = predictAudio('data/noise_5.wav', 'noise_100', ['sine', 'const', 'noise'], number_of_classes=3) \n",
    "print(len(preds))\n",
    "print(audio)"
   ]
  },
  {
   "cell_type": "code",
   "execution_count": 20,
   "metadata": {},
   "outputs": [
    {
     "data": {
      "text/plain": [
       "(5, 96, 64)"
      ]
     },
     "execution_count": 20,
     "metadata": {},
     "output_type": "execute_result"
    }
   ],
   "source": [
    "audio.shape"
   ]
  },
  {
   "cell_type": "code",
   "execution_count": 3,
   "metadata": {},
   "outputs": [],
   "source": [
    "predictAudio('data/noise.wav', getModel('noise_200'), number_of_classes = 3)"
   ]
  },
  {
   "cell_type": "code",
   "execution_count": null,
   "metadata": {},
   "outputs": [],
   "source": []
  }
 ],
 "metadata": {
  "kernelspec": {
   "display_name": "Python 3",
   "language": "python",
   "name": "python3"
  },
  "language_info": {
   "codemirror_mode": {
    "name": "ipython",
    "version": 3
   },
   "file_extension": ".py",
   "mimetype": "text/x-python",
   "name": "python",
   "nbconvert_exporter": "python",
   "pygments_lexer": "ipython3",
   "version": "3.5.2"
  }
 },
 "nbformat": 4,
 "nbformat_minor": 2
}
