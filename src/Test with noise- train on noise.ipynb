{
 "cells": [
  {
   "cell_type": "code",
   "execution_count": 2,
   "metadata": {},
   "outputs": [],
   "source": [
    "from __future__ import print_function\n",
    "\n",
    "from random import shuffle\n",
    "\n",
    "import numpy as np\n",
    "import tensorflow as tf\n",
    "import os\n",
    "import vggish_input\n",
    "import vggish_params\n",
    "import vggish_slim\n",
    "from pydub import AudioSegment\n",
    "from audioModel import predict, train\n",
    "from pydub import AudioSegment, generators\n",
    "import IPython.display as ipd\n",
    "from IPython.core.display import display, HTML\n",
    "\n",
    "from audioInput import getLaughTracks, getNoise, processWavFile\n",
    "\n",
    "from audioDisplay import displayAudioWithPredictions, displayWaveform\n",
    "import random\n",
    "from audioUtils import downloadYtAndPrepareAudio, shell\n",
    "from audioTrain import trainAndSaveAndPredict, trainForNoise\n",
    "\n",
    "slim = tf.contrib.slim\n",
    "        \n",
    "def predictAudio(path, model_name, number_of_classes = 2):\n",
    "    preds = predict(model_name, number_of_classes, processWavFile(path, log=False))\n",
    "    displayWaveform(path)\n",
    "    displayAudioWithPredictions(path, preds)    \n",
    "    return preds\n",
    "    \n",
    "def download(id):\n",
    "    downloadYtAndPrepareAudio(id, 'data', stripSilence=False)\n",
    "    \n",
    "def buildNoise(path):\n",
    "    if os.path.isfile(path):    \n",
    "        shell('rm %s' % path)\n",
    "\n",
    "    seconds = 1\n",
    "    SAMPLE_RATE = 44100\n",
    "    sine = generators.Sine(440).to_audio_segment()\n",
    "    noise = generators.WhiteNoise().to_audio_segment()\n",
    "    data = sine.append(noise).append(sine).append(noise)\n",
    "    audio = AudioSegment(data.get_array_of_samples(), sample_width=2, channels=1, frame_rate=44100)\n",
    "    audio.export(path, format='wav')\n",
    "    display(ipd.Audio(path))    "
   ]
  },
  {
   "cell_type": "code",
   "execution_count": null,
   "metadata": {},
   "outputs": [
    {
     "name": "stdout",
     "output_type": "stream",
     "text": [
      "training on noise, sin, and constant waves\n",
      "INFO:tensorflow:Restoring parameters from ./vggish_model.ckpt\n",
      "Step 1: loss 0.744655\n",
      "Step 2: loss 0.730587\n",
      "Step 3: loss 0.683018\n",
      "Step 4: loss 0.664216\n",
      "Step 5: loss 0.645353\n",
      "Step 6: loss 0.634081\n",
      "Step 7: loss 0.63677\n",
      "Step 8: loss 0.586641\n",
      "Step 9: loss 0.612462\n",
      "Step 10: loss 0.565283\n",
      "Step 11: loss 0.571428\n",
      "Step 12: loss 0.596604\n",
      "Step 13: loss 0.545807\n",
      "Step 14: loss 0.530995\n",
      "Step 15: loss 0.501951\n",
      "Step 16: loss 0.480909\n",
      "Step 17: loss 0.480662\n",
      "Step 18: loss 0.448291\n",
      "Step 19: loss 0.441195\n",
      "Step 20: loss 0.420814\n",
      "Step 21: loss 0.387551\n",
      "Step 22: loss 0.402901\n",
      "Step 23: loss 0.362714\n",
      "Step 24: loss 0.366308\n",
      "Step 25: loss 0.341224\n",
      "Step 26: loss 0.330172\n",
      "Step 27: loss 0.301576\n",
      "Step 28: loss 0.280578\n",
      "Step 29: loss 0.279834\n",
      "Step 30: loss 0.242498\n",
      "Step 31: loss 0.261355\n"
     ]
    }
   ],
   "source": [
    "trainForNoise(number_of_samples=100, epochs=5)"
   ]
  },
  {
   "cell_type": "code",
   "execution_count": null,
   "metadata": {},
   "outputs": [],
   "source": [
    "buildNoise('data/noise.wav')"
   ]
  },
  {
   "cell_type": "code",
   "execution_count": null,
   "metadata": {},
   "outputs": [],
   "source": [
    "preds = predictAudio('data/noise.wav', 'noise_100_1-1', number_of_classes = 3)\n",
    "print(preds)"
   ]
  },
  {
   "cell_type": "code",
   "execution_count": null,
   "metadata": {},
   "outputs": [],
   "source": []
  }
 ],
 "metadata": {
  "kernelspec": {
   "display_name": "Python 3",
   "language": "python",
   "name": "python3"
  },
  "language_info": {
   "codemirror_mode": {
    "name": "ipython",
    "version": 3
   },
   "file_extension": ".py",
   "mimetype": "text/x-python",
   "name": "python",
   "nbconvert_exporter": "python",
   "pygments_lexer": "ipython3",
   "version": "3.5.2"
  }
 },
 "nbformat": 4,
 "nbformat_minor": 2
}
