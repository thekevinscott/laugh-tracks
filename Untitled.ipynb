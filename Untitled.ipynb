{
 "cells": [
  {
   "cell_type": "code",
   "execution_count": 9,
   "metadata": {},
   "outputs": [],
   "source": [
    "#!python3 strip_silence_from_audio.py --file samples/laughter/ultimate_1.wav\n",
    "#!python3 strip_silence_from_audio.py --file samples/laughter/ultimate_2.wav"
   ]
  },
  {
   "cell_type": "code",
   "execution_count": null,
   "metadata": {},
   "outputs": [
    {
     "name": "stdout",
     "output_type": "stream",
     "text": [
      "16-lfVsYaxc.wav 0 mixWith\n",
      "16-lfVsYaxc.wav 1 changeGain\n",
      "16-lfVsYaxc.wav 2 changeGain\n",
      "3IC76o_lhFw.wav 0 changeGain\n",
      "3IC76o_lhFw.wav 1 changeGain\n",
      "3IC76o_lhFw.wav 2 mixWith\n",
      "3LG9A7fUrPs.wav 0 changeGain\n",
      "3LG9A7fUrPs.wav 1 mixWith\n",
      "3LG9A7fUrPs.wav 2 mixWith\n",
      "4B06Bh3i8Ms.wav 0 mixWith\n",
      "4B06Bh3i8Ms.wav 1 changeGain\n",
      "4B06Bh3i8Ms.wav 2 mixWith\n",
      "4z12ijqiFrY.wav 0 changeGain\n",
      "4z12ijqiFrY.wav 1 addCompression\n",
      "4z12ijqiFrY.wav 2 mixWith\n",
      "At6oITvbENo.wav 0 addCompression\n"
     ]
    }
   ],
   "source": [
    "!python3 augment_audio_data.py --input=samples/laughter --output augmented_samples/laughter --mix_dir samples/noise --number_of_transforms 3\n",
    "#display(ipd.Audio('tmp.wav'))"
   ]
  },
  {
   "cell_type": "code",
   "execution_count": null,
   "metadata": {},
   "outputs": [],
   "source": []
  }
 ],
 "metadata": {
  "kernelspec": {
   "display_name": "Python 3",
   "language": "python",
   "name": "python3"
  },
  "language_info": {
   "codemirror_mode": {
    "name": "ipython",
    "version": 3
   },
   "file_extension": ".py",
   "mimetype": "text/x-python",
   "name": "python",
   "nbconvert_exporter": "python",
   "pygments_lexer": "ipython3",
   "version": "3.5.2"
  }
 },
 "nbformat": 4,
 "nbformat_minor": 2
}
