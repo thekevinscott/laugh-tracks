{
 "cells": [
  {
   "cell_type": "code",
   "execution_count": 2,
   "metadata": {},
   "outputs": [
    {
     "name": "stdout",
     "output_type": "stream",
     "text": [
      "Traceback (most recent call last):\r\n",
      "  File \"/usr/local/lib/python3.5/dist-packages/absl/flags/_flag.py\", line 166, in _parse\r\n",
      "    return self.parser.parse(argument)\r\n",
      "  File \"/usr/local/lib/python3.5/dist-packages/absl/flags/_argument_parser.py\", line 114, in parse\r\n",
      "    type(argument)))\r\n",
      "TypeError: flag value must be a string, found \"<class 'int'>\"\r\n",
      "\r\n",
      "During handling of the above exception, another exception occurred:\r\n",
      "\r\n",
      "Traceback (most recent call last):\r\n",
      "  File \"audioTrain.py\", line 21, in <module>\r\n",
      "    'Number of samples to use')\r\n",
      "  File \"/usr/local/lib/python3.5/dist-packages/tensorflow/python/platform/flags.py\", line 58, in wrapper\r\n",
      "    return original_function(*args, **kwargs)\r\n",
      "  File \"/usr/local/lib/python3.5/dist-packages/absl/flags/_defines.py\", line 241, in DEFINE_string\r\n",
      "    DEFINE(parser, name, default, help, flag_values, serializer, **args)\r\n",
      "  File \"/usr/local/lib/python3.5/dist-packages/absl/flags/_defines.py\", line 81, in DEFINE\r\n",
      "    DEFINE_flag(_flag.Flag(parser, serializer, name, default, help, **args),\r\n",
      "  File \"/usr/local/lib/python3.5/dist-packages/absl/flags/_flag.py\", line 107, in __init__\r\n",
      "    self._set_default(default)\r\n",
      "  File \"/usr/local/lib/python3.5/dist-packages/absl/flags/_flag.py\", line 196, in _set_default\r\n",
      "    self.default = self._parse(value)\r\n",
      "  File \"/usr/local/lib/python3.5/dist-packages/absl/flags/_flag.py\", line 169, in _parse\r\n",
      "    'flag --%s=%s: %s' % (self.name, argument, e))\r\n",
      "absl.flags._exceptions.IllegalFlagValueError: flag --number_of_samples=5: flag value must be a string, found \"<class 'int'>\"\r\n"
     ]
    }
   ],
   "source": [
    "!python audioTrain.py --epochs 1 --number_of_samples 1"
   ]
  },
  {
   "cell_type": "code",
   "execution_count": null,
   "metadata": {},
   "outputs": [],
   "source": []
  }
 ],
 "metadata": {
  "kernelspec": {
   "display_name": "Python 3",
   "language": "python",
   "name": "python3"
  },
  "language_info": {
   "codemirror_mode": {
    "name": "ipython",
    "version": 3
   },
   "file_extension": ".py",
   "mimetype": "text/x-python",
   "name": "python",
   "nbconvert_exporter": "python",
   "pygments_lexer": "ipython3",
   "version": "3.5.2"
  }
 },
 "nbformat": 4,
 "nbformat_minor": 2
}
