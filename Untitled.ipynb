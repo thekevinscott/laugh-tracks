{
 "cells": [
  {
   "cell_type": "code",
   "execution_count": 3,
   "metadata": {},
   "outputs": [
    {
     "name": "stdout",
     "output_type": "stream",
     "text": [
      "training on laughter and not laughter\n",
      "2018-09-23 23:30:43.236152: I tensorflow/core/platform/cpu_feature_guard.cc:141] Your CPU supports instructions that this TensorFlow binary was not compiled to use: AVX2 FMA\n",
      "2018-09-23 23:30:43.724656: W tensorflow/core/framework/allocator.cc:108] Allocation of 201326592 exceeds 10% of system memory.\n",
      "2018-09-23 23:30:43.778579: W tensorflow/core/framework/allocator.cc:108] Allocation of 201326592 exceeds 10% of system memory.\n",
      "2018-09-23 23:30:43.880800: W tensorflow/core/framework/allocator.cc:108] Allocation of 201326592 exceeds 10% of system memory.\n",
      "2018-09-23 23:30:43.945322: W tensorflow/core/framework/allocator.cc:108] Allocation of 201326592 exceeds 10% of system memory.\n",
      "2018-09-23 23:30:44.069434: W tensorflow/core/framework/allocator.cc:108] Allocation of 201326592 exceeds 10% of system memory.\n",
      "Step 1: loss 0.679121\n",
      "[[0.53715646 0.47668839]\n",
      " [0.47969407 0.4892944 ]\n",
      " [0.48786646 0.4869654 ]\n",
      " [0.48660782 0.47642335]]\n",
      "[0 1 0 0]\n",
      "expected results [0, 0, 1, 1]\n"
     ]
    }
   ],
   "source": [
    "!python audioTrain.py --epochs \"1\" --number_of_samples \"1\""
   ]
  },
  {
   "cell_type": "code",
   "execution_count": null,
   "metadata": {},
   "outputs": [],
   "source": []
  }
 ],
 "metadata": {
  "kernelspec": {
   "display_name": "Python 3",
   "language": "python",
   "name": "python3"
  },
  "language_info": {
   "codemirror_mode": {
    "name": "ipython",
    "version": 3
   },
   "file_extension": ".py",
   "mimetype": "text/x-python",
   "name": "python",
   "nbconvert_exporter": "python",
   "pygments_lexer": "ipython3",
   "version": "3.5.2"
  }
 },
 "nbformat": 4,
 "nbformat_minor": 2
}
